{
 "cells": [
  {
   "attachments": {},
   "cell_type": "markdown",
   "metadata": {
    "toc": true
   },
   "source": [
    "<h1>Содержание<span class=\"tocSkip\"></span></h1>\n",
    "<div class=\"toc\"><ul class=\"toc-item\"><li><span><a href=\"#Подготовка-данных\" data-toc-modified-id=\"Подготовка-данных-1\"><span class=\"toc-item-num\">1&nbsp;&nbsp;</span>Подготовка данных</a></span></li><li><span><a href=\"#Исследование-задачи\" data-toc-modified-id=\"Исследование-задачи-2\"><span class=\"toc-item-num\">2&nbsp;&nbsp;</span>Исследование задачи</a></span></li><li><span><a href=\"#Борьба-с-дисбалансом\" data-toc-modified-id=\"Борьба-с-дисбалансом-3\"><span class=\"toc-item-num\">3&nbsp;&nbsp;</span>Борьба с дисбалансом</a></span></li><li><span><a href=\"#Тестирование-модели\" data-toc-modified-id=\"Тестирование-модели-4\"><span class=\"toc-item-num\">4&nbsp;&nbsp;</span>Тестирование модели</a></span></li><li><span><a href=\"#Чек-лист-готовности-проекта\" data-toc-modified-id=\"Чек-лист-готовности-проекта-5\"><span class=\"toc-item-num\">5&nbsp;&nbsp;</span>Чек-лист готовности проекта</a></span></li></ul></div>"
   ]
  },
  {
   "attachments": {},
   "cell_type": "markdown",
   "metadata": {},
   "source": [
    "Постановка задачи"
   ]
  },
  {
   "attachments": {},
   "cell_type": "markdown",
   "metadata": {},
   "source": [
    "Из «Бета-Банка» стали уходить клиенты. Каждый месяц. Немного, но заметно. Банковские маркетологи посчитали: сохранять текущих клиентов дешевле, чем привлекать новых.\n",
    "\n",
    "Нужно спрогнозировать, уйдёт клиент из банка в ближайшее время или нет. Вам предоставлены исторические данные о поведении клиентов и расторжении договоров с банком. \n",
    "\n",
    "Постройте модель с предельно большим значением *F1*-меры. Чтобы сдать проект успешно, нужно довести метрику до 0.59. Проверьте *F1*-меру на тестовой выборке самостоятельно.\n",
    "\n",
    "Дополнительно измеряйте *AUC-ROC*, сравнивайте её значение с *F1*-мерой.\n",
    "\n",
    "Источник данных: [https://www.kaggle.com/barelydedicated/bank-customer-churn-modeling](https://www.kaggle.com/barelydedicated/bank-customer-churn-modeling)"
   ]
  },
  {
   "attachments": {},
   "cell_type": "markdown",
   "metadata": {},
   "source": [
    "Описание данных"
   ]
  },
  {
   "attachments": {},
   "cell_type": "markdown",
   "metadata": {},
   "source": [
    "# Отток клиентов"
   ]
  },
  {
   "attachments": {},
   "cell_type": "markdown",
   "metadata": {},
   "source": [
    "Описание данных\n",
    "\n",
    "Признаки\n",
    "\n",
    "RowNumber — индекс строки в данных\n",
    "\n",
    "CustomerId — уникальный идентификатор клиента\n",
    "\n",
    "Surname — фамилия\n",
    "\n",
    "CreditScore — кредитный рейтинг\n",
    "\n",
    "Geography — страна проживания\n",
    "\n",
    "Gender — пол\n",
    "\n",
    "Age — возраст\n",
    "\n",
    "Tenure — сколько лет человек является клиентом банка\n",
    "\n",
    "Balance — баланс на счёте\n",
    "\n",
    "NumOfProducts — количество продуктов банка, используемых клиентом\n",
    "\n",
    "HasCrCard — наличие кредитной карты\n",
    "\n",
    "IsActiveMember — активность клиента\n",
    "\n",
    "EstimatedSalary — предполагаемая зарплата\n",
    "\n",
    "Целевой признак\n",
    "\n",
    "Exited — факт ухода клиента\n"
   ]
  },
  {
   "attachments": {},
   "cell_type": "markdown",
   "metadata": {},
   "source": [
    "используемые модели:\n",
    "логистическая регрессия, \n",
    "случайный лес, \n",
    "дерево решений"
   ]
  },
  {
   "attachments": {},
   "cell_type": "markdown",
   "metadata": {},
   "source": [
    "## Подготовка данных"
   ]
  },
  {
   "cell_type": "code",
   "execution_count": 1,
   "metadata": {},
   "outputs": [],
   "source": [
    "import pandas as pd\n",
    "import matplotlib.pyplot as plt\n",
    "import numpy as np\n",
    "from sklearn.tree import DecisionTreeClassifier\n",
    "from sklearn.ensemble import RandomForestClassifier\n",
    "from sklearn.linear_model import LogisticRegression\n",
    "from sklearn.model_selection import train_test_split\n",
    "from sklearn.preprocessing import OrdinalEncoder\n",
    "from sklearn.preprocessing import StandardScaler\n",
    "from sklearn.metrics import f1_score\n",
    "from sklearn.utils import shuffle\n",
    "from sklearn.metrics import roc_curve\n",
    "from sklearn.metrics import roc_auc_score\n",
    "from sklearn.metrics import accuracy_score\n",
    "from sklearn.metrics import confusion_matrix\n",
    "from sklearn.metrics import recall_score\n",
    "from sklearn.metrics import precision_score\n",
    "\n",
    "import warnings\n",
    "warnings.filterwarnings(\"ignore\")\n",
    "df = pd.read_csv('/datasets/Churn.csv')"
   ]
  },
  {
   "cell_type": "code",
   "execution_count": 2,
   "metadata": {
    "scrolled": true
   },
   "outputs": [
    {
     "data": {
      "text/html": [
       "<div>\n",
       "<style scoped>\n",
       "    .dataframe tbody tr th:only-of-type {\n",
       "        vertical-align: middle;\n",
       "    }\n",
       "\n",
       "    .dataframe tbody tr th {\n",
       "        vertical-align: top;\n",
       "    }\n",
       "\n",
       "    .dataframe thead th {\n",
       "        text-align: right;\n",
       "    }\n",
       "</style>\n",
       "<table border=\"1\" class=\"dataframe\">\n",
       "  <thead>\n",
       "    <tr style=\"text-align: right;\">\n",
       "      <th></th>\n",
       "      <th>RowNumber</th>\n",
       "      <th>CustomerId</th>\n",
       "      <th>Surname</th>\n",
       "      <th>CreditScore</th>\n",
       "      <th>Geography</th>\n",
       "      <th>Gender</th>\n",
       "      <th>Age</th>\n",
       "      <th>Tenure</th>\n",
       "      <th>Balance</th>\n",
       "      <th>NumOfProducts</th>\n",
       "      <th>HasCrCard</th>\n",
       "      <th>IsActiveMember</th>\n",
       "      <th>EstimatedSalary</th>\n",
       "      <th>Exited</th>\n",
       "    </tr>\n",
       "  </thead>\n",
       "  <tbody>\n",
       "    <tr>\n",
       "      <th>0</th>\n",
       "      <td>1</td>\n",
       "      <td>15634602</td>\n",
       "      <td>Hargrave</td>\n",
       "      <td>619</td>\n",
       "      <td>France</td>\n",
       "      <td>Female</td>\n",
       "      <td>42</td>\n",
       "      <td>2.0</td>\n",
       "      <td>0.00</td>\n",
       "      <td>1</td>\n",
       "      <td>1</td>\n",
       "      <td>1</td>\n",
       "      <td>101348.88</td>\n",
       "      <td>1</td>\n",
       "    </tr>\n",
       "    <tr>\n",
       "      <th>1</th>\n",
       "      <td>2</td>\n",
       "      <td>15647311</td>\n",
       "      <td>Hill</td>\n",
       "      <td>608</td>\n",
       "      <td>Spain</td>\n",
       "      <td>Female</td>\n",
       "      <td>41</td>\n",
       "      <td>1.0</td>\n",
       "      <td>83807.86</td>\n",
       "      <td>1</td>\n",
       "      <td>0</td>\n",
       "      <td>1</td>\n",
       "      <td>112542.58</td>\n",
       "      <td>0</td>\n",
       "    </tr>\n",
       "    <tr>\n",
       "      <th>2</th>\n",
       "      <td>3</td>\n",
       "      <td>15619304</td>\n",
       "      <td>Onio</td>\n",
       "      <td>502</td>\n",
       "      <td>France</td>\n",
       "      <td>Female</td>\n",
       "      <td>42</td>\n",
       "      <td>8.0</td>\n",
       "      <td>159660.80</td>\n",
       "      <td>3</td>\n",
       "      <td>1</td>\n",
       "      <td>0</td>\n",
       "      <td>113931.57</td>\n",
       "      <td>1</td>\n",
       "    </tr>\n",
       "    <tr>\n",
       "      <th>3</th>\n",
       "      <td>4</td>\n",
       "      <td>15701354</td>\n",
       "      <td>Boni</td>\n",
       "      <td>699</td>\n",
       "      <td>France</td>\n",
       "      <td>Female</td>\n",
       "      <td>39</td>\n",
       "      <td>1.0</td>\n",
       "      <td>0.00</td>\n",
       "      <td>2</td>\n",
       "      <td>0</td>\n",
       "      <td>0</td>\n",
       "      <td>93826.63</td>\n",
       "      <td>0</td>\n",
       "    </tr>\n",
       "    <tr>\n",
       "      <th>4</th>\n",
       "      <td>5</td>\n",
       "      <td>15737888</td>\n",
       "      <td>Mitchell</td>\n",
       "      <td>850</td>\n",
       "      <td>Spain</td>\n",
       "      <td>Female</td>\n",
       "      <td>43</td>\n",
       "      <td>2.0</td>\n",
       "      <td>125510.82</td>\n",
       "      <td>1</td>\n",
       "      <td>1</td>\n",
       "      <td>1</td>\n",
       "      <td>79084.10</td>\n",
       "      <td>0</td>\n",
       "    </tr>\n",
       "  </tbody>\n",
       "</table>\n",
       "</div>"
      ],
      "text/plain": [
       "   RowNumber  CustomerId   Surname  CreditScore Geography  Gender  Age  \\\n",
       "0          1    15634602  Hargrave          619    France  Female   42   \n",
       "1          2    15647311      Hill          608     Spain  Female   41   \n",
       "2          3    15619304      Onio          502    France  Female   42   \n",
       "3          4    15701354      Boni          699    France  Female   39   \n",
       "4          5    15737888  Mitchell          850     Spain  Female   43   \n",
       "\n",
       "   Tenure    Balance  NumOfProducts  HasCrCard  IsActiveMember  \\\n",
       "0     2.0       0.00              1          1               1   \n",
       "1     1.0   83807.86              1          0               1   \n",
       "2     8.0  159660.80              3          1               0   \n",
       "3     1.0       0.00              2          0               0   \n",
       "4     2.0  125510.82              1          1               1   \n",
       "\n",
       "   EstimatedSalary  Exited  \n",
       "0        101348.88       1  \n",
       "1        112542.58       0  \n",
       "2        113931.57       1  \n",
       "3         93826.63       0  \n",
       "4         79084.10       0  "
      ]
     },
     "execution_count": 2,
     "metadata": {},
     "output_type": "execute_result"
    }
   ],
   "source": [
    "df.head()"
   ]
  },
  {
   "cell_type": "code",
   "execution_count": 3,
   "metadata": {
    "scrolled": true
   },
   "outputs": [
    {
     "name": "stdout",
     "output_type": "stream",
     "text": [
      "<class 'pandas.core.frame.DataFrame'>\n",
      "RangeIndex: 10000 entries, 0 to 9999\n",
      "Data columns (total 14 columns):\n",
      " #   Column           Non-Null Count  Dtype  \n",
      "---  ------           --------------  -----  \n",
      " 0   RowNumber        10000 non-null  int64  \n",
      " 1   CustomerId       10000 non-null  int64  \n",
      " 2   Surname          10000 non-null  object \n",
      " 3   CreditScore      10000 non-null  int64  \n",
      " 4   Geography        10000 non-null  object \n",
      " 5   Gender           10000 non-null  object \n",
      " 6   Age              10000 non-null  int64  \n",
      " 7   Tenure           9091 non-null   float64\n",
      " 8   Balance          10000 non-null  float64\n",
      " 9   NumOfProducts    10000 non-null  int64  \n",
      " 10  HasCrCard        10000 non-null  int64  \n",
      " 11  IsActiveMember   10000 non-null  int64  \n",
      " 12  EstimatedSalary  10000 non-null  float64\n",
      " 13  Exited           10000 non-null  int64  \n",
      "dtypes: float64(3), int64(8), object(3)\n",
      "memory usage: 1.1+ MB\n"
     ]
    }
   ],
   "source": [
    "df.info()"
   ]
  },
  {
   "attachments": {},
   "cell_type": "markdown",
   "metadata": {},
   "source": [
    "В столбце Tenure  есть пропуски, нужно их чем-то заполнить средним или 0"
   ]
  },
  {
   "cell_type": "code",
   "execution_count": 4,
   "metadata": {},
   "outputs": [],
   "source": [
    "df['Tenure'] = df['Tenure'].fillna(0)"
   ]
  },
  {
   "cell_type": "code",
   "execution_count": 5,
   "metadata": {},
   "outputs": [
    {
     "data": {
      "text/plain": [
       "0"
      ]
     },
     "execution_count": 5,
     "metadata": {},
     "output_type": "execute_result"
    }
   ],
   "source": [
    "#Проверяем датафрейм на дубликаты\n",
    "df.duplicated().sum()"
   ]
  },
  {
   "attachments": {},
   "cell_type": "markdown",
   "metadata": {},
   "source": [
    "дубликатов нет"
   ]
  },
  {
   "cell_type": "code",
   "execution_count": 6,
   "metadata": {},
   "outputs": [
    {
     "data": {
      "text/plain": [
       "0"
      ]
     },
     "execution_count": 6,
     "metadata": {},
     "output_type": "execute_result"
    }
   ],
   "source": [
    "df['CustomerId'].duplicated().sum()"
   ]
  },
  {
   "cell_type": "code",
   "execution_count": 7,
   "metadata": {},
   "outputs": [
    {
     "data": {
      "text/plain": [
       "7068"
      ]
     },
     "execution_count": 7,
     "metadata": {},
     "output_type": "execute_result"
    }
   ],
   "source": [
    "df['Surname'].duplicated().sum()"
   ]
  },
  {
   "cell_type": "code",
   "execution_count": 8,
   "metadata": {},
   "outputs": [
    {
     "data": {
      "text/plain": [
       "array(['France', 'Spain', 'Germany'], dtype=object)"
      ]
     },
     "execution_count": 8,
     "metadata": {},
     "output_type": "execute_result"
    }
   ],
   "source": [
    "df['Geography'].unique()"
   ]
  },
  {
   "attachments": {},
   "cell_type": "markdown",
   "metadata": {},
   "source": [
    "Вывод\n",
    "\n",
    "RowNumber — столбец индекс строки в данных не несетя ценности для обучения модели -  можно удалить\n",
    "CustomerId — уникальный идентификатор клиента дубликатов нет - можно удалить.\n",
    "Surname — фамилия,  является идентифицирующей пользователя информацией, содержит 7068 дубликатов, 2932 уникальных,сложный столбец, но нет  ценности для качества будущей модели —  можно удалить.\n",
    "CreditScore — следует проверить распределение и сохранить данный столбец.\n",
    "Geography — всего 3 уникальных значения, можно вылнить преобразование OHE \n",
    "Gender — значение преобразовать — OHE \n",
    "Age — Exited — тип данных верны\n",
    "Tenure — сколько лет человек является клиентом банка\n",
    "Balance — баланс на счёте\n",
    "NumOfProducts — количество продуктов банка, используемых клиентом\n",
    "HasCrCard — наличие кредитной карты\n",
    "IsActiveMember — активность клиента\n",
    "EstimatedSalary — предполагаемая зарплата\n",
    "Exited — факт ухода клиента - целевой"
   ]
  },
  {
   "attachments": {},
   "cell_type": "markdown",
   "metadata": {},
   "source": [
    "## Исследование задачи"
   ]
  },
  {
   "attachments": {},
   "cell_type": "markdown",
   "metadata": {},
   "source": [
    "Проводим кодирование, убирая избыточный столец"
   ]
  },
  {
   "cell_type": "code",
   "execution_count": 9,
   "metadata": {},
   "outputs": [],
   "source": [
    "df_country = pd.get_dummies(df.Geography, drop_first=True)\n",
    "df_gender = pd.get_dummies(df.Gender, drop_first=True)"
   ]
  },
  {
   "attachments": {},
   "cell_type": "markdown",
   "metadata": {},
   "source": [
    "Формируем готовый датасет, удалив ненужные столбцы. Для столбца tenure заполняем ячейки NaN медианным значением по имеющимся значениям в столбце."
   ]
  },
  {
   "cell_type": "code",
   "execution_count": 10,
   "metadata": {},
   "outputs": [
    {
     "data": {
      "text/html": [
       "<div>\n",
       "<style scoped>\n",
       "    .dataframe tbody tr th:only-of-type {\n",
       "        vertical-align: middle;\n",
       "    }\n",
       "\n",
       "    .dataframe tbody tr th {\n",
       "        vertical-align: top;\n",
       "    }\n",
       "\n",
       "    .dataframe thead th {\n",
       "        text-align: right;\n",
       "    }\n",
       "</style>\n",
       "<table border=\"1\" class=\"dataframe\">\n",
       "  <thead>\n",
       "    <tr style=\"text-align: right;\">\n",
       "      <th></th>\n",
       "      <th>CreditScore</th>\n",
       "      <th>Age</th>\n",
       "      <th>Tenure</th>\n",
       "      <th>Balance</th>\n",
       "      <th>NumOfProducts</th>\n",
       "      <th>HasCrCard</th>\n",
       "      <th>IsActiveMember</th>\n",
       "      <th>EstimatedSalary</th>\n",
       "      <th>Male</th>\n",
       "      <th>Germany</th>\n",
       "      <th>Spain</th>\n",
       "    </tr>\n",
       "  </thead>\n",
       "  <tbody>\n",
       "    <tr>\n",
       "      <th>0</th>\n",
       "      <td>619</td>\n",
       "      <td>42</td>\n",
       "      <td>2.0</td>\n",
       "      <td>0.00</td>\n",
       "      <td>1</td>\n",
       "      <td>1</td>\n",
       "      <td>1</td>\n",
       "      <td>101348.88</td>\n",
       "      <td>0</td>\n",
       "      <td>0</td>\n",
       "      <td>0</td>\n",
       "    </tr>\n",
       "    <tr>\n",
       "      <th>1</th>\n",
       "      <td>608</td>\n",
       "      <td>41</td>\n",
       "      <td>1.0</td>\n",
       "      <td>83807.86</td>\n",
       "      <td>1</td>\n",
       "      <td>0</td>\n",
       "      <td>1</td>\n",
       "      <td>112542.58</td>\n",
       "      <td>0</td>\n",
       "      <td>0</td>\n",
       "      <td>1</td>\n",
       "    </tr>\n",
       "    <tr>\n",
       "      <th>2</th>\n",
       "      <td>502</td>\n",
       "      <td>42</td>\n",
       "      <td>8.0</td>\n",
       "      <td>159660.80</td>\n",
       "      <td>3</td>\n",
       "      <td>1</td>\n",
       "      <td>0</td>\n",
       "      <td>113931.57</td>\n",
       "      <td>0</td>\n",
       "      <td>0</td>\n",
       "      <td>0</td>\n",
       "    </tr>\n",
       "    <tr>\n",
       "      <th>3</th>\n",
       "      <td>699</td>\n",
       "      <td>39</td>\n",
       "      <td>1.0</td>\n",
       "      <td>0.00</td>\n",
       "      <td>2</td>\n",
       "      <td>0</td>\n",
       "      <td>0</td>\n",
       "      <td>93826.63</td>\n",
       "      <td>0</td>\n",
       "      <td>0</td>\n",
       "      <td>0</td>\n",
       "    </tr>\n",
       "    <tr>\n",
       "      <th>4</th>\n",
       "      <td>850</td>\n",
       "      <td>43</td>\n",
       "      <td>2.0</td>\n",
       "      <td>125510.82</td>\n",
       "      <td>1</td>\n",
       "      <td>1</td>\n",
       "      <td>1</td>\n",
       "      <td>79084.10</td>\n",
       "      <td>0</td>\n",
       "      <td>0</td>\n",
       "      <td>1</td>\n",
       "    </tr>\n",
       "    <tr>\n",
       "      <th>...</th>\n",
       "      <td>...</td>\n",
       "      <td>...</td>\n",
       "      <td>...</td>\n",
       "      <td>...</td>\n",
       "      <td>...</td>\n",
       "      <td>...</td>\n",
       "      <td>...</td>\n",
       "      <td>...</td>\n",
       "      <td>...</td>\n",
       "      <td>...</td>\n",
       "      <td>...</td>\n",
       "    </tr>\n",
       "    <tr>\n",
       "      <th>9995</th>\n",
       "      <td>771</td>\n",
       "      <td>39</td>\n",
       "      <td>5.0</td>\n",
       "      <td>0.00</td>\n",
       "      <td>2</td>\n",
       "      <td>1</td>\n",
       "      <td>0</td>\n",
       "      <td>96270.64</td>\n",
       "      <td>1</td>\n",
       "      <td>0</td>\n",
       "      <td>0</td>\n",
       "    </tr>\n",
       "    <tr>\n",
       "      <th>9996</th>\n",
       "      <td>516</td>\n",
       "      <td>35</td>\n",
       "      <td>10.0</td>\n",
       "      <td>57369.61</td>\n",
       "      <td>1</td>\n",
       "      <td>1</td>\n",
       "      <td>1</td>\n",
       "      <td>101699.77</td>\n",
       "      <td>1</td>\n",
       "      <td>0</td>\n",
       "      <td>0</td>\n",
       "    </tr>\n",
       "    <tr>\n",
       "      <th>9997</th>\n",
       "      <td>709</td>\n",
       "      <td>36</td>\n",
       "      <td>7.0</td>\n",
       "      <td>0.00</td>\n",
       "      <td>1</td>\n",
       "      <td>0</td>\n",
       "      <td>1</td>\n",
       "      <td>42085.58</td>\n",
       "      <td>0</td>\n",
       "      <td>0</td>\n",
       "      <td>0</td>\n",
       "    </tr>\n",
       "    <tr>\n",
       "      <th>9998</th>\n",
       "      <td>772</td>\n",
       "      <td>42</td>\n",
       "      <td>3.0</td>\n",
       "      <td>75075.31</td>\n",
       "      <td>2</td>\n",
       "      <td>1</td>\n",
       "      <td>0</td>\n",
       "      <td>92888.52</td>\n",
       "      <td>1</td>\n",
       "      <td>1</td>\n",
       "      <td>0</td>\n",
       "    </tr>\n",
       "    <tr>\n",
       "      <th>9999</th>\n",
       "      <td>792</td>\n",
       "      <td>28</td>\n",
       "      <td>0.0</td>\n",
       "      <td>130142.79</td>\n",
       "      <td>1</td>\n",
       "      <td>1</td>\n",
       "      <td>0</td>\n",
       "      <td>38190.78</td>\n",
       "      <td>0</td>\n",
       "      <td>0</td>\n",
       "      <td>0</td>\n",
       "    </tr>\n",
       "  </tbody>\n",
       "</table>\n",
       "<p>10000 rows × 11 columns</p>\n",
       "</div>"
      ],
      "text/plain": [
       "      CreditScore  Age  Tenure    Balance  NumOfProducts  HasCrCard  \\\n",
       "0             619   42     2.0       0.00              1          1   \n",
       "1             608   41     1.0   83807.86              1          0   \n",
       "2             502   42     8.0  159660.80              3          1   \n",
       "3             699   39     1.0       0.00              2          0   \n",
       "4             850   43     2.0  125510.82              1          1   \n",
       "...           ...  ...     ...        ...            ...        ...   \n",
       "9995          771   39     5.0       0.00              2          1   \n",
       "9996          516   35    10.0   57369.61              1          1   \n",
       "9997          709   36     7.0       0.00              1          0   \n",
       "9998          772   42     3.0   75075.31              2          1   \n",
       "9999          792   28     0.0  130142.79              1          1   \n",
       "\n",
       "      IsActiveMember  EstimatedSalary  Male  Germany  Spain  \n",
       "0                  1        101348.88     0        0      0  \n",
       "1                  1        112542.58     0        0      1  \n",
       "2                  0        113931.57     0        0      0  \n",
       "3                  0         93826.63     0        0      0  \n",
       "4                  1         79084.10     0        0      1  \n",
       "...              ...              ...   ...      ...    ...  \n",
       "9995               0         96270.64     1        0      0  \n",
       "9996               1        101699.77     1        0      0  \n",
       "9997               1         42085.58     0        0      0  \n",
       "9998               0         92888.52     1        1      0  \n",
       "9999               0         38190.78     0        0      0  \n",
       "\n",
       "[10000 rows x 11 columns]"
      ]
     },
     "metadata": {},
     "output_type": "display_data"
    }
   ],
   "source": [
    "df_features = df.join([df_gender, df_country]).drop([\"Exited\", \"RowNumber\", \"CustomerId\", \"Surname\"], axis=1)\n",
    "df_features  = df_features.drop(['Gender', \"Geography\"], axis = 1) \n",
    "df_features.Tenure.fillna(df_features.Tenure.median(), inplace = True)\n",
    "display(df_features)"
   ]
  },
  {
   "attachments": {},
   "cell_type": "markdown",
   "metadata": {},
   "source": [
    "Смотрим датасет"
   ]
  },
  {
   "cell_type": "code",
   "execution_count": 11,
   "metadata": {},
   "outputs": [
    {
     "data": {
      "text/plain": [
       "0       1\n",
       "1       0\n",
       "2       1\n",
       "3       0\n",
       "4       0\n",
       "       ..\n",
       "9995    0\n",
       "9996    0\n",
       "9997    1\n",
       "9998    1\n",
       "9999    0\n",
       "Name: Exited, Length: 10000, dtype: int64"
      ]
     },
     "metadata": {},
     "output_type": "display_data"
    }
   ],
   "source": [
    "df_target = df.Exited\n",
    "display(df_target)"
   ]
  },
  {
   "attachments": {},
   "cell_type": "markdown",
   "metadata": {},
   "source": [
    "Формируем выборки:\n",
    "Обучающая\n",
    "valid_features, valid_features\n",
    "\n",
    "Валидационная\n",
    "features_valid valid_target\n",
    "\n",
    "Тестовая\n",
    "test_features test_target"
   ]
  },
  {
   "cell_type": "code",
   "execution_count": 12,
   "metadata": {},
   "outputs": [
    {
     "name": "stdout",
     "output_type": "stream",
     "text": [
      "(4500, 11) (1500, 11) (4000, 11)\n",
      "(4500,) (1500,) (4000,)\n"
     ]
    }
   ],
   "source": [
    "features_temp, test_features, target_temp, test_target = train_test_split(df_features, df_target, test_size=0.4,random_state=54321)\n",
    "train_features, valid_features, train_target, valid_target = train_test_split(features_temp, target_temp, test_size=0.25, random_state=12345)\n",
    "\n",
    "print(train_features.shape, valid_features.shape, test_features.shape)\n",
    "print(train_target.shape,valid_target.shape, test_target.shape)"
   ]
  },
  {
   "cell_type": "code",
   "execution_count": 13,
   "metadata": {},
   "outputs": [
    {
     "data": {
      "text/plain": [
       "StandardScaler()"
      ]
     },
     "execution_count": 13,
     "metadata": {},
     "output_type": "execute_result"
    }
   ],
   "source": [
    "scaler = StandardScaler()\n",
    "numeric_columns = [\"CreditScore\", \"Age\", \"Tenure\", \"Balance\", \"EstimatedSalary\"]\n",
    "scaler.fit(train_features[numeric_columns])"
   ]
  },
  {
   "attachments": {},
   "cell_type": "markdown",
   "metadata": {},
   "source": [
    "Стандартизируем тестовую и валидную выборку"
   ]
  },
  {
   "cell_type": "code",
   "execution_count": 14,
   "metadata": {},
   "outputs": [
    {
     "data": {
      "text/html": [
       "<div>\n",
       "<style scoped>\n",
       "    .dataframe tbody tr th:only-of-type {\n",
       "        vertical-align: middle;\n",
       "    }\n",
       "\n",
       "    .dataframe tbody tr th {\n",
       "        vertical-align: top;\n",
       "    }\n",
       "\n",
       "    .dataframe thead th {\n",
       "        text-align: right;\n",
       "    }\n",
       "</style>\n",
       "<table border=\"1\" class=\"dataframe\">\n",
       "  <thead>\n",
       "    <tr style=\"text-align: right;\">\n",
       "      <th></th>\n",
       "      <th>CreditScore</th>\n",
       "      <th>Age</th>\n",
       "      <th>Tenure</th>\n",
       "      <th>Balance</th>\n",
       "      <th>EstimatedSalary</th>\n",
       "    </tr>\n",
       "  </thead>\n",
       "  <tbody>\n",
       "    <tr>\n",
       "      <th>1502</th>\n",
       "      <td>1.497448</td>\n",
       "      <td>-0.001777</td>\n",
       "      <td>0.147963</td>\n",
       "      <td>0.159732</td>\n",
       "      <td>0.076226</td>\n",
       "    </tr>\n",
       "    <tr>\n",
       "      <th>116</th>\n",
       "      <td>0.179598</td>\n",
       "      <td>-0.192140</td>\n",
       "      <td>0.470558</td>\n",
       "      <td>1.462843</td>\n",
       "      <td>0.259957</td>\n",
       "    </tr>\n",
       "    <tr>\n",
       "      <th>5786</th>\n",
       "      <td>-0.644058</td>\n",
       "      <td>0.093405</td>\n",
       "      <td>0.147963</td>\n",
       "      <td>-1.220711</td>\n",
       "      <td>0.000476</td>\n",
       "    </tr>\n",
       "    <tr>\n",
       "      <th>8965</th>\n",
       "      <td>-1.786881</td>\n",
       "      <td>1.806677</td>\n",
       "      <td>1.115747</td>\n",
       "      <td>1.113068</td>\n",
       "      <td>-1.324950</td>\n",
       "    </tr>\n",
       "    <tr>\n",
       "      <th>9172</th>\n",
       "      <td>0.941480</td>\n",
       "      <td>-0.001777</td>\n",
       "      <td>1.115747</td>\n",
       "      <td>1.017470</td>\n",
       "      <td>-0.134253</td>\n",
       "    </tr>\n",
       "  </tbody>\n",
       "</table>\n",
       "</div>"
      ],
      "text/plain": [
       "      CreditScore       Age    Tenure   Balance  EstimatedSalary\n",
       "1502     1.497448 -0.001777  0.147963  0.159732         0.076226\n",
       "116      0.179598 -0.192140  0.470558  1.462843         0.259957\n",
       "5786    -0.644058  0.093405  0.147963 -1.220711         0.000476\n",
       "8965    -1.786881  1.806677  1.115747  1.113068        -1.324950\n",
       "9172     0.941480 -0.001777  1.115747  1.017470        -0.134253"
      ]
     },
     "metadata": {},
     "output_type": "display_data"
    }
   ],
   "source": [
    "train_features[numeric_columns] = scaler.transform(train_features[numeric_columns])\n",
    "valid_features[numeric_columns] = scaler.transform(valid_features[numeric_columns])\n",
    "test_features[numeric_columns] = scaler.transform(test_features[numeric_columns])\n",
    "display(train_features[numeric_columns].head())"
   ]
  },
  {
   "attachments": {},
   "cell_type": "markdown",
   "metadata": {},
   "source": [
    "так как был вопрос по параметрам, возврщаю такую реализацию"
   ]
  },
  {
   "attachments": {},
   "cell_type": "markdown",
   "metadata": {},
   "source": [
    "Расммотрим модели на обучающей выборке:"
   ]
  },
  {
   "attachments": {},
   "cell_type": "markdown",
   "metadata": {},
   "source": [
    "1. Модель Дерево решений"
   ]
  },
  {
   "cell_type": "code",
   "execution_count": 15,
   "metadata": {},
   "outputs": [
    {
     "name": "stdout",
     "output_type": "stream",
     "text": [
      "max_depth: 8 F1: 0.5758157389635317\n"
     ]
    }
   ],
   "source": [
    "f1_score_max_tree = 0\n",
    "for depth in range(1,15,1):\n",
    "    model_tree=DecisionTreeClassifier(max_depth=depth,random_state=1234).fit(train_features,train_target)\n",
    "    prediction=model_tree.predict(valid_features)\n",
    "    if f1_score(valid_target,prediction)>f1_score_max_tree:\n",
    "        f1_score_max_tree=f1_score(valid_target,prediction)\n",
    "        depth_max = depth\n",
    "print('max_depth:',depth_max,'F1:',f1_score_max_tree )"
   ]
  },
  {
   "attachments": {},
   "cell_type": "markdown",
   "metadata": {},
   "source": [
    "2. Модель Случайный лес"
   ]
  },
  {
   "cell_type": "code",
   "execution_count": 16,
   "metadata": {},
   "outputs": [
    {
     "name": "stdout",
     "output_type": "stream",
     "text": [
      "estim_max= 27 depth_max= 18 F1_Score =  0.5852631578947369\n"
     ]
    }
   ],
   "source": [
    "f1_score_max_Forest=0\n",
    "for estim in range(1,55,2):\n",
    "    for depth in range(1,25,1):\n",
    "        model_forest = RandomForestClassifier(random_state=54321, n_estimators = estim, max_depth=depth)\n",
    "        model_forest.fit(train_features,train_target)\n",
    "        prediction = model_forest.predict(valid_features)\n",
    "        if f1_score(valid_target,prediction) > f1_score_max_Forest:\n",
    "            f1_score_max_Forest = f1_score(valid_target,prediction)\n",
    "            estim_max=estim\n",
    "            depth_max = depth\n",
    "print(\"estim_max=\", estim_max, \"depth_max=\", depth_max,\"F1_Score = \", f1_score_max_Forest)"
   ]
  },
  {
   "attachments": {},
   "cell_type": "markdown",
   "metadata": {},
   "source": [
    "лучшее estim_max= 27 depth_max= 18 F1_Score =  0.5852631578947369"
   ]
  },
  {
   "attachments": {},
   "cell_type": "markdown",
   "metadata": {},
   "source": [
    "3. Модель 3. Логистическая регрессия"
   ]
  },
  {
   "cell_type": "code",
   "execution_count": 17,
   "metadata": {},
   "outputs": [
    {
     "name": "stdout",
     "output_type": "stream",
     "text": [
      "F1_Score =  0.2639593908629442\n"
     ]
    }
   ],
   "source": [
    "model = LogisticRegression(random_state=54321)\n",
    "model.fit(train_features,train_target)\n",
    "prediction = model.predict(valid_features)\n",
    "print(\"F1_Score = \", f1_score(valid_target,prediction))"
   ]
  },
  {
   "attachments": {},
   "cell_type": "markdown",
   "metadata": {},
   "source": [
    "Рассматривая данные с дисбалансом (но, с переведенные категориальные и стандартизированные данные) тремя моделями можно сделать вывод, что саммая лучшая модель оказалась Случайный лес. При лучшем значении depth_max= 18 F1_Score = 0.5852, на обучающей выборке train_features,train_target."
   ]
  },
  {
   "attachments": {},
   "cell_type": "markdown",
   "metadata": {},
   "source": [
    "Далее рассмотрим на тестовой выборке"
   ]
  },
  {
   "attachments": {},
   "cell_type": "markdown",
   "metadata": {},
   "source": [
    "1. Дерево решений"
   ]
  },
  {
   "cell_type": "code",
   "execution_count": 18,
   "metadata": {},
   "outputs": [
    {
     "name": "stdout",
     "output_type": "stream",
     "text": [
      "max_depth: 4 F1: 0.5347826086956522\n"
     ]
    }
   ],
   "source": [
    "f1_score_max = 0\n",
    "for depth in range(1,15,1):\n",
    "    model_tree=DecisionTreeClassifier(max_depth=depth,random_state=1234).fit(test_features,test_target)\n",
    "    prediction=model_tree.predict(valid_features)\n",
    "    if f1_score(valid_target,prediction)>f1_score_max:\n",
    "        f1_score_max=f1_score(valid_target,prediction)\n",
    "        depth_max = depth\n",
    "print('max_depth:',depth_max,'F1:',f1_score_max )"
   ]
  },
  {
   "attachments": {},
   "cell_type": "markdown",
   "metadata": {},
   "source": [
    "2. Случайный лес"
   ]
  },
  {
   "cell_type": "code",
   "execution_count": 19,
   "metadata": {},
   "outputs": [
    {
     "name": "stdout",
     "output_type": "stream",
     "text": [
      "estim_max= 9 depth_max= 10 F1_Score =  0.5738396624472574\n"
     ]
    }
   ],
   "source": [
    "f1_score_max=0\n",
    "for estim in range(1,55,2):\n",
    "    for depth in range(1,25,1):\n",
    "        model_forest = RandomForestClassifier(random_state=54321, n_estimators = estim, max_depth=depth)\n",
    "        model_forest.fit(test_features,test_target)\n",
    "        prediction = model_forest.predict(valid_features)\n",
    "        if f1_score(valid_target,prediction) > f1_score_max:\n",
    "            f1_score_max = f1_score(valid_target,prediction)\n",
    "            estim_max=estim\n",
    "            depth_max = depth\n",
    "print(\"estim_max=\", estim_max, \"depth_max=\", depth_max,\"F1_Score = \", f1_score_max)"
   ]
  },
  {
   "attachments": {},
   "cell_type": "markdown",
   "metadata": {},
   "source": [
    "3. Логистическая регрессия"
   ]
  },
  {
   "cell_type": "code",
   "execution_count": 20,
   "metadata": {},
   "outputs": [
    {
     "name": "stdout",
     "output_type": "stream",
     "text": [
      "F1_Score =  0.32318501170960195\n"
     ]
    }
   ],
   "source": [
    "model_logistic=LogisticRegression()\n",
    "model_logistic.fit(test_features,test_target)\n",
    "prediction=model_logistic.predict(valid_features)\n",
    "f1_score_logistic= f1_score(valid_target,prediction)\n",
    "print(\"F1_Score = \", f1_score_logistic)"
   ]
  },
  {
   "attachments": {},
   "cell_type": "markdown",
   "metadata": {},
   "source": [
    "Найдем значения  AUC-ROC для "
   ]
  },
  {
   "attachments": {},
   "cell_type": "markdown",
   "metadata": {},
   "source": [
    "1) модели Дерево решений"
   ]
  },
  {
   "cell_type": "code",
   "execution_count": 21,
   "metadata": {},
   "outputs": [],
   "source": [
    "probabilities_tree=model_tree.predict_proba(valid_features)\n",
    "probabilities_one_valid_tree=probabilities_tree[:,1]\n",
    "fpr_tree,tpr_tree,thresholds=roc_curve(valid_target,probabilities_one_valid_tree)"
   ]
  },
  {
   "cell_type": "code",
   "execution_count": 22,
   "metadata": {},
   "outputs": [],
   "source": [
    "auc_roc_tree=roc_auc_score(valid_target,probabilities_one_valid_tree)"
   ]
  },
  {
   "cell_type": "code",
   "execution_count": 23,
   "metadata": {
    "scrolled": true
   },
   "outputs": [
    {
     "data": {
      "text/plain": [
       "0.6938509546816438"
      ]
     },
     "execution_count": 23,
     "metadata": {},
     "output_type": "execute_result"
    }
   ],
   "source": [
    "auc_roc_tree"
   ]
  },
  {
   "attachments": {},
   "cell_type": "markdown",
   "metadata": {},
   "source": [
    "2) Модели Случайны лес"
   ]
  },
  {
   "cell_type": "code",
   "execution_count": 24,
   "metadata": {},
   "outputs": [],
   "source": [
    "probabilities_forest=model_forest.predict_proba(valid_features)\n",
    "probabilities_one_valid_forest=probabilities_forest[:,1]\n",
    "fpr_forest,tpr_forest,thresholds=roc_curve(valid_target,probabilities_one_valid_forest)"
   ]
  },
  {
   "cell_type": "code",
   "execution_count": 25,
   "metadata": {},
   "outputs": [],
   "source": [
    "auc_roc_forest=roc_auc_score(valid_target,probabilities_one_valid_forest)"
   ]
  },
  {
   "cell_type": "code",
   "execution_count": 26,
   "metadata": {
    "scrolled": false
   },
   "outputs": [
    {
     "data": {
      "text/plain": [
       "0.8282471337438778"
      ]
     },
     "execution_count": 26,
     "metadata": {},
     "output_type": "execute_result"
    }
   ],
   "source": [
    "auc_roc_forest"
   ]
  },
  {
   "attachments": {},
   "cell_type": "markdown",
   "metadata": {},
   "source": [
    "3) Модели Логистическая регрессия"
   ]
  },
  {
   "cell_type": "code",
   "execution_count": 27,
   "metadata": {},
   "outputs": [],
   "source": [
    "probabilities_reg=model_logistic.predict_proba(valid_features)\n",
    "probabilities_one_valid_reg=probabilities_reg[:,1]\n",
    "fpr_log,tpr_log,thresholds=roc_curve(valid_target,probabilities_one_valid_reg)"
   ]
  },
  {
   "cell_type": "code",
   "execution_count": 28,
   "metadata": {},
   "outputs": [],
   "source": [
    "auc_roc_reg=roc_auc_score(valid_target,probabilities_one_valid_reg)"
   ]
  },
  {
   "cell_type": "code",
   "execution_count": 29,
   "metadata": {},
   "outputs": [
    {
     "data": {
      "text/plain": [
       "0.751318422536457"
      ]
     },
     "execution_count": 29,
     "metadata": {},
     "output_type": "execute_result"
    }
   ],
   "source": [
    "auc_roc_reg"
   ]
  },
  {
   "attachments": {},
   "cell_type": "markdown",
   "metadata": {},
   "source": [
    "Строим ROC-кривую"
   ]
  },
  {
   "cell_type": "code",
   "execution_count": 30,
   "metadata": {},
   "outputs": [
    {
     "data": {
      "text/plain": [
       "<Figure size 432x288 with 0 Axes>"
      ]
     },
     "metadata": {},
     "output_type": "display_data"
    },
    {
     "data": {
      "image/png": "[encoded data removed]",
      "text/plain": [
       "<Figure size 720x504 with 1 Axes>"
      ]
     },
     "metadata": {
      "needs_background": "light"
     },
     "output_type": "display_data"
    }
   ],
   "source": [
    "plt.figure()\n",
    "\n",
    "plt.figure(figsize=(10,7))\n",
    "plt.plot([0, 1], [0, 1], linestyle='--')\n",
    "plt.xlim([0.0, 1.0])\n",
    "plt.ylim([0.0, 1.0])\n",
    "plt.plot(fpr_log,tpr_log)\n",
    "plt.plot(fpr_tree,tpr_tree)\n",
    "plt.plot(fpr_forest,tpr_forest)\n",
    "plt.xlabel('False Positive Rate')\n",
    "plt.ylabel('True Positive Rate')\n",
    "plt.title('ROC-кривая')\n",
    "plt.legend(('Случайный лес','Логистическая регрессия','Дерево решения'),\n",
    "           loc= 'upper left') \n",
    "plt.show()"
   ]
  },
  {
   "attachments": {},
   "cell_type": "markdown",
   "metadata": {},
   "source": [
    " Случайный лес примерно равную пропорцию позитивных и негативных предсказаний, выдает заметно больше качественных предсказаний, но также сильно склоняется к ложно позитивным предсказаниям (FP). Точность и качество также низкое.\n",
    " \n",
    "Дерево решений склонно выдавать позитивные предсказания, очень высокое количество ложных позитивных предсказания (FP). Видим низкое значение F1, следовательно низкое качество модели, проблема в точности.\n",
    "\n",
    "Регрессия показала самое низкое значение F1 и полноты.  \n",
    " \n",
    " "
   ]
  },
  {
   "cell_type": "code",
   "execution_count": 31,
   "metadata": {},
   "outputs": [],
   "source": [
    "#features_temp, test_features, target_temp, test_target = train_test_split(features, target, test_size=0.2, random_state=12345)\n",
    "#train_features, valid_features, train_target, valid_target = train_test_split(features_temp, target_temp, test_size=0.25, random_state=12345)"
   ]
  },
  {
   "attachments": {},
   "cell_type": "markdown",
   "metadata": {},
   "source": [
    "Проверяем дисбаланс"
   ]
  },
  {
   "cell_type": "code",
   "execution_count": 32,
   "metadata": {
    "scrolled": true
   },
   "outputs": [
    {
     "data": {
      "text/plain": [
       "0    0.798\n",
       "1    0.202\n",
       "Name: Exited, dtype: float64"
      ]
     },
     "execution_count": 32,
     "metadata": {},
     "output_type": "execute_result"
    }
   ],
   "source": [
    "target_temp.value_counts(normalize = 1)"
   ]
  },
  {
   "cell_type": "code",
   "execution_count": 33,
   "metadata": {
    "scrolled": true
   },
   "outputs": [
    {
     "data": {
      "text/plain": [
       "<AxesSubplot:ylabel='Frequency'>"
      ]
     },
     "execution_count": 33,
     "metadata": {},
     "output_type": "execute_result"
    },
    {
     "data": {
      "image/png": "[encoded data removed]",
      "text/plain": [
       "<Figure size 72x72 with 1 Axes>"
      ]
     },
     "metadata": {
      "needs_background": "light"
     },
     "output_type": "display_data"
    }
   ],
   "source": [
    "# Построим диаграмму баланса классов\n",
    "target_temp.plot(kind ='hist', bins=2, figsize=(1,1))"
   ]
  },
  {
   "attachments": {},
   "cell_type": "markdown",
   "metadata": {},
   "source": [
    "дисбаланс примерно 80 на 20"
   ]
  },
  {
   "attachments": {},
   "cell_type": "markdown",
   "metadata": {},
   "source": [
    "## Борьба с дисбалансом"
   ]
  },
  {
   "attachments": {},
   "cell_type": "markdown",
   "metadata": {},
   "source": [
    "На предыдущем этапе выявили, что в  соотношение примерно 80 на 20: отрицательны ответов ≈80% , положитительных ≈ 20%. \n",
    "очевидно, необходмо увеличить количество положительных ответов  или уменьшить кол-во отрицтаельных ответов.\n"
   ]
  },
  {
   "cell_type": "code",
   "execution_count": 34,
   "metadata": {},
   "outputs": [],
   "source": [
    "def upsampling (features,target,repeat):\n",
    "    target_one=target[target==1]\n",
    "    target_null=target[target==0]\n",
    "    features_one=features[target==1]\n",
    "    features_null=features[target==0]\n",
    "    \n",
    "    upsampling_features=pd.concat([features_null]+[features_one]*repeat)\n",
    "    upsampling_target=pd.concat([target_null]+[target_one]*repeat)\n",
    "    \n",
    "    upsampling_features,upsampling_target=shuffle(upsampling_features,upsampling_target,random_state=1234)\n",
    "    \n",
    "    return upsampling_features,upsampling_target"
   ]
  },
  {
   "cell_type": "code",
   "execution_count": 35,
   "metadata": {},
   "outputs": [],
   "source": [
    "features_balance_up,target_balance_up=upsampling(train_features,train_target,4)"
   ]
  },
  {
   "cell_type": "code",
   "execution_count": 36,
   "metadata": {},
   "outputs": [],
   "source": [
    "def downsampling(features,target,fraction):\n",
    "    features_null=features[target==0]\n",
    "    features_one=features[target==1]\n",
    "    target_null=target[target==0]\n",
    "    target_one=target[target==1]\n",
    "    \n",
    "    downsampling_features=pd.concat([features_null.sample(frac=0.4,random_state=1234)]+[features_one])\n",
    "    downsampling_target=pd.concat([target_null.sample(frac=0.4,random_state=1234)]+[target_one])\n",
    "    \n",
    "    downsampling_features,downsampling_target=shuffle(downsampling_features,downsampling_target,random_state=1234)\n",
    "    return downsampling_features,downsampling_target"
   ]
  },
  {
   "cell_type": "code",
   "execution_count": 37,
   "metadata": {},
   "outputs": [],
   "source": []
  },
  {
   "attachments": {},
   "cell_type": "markdown",
   "metadata": {},
   "source": [
    "Метод 1. смотрим дерево "
   ]
  },
  {
   "cell_type": "code",
   "execution_count": 38,
   "metadata": {},
   "outputs": [
    {
     "name": "stdout",
     "output_type": "stream",
     "text": [
      "max_depth: 5 F1: 0.5809018567639257\n"
     ]
    }
   ],
   "source": [
    "f1_score_max_tree2 = 0\n",
    "for depth in range(1,15,1):\n",
    "    model_tree=DecisionTreeClassifier(max_depth=depth,random_state=1234).fit(features_balance_up,target_balance_up)\n",
    "    prediction=model_tree.predict(valid_features)\n",
    "    if f1_score(valid_target,prediction)>f1_score_max_tree2:\n",
    "        f1_score_max_tree2=f1_score(valid_target,prediction)\n",
    "        depth_max = depth\n",
    "print('max_depth:',depth_max,'F1:',f1_score_max_tree2 )"
   ]
  },
  {
   "attachments": {},
   "cell_type": "markdown",
   "metadata": {},
   "source": [
    "Регрессия"
   ]
  },
  {
   "cell_type": "code",
   "execution_count": 39,
   "metadata": {},
   "outputs": [
    {
     "name": "stdout",
     "output_type": "stream",
     "text": [
      "F1: 0.4782608695652174\n"
     ]
    }
   ],
   "source": [
    "model_logistic=LogisticRegression(random_state=54321).fit(features_balance_up,target_balance_up)\n",
    "prediction=model_logistic.predict(valid_features)\n",
    "print('F1:',f1_score(valid_target,prediction))"
   ]
  },
  {
   "attachments": {},
   "cell_type": "markdown",
   "metadata": {},
   "source": [
    "Лес"
   ]
  },
  {
   "cell_type": "code",
   "execution_count": 40,
   "metadata": {},
   "outputs": [
    {
     "name": "stdout",
     "output_type": "stream",
     "text": [
      "estim_max= 45 depth_max= 9 F1_Score =  0.629746835443038\n"
     ]
    }
   ],
   "source": [
    "f1_score_max_Forest2=0\n",
    "for estim in range(1,55,2):\n",
    "    for depth in range(1,25,1):\n",
    "        model_forest = RandomForestClassifier(random_state=54321, n_estimators = estim, max_depth=depth)\n",
    "        model_forest.fit(features_balance_up,target_balance_up)\n",
    "        prediction = model_forest.predict(valid_features)\n",
    "        if f1_score(valid_target,prediction) > f1_score_max_Forest2:\n",
    "            f1_score_max_Forest2 = f1_score(valid_target,prediction)\n",
    "            estim_max=estim\n",
    "            depth_max = depth\n",
    "print(\"estim_max=\", estim_max, \"depth_max=\", depth_max,\"F1_Score = \", f1_score_max_Forest2)"
   ]
  },
  {
   "attachments": {},
   "cell_type": "markdown",
   "metadata": {},
   "source": [
    "я случайно удалила комментарий, вот такая релизация подойдет? без class_weight='balanced'"
   ]
  },
  {
   "attachments": {},
   "cell_type": "markdown",
   "metadata": {},
   "source": [
    "Метод 2. "
   ]
  },
  {
   "cell_type": "code",
   "execution_count": 41,
   "metadata": {},
   "outputs": [],
   "source": [
    "features_balance_up_downsampling,target_balance_up_downsampling= downsampling(train_features,train_target,4)"
   ]
  },
  {
   "attachments": {},
   "cell_type": "markdown",
   "metadata": {},
   "source": [
    "Дерево"
   ]
  },
  {
   "cell_type": "code",
   "execution_count": 42,
   "metadata": {},
   "outputs": [
    {
     "name": "stdout",
     "output_type": "stream",
     "text": [
      "max_depth: 5 F1: 0.5987261146496815\n"
     ]
    }
   ],
   "source": [
    "f1_score_max = 0\n",
    "for depth in range(1,15,1):\n",
    "    model_tree=DecisionTreeClassifier(max_depth=depth,random_state=1234).fit(features_balance_up_downsampling,target_balance_up_downsampling)\n",
    "    prediction=model_tree.predict(valid_features)\n",
    "    if f1_score(valid_target,prediction)>f1_score_max:\n",
    "        f1_score_max=f1_score(valid_target,prediction)\n",
    "        depth_max = depth\n",
    "print('max_depth:',depth_max,'F1:',f1_score_max )"
   ]
  },
  {
   "attachments": {},
   "cell_type": "markdown",
   "metadata": {},
   "source": [
    "Регрессия"
   ]
  },
  {
   "cell_type": "code",
   "execution_count": 43,
   "metadata": {
    "scrolled": true
   },
   "outputs": [
    {
     "name": "stdout",
     "output_type": "stream",
     "text": [
      "F1: 0.4864\n"
     ]
    }
   ],
   "source": [
    "model_logistic=LogisticRegression(random_state=54321).fit(features_balance_up_downsampling,target_balance_up_downsampling)\n",
    "prediction=model_logistic.predict(valid_features)\n",
    "f1_score_logistic2 = f1_score(valid_target,prediction)\n",
    "print('F1:',f1_score_logistic2)"
   ]
  },
  {
   "attachments": {},
   "cell_type": "markdown",
   "metadata": {},
   "source": [
    "Лес"
   ]
  },
  {
   "cell_type": "code",
   "execution_count": 44,
   "metadata": {},
   "outputs": [
    {
     "name": "stdout",
     "output_type": "stream",
     "text": [
      "estim_max= 33 depth_max= 11 F1_Score =  0.6383701188455008\n"
     ]
    }
   ],
   "source": [
    "f1_score_max=0\n",
    "for estim in range(1,55,2):\n",
    "    for depth in range(1,25,1):\n",
    "        model_forest = RandomForestClassifier(random_state=54321, n_estimators = estim, max_depth=depth)\n",
    "        model_forest.fit(features_balance_up_downsampling,target_balance_up_downsampling)\n",
    "        prediction = model_forest.predict(valid_features)\n",
    "        if f1_score(valid_target,prediction) > f1_score_max:\n",
    "            f1_score_max = f1_score(valid_target,prediction)\n",
    "            estim_max=estim\n",
    "            depth_max = depth\n",
    "print(\"estim_max=\", estim_max, \"depth_max=\", depth_max,\"F1_Score = \", f1_score_max)"
   ]
  },
  {
   "attachments": {},
   "cell_type": "markdown",
   "metadata": {},
   "source": [
    "Метод 1 показал лучше результаты на всех трех моделях."
   ]
  },
  {
   "attachments": {},
   "cell_type": "markdown",
   "metadata": {},
   "source": [
    "1. Модель Логистчиеская регрессия"
   ]
  },
  {
   "cell_type": "code",
   "execution_count": 45,
   "metadata": {},
   "outputs": [],
   "source": [
    "probabilities_reg=model_logistic.predict_proba(valid_features)\n",
    "probabilities_one_valid_reg=probabilities_reg[:,1]\n",
    "fpr_log,tpr_log,thresholds=roc_curve(valid_target,probabilities_one_valid_reg)"
   ]
  },
  {
   "cell_type": "code",
   "execution_count": 46,
   "metadata": {},
   "outputs": [],
   "source": [
    "auc_roc_reg=roc_auc_score(valid_target,probabilities_one_valid_reg)"
   ]
  },
  {
   "cell_type": "code",
   "execution_count": 47,
   "metadata": {},
   "outputs": [
    {
     "data": {
      "text/plain": [
       "0.7587286758283674"
      ]
     },
     "execution_count": 47,
     "metadata": {},
     "output_type": "execute_result"
    }
   ],
   "source": [
    "auc_roc_reg"
   ]
  },
  {
   "attachments": {},
   "cell_type": "markdown",
   "metadata": {},
   "source": [
    "2. Модель Дерево решений"
   ]
  },
  {
   "cell_type": "code",
   "execution_count": 48,
   "metadata": {},
   "outputs": [],
   "source": [
    "#Дерево\n",
    "probabilities_tree=model_tree.predict_proba(valid_features)\n",
    "probabilities_one_valid_tree=probabilities_tree[:,1]\n",
    "fpr_tree,tpr_tree,thresholds=roc_curve(valid_target,probabilities_one_valid_tree)"
   ]
  },
  {
   "cell_type": "code",
   "execution_count": 49,
   "metadata": {},
   "outputs": [],
   "source": [
    "auc_roc_tree=roc_auc_score(valid_target,probabilities_one_valid_tree)"
   ]
  },
  {
   "cell_type": "code",
   "execution_count": 50,
   "metadata": {},
   "outputs": [
    {
     "data": {
      "text/plain": [
       "0.6880355227807936"
      ]
     },
     "execution_count": 50,
     "metadata": {},
     "output_type": "execute_result"
    }
   ],
   "source": [
    "auc_roc_tree"
   ]
  },
  {
   "attachments": {},
   "cell_type": "markdown",
   "metadata": {},
   "source": [
    "Модель 3. Случайный лес"
   ]
  },
  {
   "cell_type": "code",
   "execution_count": 51,
   "metadata": {},
   "outputs": [],
   "source": [
    "#Лес\n",
    "probabilities_forest=model_forest.predict_proba(valid_features)\n",
    "probabilities_one_valid_forest=probabilities_forest[:,1]\n",
    "fpr_forest,tpr_forest,thresholds=roc_curve(valid_target,probabilities_one_valid_forest)"
   ]
  },
  {
   "cell_type": "code",
   "execution_count": 52,
   "metadata": {},
   "outputs": [],
   "source": [
    "auc_roc_forest=roc_auc_score(valid_target,probabilities_one_valid_forest)"
   ]
  },
  {
   "cell_type": "code",
   "execution_count": 53,
   "metadata": {},
   "outputs": [
    {
     "data": {
      "text/plain": [
       "0.8402801578790258"
      ]
     },
     "execution_count": 53,
     "metadata": {},
     "output_type": "execute_result"
    }
   ],
   "source": [
    "auc_roc_forest"
   ]
  },
  {
   "attachments": {},
   "cell_type": "markdown",
   "metadata": {},
   "source": [
    "Строим ROC-кривую"
   ]
  },
  {
   "cell_type": "code",
   "execution_count": 54,
   "metadata": {},
   "outputs": [
    {
     "data": {
      "text/plain": [
       "<Figure size 432x288 with 0 Axes>"
      ]
     },
     "metadata": {},
     "output_type": "display_data"
    },
    {
     "data": {
      "image/png": "[encoded data removed]",
      "text/plain": [
       "<Figure size 720x504 with 1 Axes>"
      ]
     },
     "metadata": {
      "needs_background": "light"
     },
     "output_type": "display_data"
    }
   ],
   "source": [
    "plt.figure()\n",
    "\n",
    "plt.figure(figsize=(10,7))\n",
    "plt.plot([0, 1], [0, 1], linestyle='--')\n",
    "plt.xlim([0.0, 1.0])\n",
    "plt.ylim([0.0, 1.0])\n",
    "plt.plot(fpr_log,tpr_log)\n",
    "plt.plot(fpr_tree,tpr_tree)\n",
    "plt.plot(fpr_forest,tpr_forest)\n",
    "plt.xlabel('False Positive Rate')\n",
    "plt.ylabel('True Positive Rate')\n",
    "plt.title('ROC-кривая')\n",
    "plt.legend(('Случайный лес','Логистическая регрессия','Дерево решения'),\n",
    "           loc= 'upper left')\n",
    "plt.show()"
   ]
  },
  {
   "attachments": {},
   "cell_type": "markdown",
   "metadata": {},
   "source": [
    "Лучшее значение метрики auc roc=0.8426 у модели Случайный лес, затем у логистической регресии - 0.7594, а  у дерева - 0.6923"
   ]
  },
  {
   "attachments": {},
   "cell_type": "markdown",
   "metadata": {},
   "source": [
    "## Тестирование модели"
   ]
  },
  {
   "attachments": {},
   "cell_type": "markdown",
   "metadata": {},
   "source": [
    "Выводим итоги обучения:"
   ]
  },
  {
   "cell_type": "code",
   "execution_count": 55,
   "metadata": {},
   "outputs": [],
   "source": [
    "rezult1={'Дерево Решения':np.array([f1_score_max_tree,f1_score_max_tree2 ]),'Случайный лес':np.array([f1_score_max_Forest,f1_score_max_Forest2]),'Логистическая регрессия':np.array([f1_score_logistic,f1_score_logistic2])}\n",
    "rezult_df=pd.DataFrame(rezult1,index=['F1 без учета дисбаланса','F1 с учетом дисбаланса'])"
   ]
  },
  {
   "cell_type": "code",
   "execution_count": 56,
   "metadata": {},
   "outputs": [
    {
     "data": {
      "text/html": [
       "<div>\n",
       "<style scoped>\n",
       "    .dataframe tbody tr th:only-of-type {\n",
       "        vertical-align: middle;\n",
       "    }\n",
       "\n",
       "    .dataframe tbody tr th {\n",
       "        vertical-align: top;\n",
       "    }\n",
       "\n",
       "    .dataframe thead th {\n",
       "        text-align: right;\n",
       "    }\n",
       "</style>\n",
       "<table border=\"1\" class=\"dataframe\">\n",
       "  <thead>\n",
       "    <tr style=\"text-align: right;\">\n",
       "      <th></th>\n",
       "      <th>Дерево Решения</th>\n",
       "      <th>Случайный лес</th>\n",
       "      <th>Логистическая регрессия</th>\n",
       "    </tr>\n",
       "  </thead>\n",
       "  <tbody>\n",
       "    <tr>\n",
       "      <th>F1 без учета дисбаланса</th>\n",
       "      <td>0.575816</td>\n",
       "      <td>0.585263</td>\n",
       "      <td>0.323185</td>\n",
       "    </tr>\n",
       "    <tr>\n",
       "      <th>F1 с учетом дисбаланса</th>\n",
       "      <td>0.580902</td>\n",
       "      <td>0.629747</td>\n",
       "      <td>0.486400</td>\n",
       "    </tr>\n",
       "  </tbody>\n",
       "</table>\n",
       "</div>"
      ],
      "text/plain": [
       "                         Дерево Решения  Случайный лес  \\\n",
       "F1 без учета дисбаланса        0.575816       0.585263   \n",
       "F1 с учетом дисбаланса         0.580902       0.629747   \n",
       "\n",
       "                         Логистическая регрессия  \n",
       "F1 без учета дисбаланса                 0.323185  \n",
       "F1 с учетом дисбаланса                  0.486400  "
      ]
     },
     "execution_count": 56,
     "metadata": {},
     "output_type": "execute_result"
    }
   ],
   "source": [
    "rezult_df"
   ]
  },
  {
   "attachments": {},
   "cell_type": "markdown",
   "metadata": {},
   "source": [
    "Возьмем модель, показавшую лучшие результаты - Случайный лес с параметрами estim_max= 45 depth_max= 9, где F1_Score =  0.629746835443038 (чтобы убрать цикл, не очень быстро работает). переобучим модель случайный лес на тестовой выборке"
   ]
  },
  {
   "attachments": {},
   "cell_type": "markdown",
   "metadata": {},
   "source": [
    "Справка: тестовая выборка\n",
    "test_features test_target"
   ]
  },
  {
   "cell_type": "code",
   "execution_count": 57,
   "metadata": {
    "scrolled": true
   },
   "outputs": [
    {
     "name": "stdout",
     "output_type": "stream",
     "text": [
      "F1_Score =  0.6199893105291288\n"
     ]
    }
   ],
   "source": [
    "model_2_u = RandomForestClassifier(random_state=54321, n_estimators = 45, max_depth=9)\n",
    "model_2_u.fit(features_balance_up,target_balance_up)\n",
    "predict_test = model_2_u.predict(test_features)\n",
    "print(\"F1_Score = \", f1_score(test_target, predict_test))"
   ]
  },
  {
   "attachments": {},
   "cell_type": "markdown",
   "metadata": {},
   "source": [
    "результат получили чуть хуже предыдущего, но в пределах нормы."
   ]
  },
  {
   "attachments": {},
   "cell_type": "markdown",
   "metadata": {},
   "source": [
    "Рассмотрим метрику AUC-ROC и поведение ROC кривой"
   ]
  },
  {
   "cell_type": "code",
   "execution_count": 58,
   "metadata": {},
   "outputs": [
    {
     "name": "stdout",
     "output_type": "stream",
     "text": [
      "AUC_ROC= 0.8615074206633262\n"
     ]
    }
   ],
   "source": [
    "probabilities_test = model_2_u.predict_proba(test_features)\n",
    "probabilities_one_test = probabilities_test[:, 1]\n",
    "auc_roc = roc_auc_score(test_target, probabilities_one_test)\n",
    "print(\"AUC_ROC=\", auc_roc)"
   ]
  },
  {
   "cell_type": "code",
   "execution_count": 59,
   "metadata": {
    "scrolled": true
   },
   "outputs": [
    {
     "data": {
      "image/png": "[encoded data removed]",
      "text/plain": [
       "<Figure size 432x288 with 1 Axes>"
      ]
     },
     "metadata": {
      "needs_background": "light"
     },
     "output_type": "display_data"
    }
   ],
   "source": [
    "fpr, tpr, thresholds = roc_curve(test_target, probabilities_one_test ) \n",
    "plt.figure()\n",
    "plt.plot(fpr, tpr, linestyle='--')\n",
    "plt.plot([0, 1], [0, 1], linestyle='--')\n",
    "plt.xlim([0,1])\n",
    "plt.ylim([0,1])\n",
    "plt.xlabel(\"False Positive Rate\")\n",
    "plt.ylabel(\"True Positive Rate\")\n",
    "plt.title(\"ROC-кривая\")\n",
    "plt.show()"
   ]
  },
  {
   "attachments": {},
   "cell_type": "markdown",
   "metadata": {},
   "source": [
    "На основании вида ROC-кривой можно сделать вывод что модель дает хорошие показатели в предсказании."
   ]
  },
  {
   "attachments": {},
   "cell_type": "markdown",
   "metadata": {},
   "source": [
    "Исходная задача: \n",
    "Спрогнозировать возможность ухода клиенты из банка исходя из имеющихся данных.\n",
    "Выводы\n",
    "В ходе этой работы были изучены исходные данные о взаимодйствии банка и клиентов, включающие информацию об уходе клиентов из банка. Была проведена работа:разбивки  категориальных данных  на колонки с численными значениями (флагами), отброшены не информатиыные (для обучения моделей) колонки. Проведена стандартизация численных значений. В следствии данные были разбиты на целевые и предсказательные, было проведено обучение моделей трех типов, с целью подбора оптимальных гиперпараметров и выбора наилучшей модели.\n",
    "\n",
    "Аналогичное исследование было проведено с данными после операции балансировки классов, в результате котороый была выбрана наилучшая модель и ее гиперпараметры - - Случайный лес. Выбор осуществлялся по максимизации метрики F1_score, а так же по итогам построения ROC кривой\n",
    "\n",
    "Полученный показатель Случайного леса на тестовой выборке F1_Score = 0.619. А значени показателя AUC-ROC= 0.861. \n",
    "В итоге найдена модель, которая позволит выявить \"группу\" риска среди клиентов банка."
   ]
  },
  {
   "attachments": {},
   "cell_type": "markdown",
   "metadata": {},
   "source": [
    "## Чек-лист готовности проекта"
   ]
  },
  {
   "attachments": {},
   "cell_type": "markdown",
   "metadata": {},
   "source": [
    "Поставьте 'x' в выполненных пунктах. Далее нажмите Shift+Enter."
   ]
  },
  {
   "attachments": {},
   "cell_type": "markdown",
   "metadata": {},
   "source": [
    "- [x]  Jupyter Notebook открыт\n",
    "- [x]  Весь код выполняется без ошибок\n",
    "- [x]  Ячейки с кодом расположены в порядке исполнения\n",
    "- [x]  Выполнен шаг 1: данные подготовлены\n",
    "- [x]  Выполнен шаг 2: задача исследована\n",
    "    - [x]  Исследован баланс классов\n",
    "    - [x]  Изучены модели без учёта дисбаланса\n",
    "    - [x]  Написаны выводы по результатам исследования\n",
    "- [x]  Выполнен шаг 3: учтён дисбаланс\n",
    "    - [x]  Применено несколько способов борьбы с дисбалансом\n",
    "    - [x]  Написаны выводы по результатам исследования\n",
    "- [x]  Выполнен шаг 4: проведено тестирование\n",
    "- [x]  Удалось достичь *F1*-меры не менее 0.59\n",
    "- [x]  Исследована метрика *AUC-ROC*"
   ]
  }
 ],
 "metadata": {
  "ExecuteTimeLog": [
   {
    "duration": 2571,
    "start_time": "2023-05-21T11:10:18.496Z"
   },
   {
    "duration": 117,
    "start_time": "2023-05-21T11:10:41.652Z"
   },
   {
    "duration": 46,
    "start_time": "2023-05-21T11:11:32.257Z"
   },
   {
    "duration": 21,
    "start_time": "2023-05-21T11:11:49.008Z"
   },
   {
    "duration": 13,
    "start_time": "2023-05-21T11:18:47.624Z"
   },
   {
    "duration": 5,
    "start_time": "2023-05-21T11:25:06.926Z"
   },
   {
    "duration": 7,
    "start_time": "2023-05-21T11:30:06.424Z"
   },
   {
    "duration": 6,
    "start_time": "2023-05-21T11:32:20.553Z"
   },
   {
    "duration": 8,
    "start_time": "2023-05-21T11:32:30.840Z"
   },
   {
    "duration": 7,
    "start_time": "2023-05-21T11:33:07.103Z"
   },
   {
    "duration": 171,
    "start_time": "2023-05-21T11:33:21.432Z"
   },
   {
    "duration": 14,
    "start_time": "2023-05-21T11:33:29.473Z"
   },
   {
    "duration": 7,
    "start_time": "2023-05-21T11:33:53.635Z"
   },
   {
    "duration": 6,
    "start_time": "2023-05-21T11:38:14.830Z"
   },
   {
    "duration": 17,
    "start_time": "2023-05-21T11:52:26.336Z"
   },
   {
    "duration": 33,
    "start_time": "2023-05-21T11:53:45.936Z"
   },
   {
    "duration": 15,
    "start_time": "2023-05-21T11:56:51.311Z"
   },
   {
    "duration": 8,
    "start_time": "2023-05-21T11:57:17.599Z"
   },
   {
    "duration": 8,
    "start_time": "2023-05-21T11:57:47.628Z"
   },
   {
    "duration": 7,
    "start_time": "2023-05-21T11:58:34.096Z"
   },
   {
    "duration": 17,
    "start_time": "2023-05-21T11:59:19.902Z"
   },
   {
    "duration": 18,
    "start_time": "2023-05-21T11:59:56.336Z"
   },
   {
    "duration": 12,
    "start_time": "2023-05-21T12:00:45.297Z"
   },
   {
    "duration": 6,
    "start_time": "2023-05-21T12:01:29.888Z"
   },
   {
    "duration": 23,
    "start_time": "2023-05-21T12:02:06.067Z"
   },
   {
    "duration": 24,
    "start_time": "2023-05-21T12:02:23.770Z"
   },
   {
    "duration": 7,
    "start_time": "2023-05-21T12:02:25.596Z"
   },
   {
    "duration": 5,
    "start_time": "2023-05-21T12:02:57.854Z"
   },
   {
    "duration": 17,
    "start_time": "2023-05-21T12:04:11.196Z"
   },
   {
    "duration": 6,
    "start_time": "2023-05-21T12:04:13.627Z"
   },
   {
    "duration": 5,
    "start_time": "2023-05-21T12:05:17.161Z"
   },
   {
    "duration": 14,
    "start_time": "2023-05-21T12:05:30.098Z"
   },
   {
    "duration": 34,
    "start_time": "2023-05-21T12:05:41.061Z"
   },
   {
    "duration": 28,
    "start_time": "2023-05-21T12:10:58.684Z"
   },
   {
    "duration": 22,
    "start_time": "2023-05-21T12:11:11.015Z"
   },
   {
    "duration": 40,
    "start_time": "2023-05-21T12:13:18.099Z"
   },
   {
    "duration": 29,
    "start_time": "2023-05-21T12:14:13.069Z"
   },
   {
    "duration": 6,
    "start_time": "2023-05-21T12:14:32.659Z"
   },
   {
    "duration": 306,
    "start_time": "2023-05-21T12:14:38.803Z"
   },
   {
    "duration": 334,
    "start_time": "2023-05-21T12:15:59.565Z"
   },
   {
    "duration": 12,
    "start_time": "2023-05-21T12:25:49.866Z"
   },
   {
    "duration": 8,
    "start_time": "2023-05-21T12:31:18.870Z"
   },
   {
    "duration": 922,
    "start_time": "2023-05-21T12:44:02.393Z"
   },
   {
    "duration": 958,
    "start_time": "2023-05-21T12:44:23.039Z"
   },
   {
    "duration": 1201,
    "start_time": "2023-05-21T12:44:33.310Z"
   },
   {
    "duration": 22,
    "start_time": "2023-05-21T12:44:37.892Z"
   },
   {
    "duration": 87,
    "start_time": "2023-05-21T12:44:57.809Z"
   },
   {
    "duration": 64,
    "start_time": "2023-05-21T12:45:34.244Z"
   },
   {
    "duration": 11,
    "start_time": "2023-05-21T12:45:44.251Z"
   },
   {
    "duration": 11,
    "start_time": "2023-05-21T12:45:58.805Z"
   },
   {
    "duration": 132,
    "start_time": "2023-05-21T12:46:31.652Z"
   },
   {
    "duration": 13,
    "start_time": "2023-05-21T12:46:44.250Z"
   },
   {
    "duration": 23,
    "start_time": "2023-05-21T12:46:59.691Z"
   },
   {
    "duration": 14,
    "start_time": "2023-05-21T12:53:15.595Z"
   },
   {
    "duration": 195,
    "start_time": "2023-05-21T12:53:25.004Z"
   },
   {
    "duration": 30,
    "start_time": "2023-05-21T13:00:02.673Z"
   },
   {
    "duration": 117,
    "start_time": "2023-05-21T13:00:46.536Z"
   },
   {
    "duration": 123,
    "start_time": "2023-05-21T13:01:06.039Z"
   },
   {
    "duration": 72,
    "start_time": "2023-05-21T13:01:35.032Z"
   },
   {
    "duration": 9,
    "start_time": "2023-05-21T13:01:43.232Z"
   },
   {
    "duration": 13,
    "start_time": "2023-05-21T13:10:32.396Z"
   },
   {
    "duration": 4,
    "start_time": "2023-05-21T13:10:44.654Z"
   },
   {
    "duration": 16,
    "start_time": "2023-05-21T13:10:56.025Z"
   },
   {
    "duration": 24,
    "start_time": "2023-05-21T13:11:07.065Z"
   },
   {
    "duration": 10,
    "start_time": "2023-05-21T13:11:35.728Z"
   },
   {
    "duration": 22,
    "start_time": "2023-05-21T13:12:16.855Z"
   },
   {
    "duration": 19,
    "start_time": "2023-05-21T13:16:29.709Z"
   },
   {
    "duration": 153,
    "start_time": "2023-05-21T13:17:02.583Z"
   },
   {
    "duration": 324,
    "start_time": "2023-05-21T13:18:18.101Z"
   },
   {
    "duration": 450,
    "start_time": "2023-05-21T13:19:05.371Z"
   },
   {
    "duration": 327,
    "start_time": "2023-05-21T13:21:29.296Z"
   },
   {
    "duration": 78,
    "start_time": "2023-05-21T13:22:08.372Z"
   },
   {
    "duration": 11,
    "start_time": "2023-05-21T13:22:19.936Z"
   },
   {
    "duration": 459,
    "start_time": "2023-05-21T13:22:33.152Z"
   },
   {
    "duration": 54,
    "start_time": "2023-05-21T13:22:46.375Z"
   },
   {
    "duration": 96,
    "start_time": "2023-05-21T13:22:57.295Z"
   },
   {
    "duration": 80,
    "start_time": "2023-05-21T13:23:06.315Z"
   },
   {
    "duration": 479,
    "start_time": "2023-05-21T13:24:15.855Z"
   },
   {
    "duration": 47,
    "start_time": "2023-05-21T13:24:26.152Z"
   },
   {
    "duration": 32,
    "start_time": "2023-05-21T13:24:38.328Z"
   },
   {
    "duration": 8,
    "start_time": "2023-05-21T13:24:47.254Z"
   },
   {
    "duration": 7,
    "start_time": "2023-05-21T13:27:41.796Z"
   },
   {
    "duration": 1748,
    "start_time": "2023-05-21T13:33:43.255Z"
   },
   {
    "duration": 23,
    "start_time": "2023-05-21T13:33:45.006Z"
   },
   {
    "duration": 29,
    "start_time": "2023-05-21T13:33:45.031Z"
   },
   {
    "duration": 44,
    "start_time": "2023-05-21T13:33:45.063Z"
   },
   {
    "duration": 21,
    "start_time": "2023-05-21T13:33:45.109Z"
   },
   {
    "duration": 33,
    "start_time": "2023-05-21T13:33:45.132Z"
   },
   {
    "duration": 55,
    "start_time": "2023-05-21T13:33:45.167Z"
   },
   {
    "duration": 77,
    "start_time": "2023-05-21T13:33:45.224Z"
   },
   {
    "duration": 52,
    "start_time": "2023-05-21T13:33:45.303Z"
   },
   {
    "duration": 85,
    "start_time": "2023-05-21T13:33:45.359Z"
   },
   {
    "duration": 8,
    "start_time": "2023-05-21T13:33:45.447Z"
   },
   {
    "duration": 42,
    "start_time": "2023-05-21T13:33:45.457Z"
   },
   {
    "duration": 28,
    "start_time": "2023-05-21T13:33:45.504Z"
   },
   {
    "duration": 31,
    "start_time": "2023-05-21T13:33:45.533Z"
   },
   {
    "duration": 48,
    "start_time": "2023-05-21T13:33:45.565Z"
   },
   {
    "duration": 40,
    "start_time": "2023-05-21T13:33:45.615Z"
   },
   {
    "duration": 29,
    "start_time": "2023-05-21T13:33:45.657Z"
   },
   {
    "duration": 48,
    "start_time": "2023-05-21T13:33:45.688Z"
   },
   {
    "duration": 44,
    "start_time": "2023-05-21T13:33:45.739Z"
   },
   {
    "duration": 38,
    "start_time": "2023-05-21T13:33:45.785Z"
   },
   {
    "duration": 41,
    "start_time": "2023-05-21T13:33:45.825Z"
   },
   {
    "duration": 32,
    "start_time": "2023-05-21T13:33:45.868Z"
   },
   {
    "duration": 50,
    "start_time": "2023-05-21T13:33:45.902Z"
   },
   {
    "duration": 362,
    "start_time": "2023-05-21T13:33:45.954Z"
   },
   {
    "duration": 155,
    "start_time": "2023-05-21T13:33:46.318Z"
   },
   {
    "duration": 20,
    "start_time": "2023-05-21T13:33:46.481Z"
   },
   {
    "duration": 902,
    "start_time": "2023-05-21T13:33:46.511Z"
   },
   {
    "duration": 11,
    "start_time": "2023-05-21T13:33:47.419Z"
   },
   {
    "duration": 88,
    "start_time": "2023-05-21T13:33:47.433Z"
   },
   {
    "duration": 61,
    "start_time": "2023-05-21T13:33:47.523Z"
   },
   {
    "duration": 15,
    "start_time": "2023-05-21T13:33:47.595Z"
   },
   {
    "duration": 12,
    "start_time": "2023-05-21T13:33:47.612Z"
   },
   {
    "duration": 155,
    "start_time": "2023-05-21T13:33:47.626Z"
   },
   {
    "duration": 14,
    "start_time": "2023-05-21T13:33:47.787Z"
   },
   {
    "duration": 76,
    "start_time": "2023-05-21T13:33:47.803Z"
   },
   {
    "duration": 108,
    "start_time": "2023-05-21T13:33:47.899Z"
   },
   {
    "duration": 190,
    "start_time": "2023-05-21T13:33:48.013Z"
   },
   {
    "duration": 8,
    "start_time": "2023-05-21T13:33:48.207Z"
   },
   {
    "duration": 7,
    "start_time": "2023-05-21T13:33:48.217Z"
   },
   {
    "duration": 12,
    "start_time": "2023-05-21T13:33:48.226Z"
   },
   {
    "duration": 23,
    "start_time": "2023-05-21T13:33:48.240Z"
   },
   {
    "duration": 50,
    "start_time": "2023-05-21T13:33:48.265Z"
   },
   {
    "duration": 8,
    "start_time": "2023-05-21T13:33:48.317Z"
   },
   {
    "duration": 25,
    "start_time": "2023-05-21T13:33:48.328Z"
   },
   {
    "duration": 123,
    "start_time": "2023-05-21T13:33:48.355Z"
   },
   {
    "duration": 500,
    "start_time": "2023-05-21T13:33:48.481Z"
   },
   {
    "duration": 399,
    "start_time": "2023-05-21T13:33:48.983Z"
   },
   {
    "duration": 135,
    "start_time": "2023-05-21T13:33:49.391Z"
   },
   {
    "duration": 10,
    "start_time": "2023-05-21T13:33:49.528Z"
   },
   {
    "duration": 368,
    "start_time": "2023-05-21T13:33:49.540Z"
   },
   {
    "duration": 25,
    "start_time": "2023-05-21T13:33:49.910Z"
   },
   {
    "duration": 141,
    "start_time": "2023-05-21T13:33:49.937Z"
   },
   {
    "duration": 97,
    "start_time": "2023-05-21T13:33:50.080Z"
   },
   {
    "duration": 416,
    "start_time": "2023-05-21T13:33:50.189Z"
   },
   {
    "duration": 27,
    "start_time": "2023-05-21T13:33:50.607Z"
   },
   {
    "duration": 49,
    "start_time": "2023-05-21T13:33:50.637Z"
   },
   {
    "duration": 9,
    "start_time": "2023-05-21T13:33:50.687Z"
   },
   {
    "duration": 7,
    "start_time": "2023-05-21T13:33:50.699Z"
   },
   {
    "duration": 1367,
    "start_time": "2023-05-21T14:10:11.050Z"
   },
   {
    "duration": 17,
    "start_time": "2023-05-21T14:10:12.421Z"
   },
   {
    "duration": 13,
    "start_time": "2023-05-21T14:10:12.439Z"
   },
   {
    "duration": 3,
    "start_time": "2023-05-21T14:10:12.454Z"
   },
   {
    "duration": 23,
    "start_time": "2023-05-21T14:10:12.458Z"
   },
   {
    "duration": 21,
    "start_time": "2023-05-21T14:10:12.482Z"
   },
   {
    "duration": 9,
    "start_time": "2023-05-21T14:10:12.504Z"
   },
   {
    "duration": 8,
    "start_time": "2023-05-21T14:10:12.514Z"
   },
   {
    "duration": 17,
    "start_time": "2023-05-21T14:10:12.524Z"
   },
   {
    "duration": 22,
    "start_time": "2023-05-21T14:10:12.543Z"
   },
   {
    "duration": 10,
    "start_time": "2023-05-21T14:10:12.566Z"
   },
   {
    "duration": 42,
    "start_time": "2023-05-21T14:10:12.578Z"
   },
   {
    "duration": 6,
    "start_time": "2023-05-21T14:10:12.622Z"
   },
   {
    "duration": 24,
    "start_time": "2023-05-21T14:10:12.629Z"
   },
   {
    "duration": 8,
    "start_time": "2023-05-21T14:10:12.655Z"
   },
   {
    "duration": 11,
    "start_time": "2023-05-21T14:10:12.664Z"
   },
   {
    "duration": 6,
    "start_time": "2023-05-21T14:10:12.676Z"
   },
   {
    "duration": 29,
    "start_time": "2023-05-21T14:10:12.683Z"
   },
   {
    "duration": 10,
    "start_time": "2023-05-21T14:10:12.713Z"
   },
   {
    "duration": 23,
    "start_time": "2023-05-21T14:10:12.725Z"
   },
   {
    "duration": 26,
    "start_time": "2023-05-21T14:10:12.750Z"
   },
   {
    "duration": 26,
    "start_time": "2023-05-21T14:10:12.778Z"
   },
   {
    "duration": 18,
    "start_time": "2023-05-21T14:10:12.805Z"
   },
   {
    "duration": 367,
    "start_time": "2023-05-21T14:10:12.824Z"
   },
   {
    "duration": 8,
    "start_time": "2023-05-21T14:10:13.194Z"
   },
   {
    "duration": 41,
    "start_time": "2023-05-21T14:10:13.203Z"
   },
   {
    "duration": 1269,
    "start_time": "2023-05-21T14:10:13.245Z"
   },
   {
    "duration": 7,
    "start_time": "2023-05-21T14:10:14.518Z"
   },
   {
    "duration": 176,
    "start_time": "2023-05-21T14:10:14.526Z"
   },
   {
    "duration": 101,
    "start_time": "2023-05-21T14:10:14.703Z"
   },
   {
    "duration": 10,
    "start_time": "2023-05-21T14:10:14.805Z"
   },
   {
    "duration": 10,
    "start_time": "2023-05-21T14:10:14.817Z"
   },
   {
    "duration": 160,
    "start_time": "2023-05-21T14:10:14.828Z"
   },
   {
    "duration": 16,
    "start_time": "2023-05-21T14:10:14.989Z"
   },
   {
    "duration": 139,
    "start_time": "2023-05-21T14:10:15.006Z"
   },
   {
    "duration": 163,
    "start_time": "2023-05-21T14:10:15.146Z"
   },
   {
    "duration": 197,
    "start_time": "2023-05-21T14:10:15.310Z"
   },
   {
    "duration": 5,
    "start_time": "2023-05-21T14:10:15.509Z"
   },
   {
    "duration": 7,
    "start_time": "2023-05-21T14:10:15.515Z"
   },
   {
    "duration": 27,
    "start_time": "2023-05-21T14:10:15.524Z"
   },
   {
    "duration": 16,
    "start_time": "2023-05-21T14:10:15.552Z"
   },
   {
    "duration": 13,
    "start_time": "2023-05-21T14:10:15.570Z"
   },
   {
    "duration": 9,
    "start_time": "2023-05-21T14:10:15.595Z"
   },
   {
    "duration": 14,
    "start_time": "2023-05-21T14:10:15.605Z"
   },
   {
    "duration": 88,
    "start_time": "2023-05-21T14:10:15.620Z"
   },
   {
    "duration": 384,
    "start_time": "2023-05-21T14:10:15.709Z"
   },
   {
    "duration": 354,
    "start_time": "2023-05-21T14:10:16.095Z"
   },
   {
    "duration": 129,
    "start_time": "2023-05-21T14:10:16.490Z"
   },
   {
    "duration": 7,
    "start_time": "2023-05-21T14:10:16.620Z"
   },
   {
    "duration": 318,
    "start_time": "2023-05-21T14:10:16.629Z"
   },
   {
    "duration": 17,
    "start_time": "2023-05-21T14:10:16.949Z"
   },
   {
    "duration": 47,
    "start_time": "2023-05-21T14:10:16.968Z"
   },
   {
    "duration": 199,
    "start_time": "2023-05-21T14:10:17.016Z"
   },
   {
    "duration": 464,
    "start_time": "2023-05-21T14:10:17.216Z"
   },
   {
    "duration": 31,
    "start_time": "2023-05-21T14:10:17.682Z"
   },
   {
    "duration": 18,
    "start_time": "2023-05-21T14:10:17.714Z"
   },
   {
    "duration": 17,
    "start_time": "2023-05-21T14:10:17.734Z"
   },
   {
    "duration": 13,
    "start_time": "2023-05-21T14:10:17.753Z"
   },
   {
    "duration": 11,
    "start_time": "2023-05-21T14:18:18.287Z"
   },
   {
    "duration": 1895,
    "start_time": "2023-05-21T17:32:58.310Z"
   },
   {
    "duration": 30,
    "start_time": "2023-05-21T17:33:00.209Z"
   },
   {
    "duration": 42,
    "start_time": "2023-05-21T17:33:00.241Z"
   },
   {
    "duration": 20,
    "start_time": "2023-05-21T17:33:00.289Z"
   },
   {
    "duration": 40,
    "start_time": "2023-05-21T17:33:00.312Z"
   },
   {
    "duration": 30,
    "start_time": "2023-05-21T17:33:00.355Z"
   },
   {
    "duration": 51,
    "start_time": "2023-05-21T17:33:00.387Z"
   },
   {
    "duration": 72,
    "start_time": "2023-05-21T17:33:00.441Z"
   },
   {
    "duration": 140,
    "start_time": "2023-05-21T17:33:00.515Z"
   },
   {
    "duration": 0,
    "start_time": "2023-05-21T17:33:00.659Z"
   },
   {
    "duration": 0,
    "start_time": "2023-05-21T17:33:00.678Z"
   },
   {
    "duration": 1,
    "start_time": "2023-05-21T17:33:00.679Z"
   },
   {
    "duration": 0,
    "start_time": "2023-05-21T17:33:00.686Z"
   },
   {
    "duration": 0,
    "start_time": "2023-05-21T17:33:00.687Z"
   },
   {
    "duration": 0,
    "start_time": "2023-05-21T17:33:00.688Z"
   },
   {
    "duration": 0,
    "start_time": "2023-05-21T17:33:00.689Z"
   },
   {
    "duration": 0,
    "start_time": "2023-05-21T17:33:00.690Z"
   },
   {
    "duration": 0,
    "start_time": "2023-05-21T17:33:00.691Z"
   },
   {
    "duration": 0,
    "start_time": "2023-05-21T17:33:00.692Z"
   },
   {
    "duration": 0,
    "start_time": "2023-05-21T17:33:00.694Z"
   },
   {
    "duration": 0,
    "start_time": "2023-05-21T17:33:00.695Z"
   },
   {
    "duration": 0,
    "start_time": "2023-05-21T17:33:00.697Z"
   },
   {
    "duration": 0,
    "start_time": "2023-05-21T17:33:00.701Z"
   },
   {
    "duration": 0,
    "start_time": "2023-05-21T17:33:00.702Z"
   },
   {
    "duration": 0,
    "start_time": "2023-05-21T17:33:00.703Z"
   },
   {
    "duration": 0,
    "start_time": "2023-05-21T17:33:00.704Z"
   },
   {
    "duration": 1,
    "start_time": "2023-05-21T17:33:00.705Z"
   },
   {
    "duration": 0,
    "start_time": "2023-05-21T17:33:00.707Z"
   },
   {
    "duration": 0,
    "start_time": "2023-05-21T17:33:00.708Z"
   },
   {
    "duration": 0,
    "start_time": "2023-05-21T17:33:00.709Z"
   },
   {
    "duration": 0,
    "start_time": "2023-05-21T17:33:00.710Z"
   },
   {
    "duration": 0,
    "start_time": "2023-05-21T17:33:00.711Z"
   },
   {
    "duration": 0,
    "start_time": "2023-05-21T17:33:00.712Z"
   },
   {
    "duration": 0,
    "start_time": "2023-05-21T17:33:00.714Z"
   },
   {
    "duration": 0,
    "start_time": "2023-05-21T17:33:00.715Z"
   },
   {
    "duration": 0,
    "start_time": "2023-05-21T17:33:00.716Z"
   },
   {
    "duration": 0,
    "start_time": "2023-05-21T17:33:00.717Z"
   },
   {
    "duration": 0,
    "start_time": "2023-05-21T17:33:00.718Z"
   },
   {
    "duration": 0,
    "start_time": "2023-05-21T17:33:00.719Z"
   },
   {
    "duration": 0,
    "start_time": "2023-05-21T17:33:00.721Z"
   },
   {
    "duration": 0,
    "start_time": "2023-05-21T17:33:00.722Z"
   },
   {
    "duration": 0,
    "start_time": "2023-05-21T17:33:00.724Z"
   },
   {
    "duration": 0,
    "start_time": "2023-05-21T17:33:00.783Z"
   },
   {
    "duration": 0,
    "start_time": "2023-05-21T17:33:00.784Z"
   },
   {
    "duration": 0,
    "start_time": "2023-05-21T17:33:00.785Z"
   },
   {
    "duration": 0,
    "start_time": "2023-05-21T17:33:00.785Z"
   },
   {
    "duration": 0,
    "start_time": "2023-05-21T17:33:00.786Z"
   },
   {
    "duration": 0,
    "start_time": "2023-05-21T17:33:00.787Z"
   },
   {
    "duration": 0,
    "start_time": "2023-05-21T17:33:00.788Z"
   },
   {
    "duration": 0,
    "start_time": "2023-05-21T17:33:00.789Z"
   },
   {
    "duration": 0,
    "start_time": "2023-05-21T17:33:00.790Z"
   },
   {
    "duration": 0,
    "start_time": "2023-05-21T17:33:00.790Z"
   },
   {
    "duration": 0,
    "start_time": "2023-05-21T17:33:00.791Z"
   },
   {
    "duration": 0,
    "start_time": "2023-05-21T17:33:00.792Z"
   },
   {
    "duration": 0,
    "start_time": "2023-05-21T17:33:00.793Z"
   },
   {
    "duration": 0,
    "start_time": "2023-05-21T17:33:00.793Z"
   },
   {
    "duration": 0,
    "start_time": "2023-05-21T17:33:00.797Z"
   },
   {
    "duration": 0,
    "start_time": "2023-05-21T17:33:00.798Z"
   },
   {
    "duration": 1601,
    "start_time": "2023-05-21T17:35:56.965Z"
   },
   {
    "duration": 28,
    "start_time": "2023-05-21T17:35:58.568Z"
   },
   {
    "duration": 16,
    "start_time": "2023-05-21T17:35:58.598Z"
   },
   {
    "duration": 15,
    "start_time": "2023-05-21T17:35:58.616Z"
   },
   {
    "duration": 30,
    "start_time": "2023-05-21T17:35:58.633Z"
   },
   {
    "duration": 25,
    "start_time": "2023-05-21T17:35:58.673Z"
   },
   {
    "duration": 15,
    "start_time": "2023-05-21T17:35:58.699Z"
   },
   {
    "duration": 19,
    "start_time": "2023-05-21T17:35:58.716Z"
   },
   {
    "duration": 6,
    "start_time": "2023-05-21T17:35:58.738Z"
   },
   {
    "duration": 19,
    "start_time": "2023-05-21T17:35:58.747Z"
   },
   {
    "duration": 34,
    "start_time": "2023-05-21T17:35:58.768Z"
   },
   {
    "duration": 30,
    "start_time": "2023-05-21T17:35:58.805Z"
   },
   {
    "duration": 30,
    "start_time": "2023-05-21T17:35:58.837Z"
   },
   {
    "duration": 28,
    "start_time": "2023-05-21T17:35:58.869Z"
   },
   {
    "duration": 13,
    "start_time": "2023-05-21T17:35:58.899Z"
   },
   {
    "duration": 34,
    "start_time": "2023-05-21T17:35:58.913Z"
   },
   {
    "duration": 9,
    "start_time": "2023-05-21T17:35:58.949Z"
   },
   {
    "duration": 42,
    "start_time": "2023-05-21T17:35:58.960Z"
   },
   {
    "duration": 20,
    "start_time": "2023-05-21T17:35:59.005Z"
   },
   {
    "duration": 18,
    "start_time": "2023-05-21T17:35:59.027Z"
   },
   {
    "duration": 42,
    "start_time": "2023-05-21T17:35:59.047Z"
   },
   {
    "duration": 27,
    "start_time": "2023-05-21T17:35:59.092Z"
   },
   {
    "duration": 25,
    "start_time": "2023-05-21T17:35:59.122Z"
   },
   {
    "duration": 182,
    "start_time": "2023-05-21T17:35:59.149Z"
   },
   {
    "duration": 0,
    "start_time": "2023-05-21T17:35:59.335Z"
   },
   {
    "duration": 0,
    "start_time": "2023-05-21T17:35:59.336Z"
   },
   {
    "duration": 0,
    "start_time": "2023-05-21T17:35:59.338Z"
   },
   {
    "duration": 0,
    "start_time": "2023-05-21T17:35:59.340Z"
   },
   {
    "duration": 0,
    "start_time": "2023-05-21T17:35:59.341Z"
   },
   {
    "duration": 0,
    "start_time": "2023-05-21T17:35:59.342Z"
   },
   {
    "duration": 0,
    "start_time": "2023-05-21T17:35:59.344Z"
   },
   {
    "duration": 0,
    "start_time": "2023-05-21T17:35:59.345Z"
   },
   {
    "duration": 0,
    "start_time": "2023-05-21T17:35:59.346Z"
   },
   {
    "duration": 0,
    "start_time": "2023-05-21T17:35:59.347Z"
   },
   {
    "duration": 0,
    "start_time": "2023-05-21T17:35:59.376Z"
   },
   {
    "duration": 0,
    "start_time": "2023-05-21T17:35:59.377Z"
   },
   {
    "duration": 0,
    "start_time": "2023-05-21T17:35:59.378Z"
   },
   {
    "duration": 0,
    "start_time": "2023-05-21T17:35:59.379Z"
   },
   {
    "duration": 0,
    "start_time": "2023-05-21T17:35:59.380Z"
   },
   {
    "duration": 0,
    "start_time": "2023-05-21T17:35:59.381Z"
   },
   {
    "duration": 0,
    "start_time": "2023-05-21T17:35:59.382Z"
   },
   {
    "duration": 0,
    "start_time": "2023-05-21T17:35:59.383Z"
   },
   {
    "duration": 0,
    "start_time": "2023-05-21T17:35:59.384Z"
   },
   {
    "duration": 0,
    "start_time": "2023-05-21T17:35:59.385Z"
   },
   {
    "duration": 0,
    "start_time": "2023-05-21T17:35:59.386Z"
   },
   {
    "duration": 0,
    "start_time": "2023-05-21T17:35:59.387Z"
   },
   {
    "duration": 0,
    "start_time": "2023-05-21T17:35:59.388Z"
   },
   {
    "duration": 0,
    "start_time": "2023-05-21T17:35:59.389Z"
   },
   {
    "duration": 0,
    "start_time": "2023-05-21T17:35:59.390Z"
   },
   {
    "duration": 0,
    "start_time": "2023-05-21T17:35:59.391Z"
   },
   {
    "duration": 0,
    "start_time": "2023-05-21T17:35:59.391Z"
   },
   {
    "duration": 0,
    "start_time": "2023-05-21T17:35:59.392Z"
   },
   {
    "duration": 0,
    "start_time": "2023-05-21T17:35:59.394Z"
   },
   {
    "duration": 0,
    "start_time": "2023-05-21T17:35:59.395Z"
   },
   {
    "duration": 0,
    "start_time": "2023-05-21T17:35:59.396Z"
   },
   {
    "duration": 0,
    "start_time": "2023-05-21T17:35:59.397Z"
   },
   {
    "duration": 0,
    "start_time": "2023-05-21T17:35:59.398Z"
   },
   {
    "duration": 0,
    "start_time": "2023-05-21T17:35:59.399Z"
   },
   {
    "duration": 291,
    "start_time": "2023-05-21T17:40:31.863Z"
   },
   {
    "duration": 40,
    "start_time": "2023-05-21T17:41:02.718Z"
   },
   {
    "duration": 2003,
    "start_time": "2023-05-21T17:41:12.818Z"
   },
   {
    "duration": 34,
    "start_time": "2023-05-21T17:41:14.826Z"
   },
   {
    "duration": 27,
    "start_time": "2023-05-21T17:41:14.862Z"
   },
   {
    "duration": 25,
    "start_time": "2023-05-21T17:41:14.894Z"
   },
   {
    "duration": 30,
    "start_time": "2023-05-21T17:41:14.925Z"
   },
   {
    "duration": 7,
    "start_time": "2023-05-21T17:41:14.958Z"
   },
   {
    "duration": 52,
    "start_time": "2023-05-21T17:41:14.967Z"
   },
   {
    "duration": 35,
    "start_time": "2023-05-21T17:41:15.021Z"
   },
   {
    "duration": 50,
    "start_time": "2023-05-21T17:41:15.059Z"
   },
   {
    "duration": 43,
    "start_time": "2023-05-21T17:41:15.112Z"
   },
   {
    "duration": 9,
    "start_time": "2023-05-21T17:41:15.158Z"
   },
   {
    "duration": 49,
    "start_time": "2023-05-21T17:41:15.170Z"
   },
   {
    "duration": 334,
    "start_time": "2023-05-21T17:41:15.222Z"
   },
   {
    "duration": 38,
    "start_time": "2023-05-21T17:41:15.559Z"
   },
   {
    "duration": 37,
    "start_time": "2023-05-21T17:41:15.599Z"
   },
   {
    "duration": 29,
    "start_time": "2023-05-21T17:41:15.639Z"
   },
   {
    "duration": 30,
    "start_time": "2023-05-21T17:41:15.673Z"
   },
   {
    "duration": 22,
    "start_time": "2023-05-21T17:41:15.707Z"
   },
   {
    "duration": 13,
    "start_time": "2023-05-21T17:41:15.731Z"
   },
   {
    "duration": 16,
    "start_time": "2023-05-21T17:41:15.747Z"
   },
   {
    "duration": 42,
    "start_time": "2023-05-21T17:41:15.766Z"
   },
   {
    "duration": 37,
    "start_time": "2023-05-21T17:41:15.810Z"
   },
   {
    "duration": 56,
    "start_time": "2023-05-21T17:41:15.849Z"
   },
   {
    "duration": 211,
    "start_time": "2023-05-21T17:41:15.907Z"
   },
   {
    "duration": 0,
    "start_time": "2023-05-21T17:41:16.121Z"
   },
   {
    "duration": 0,
    "start_time": "2023-05-21T17:41:16.123Z"
   },
   {
    "duration": 0,
    "start_time": "2023-05-21T17:41:16.124Z"
   },
   {
    "duration": 0,
    "start_time": "2023-05-21T17:41:16.126Z"
   },
   {
    "duration": 0,
    "start_time": "2023-05-21T17:41:16.128Z"
   },
   {
    "duration": 0,
    "start_time": "2023-05-21T17:41:16.130Z"
   },
   {
    "duration": 0,
    "start_time": "2023-05-21T17:41:16.132Z"
   },
   {
    "duration": 0,
    "start_time": "2023-05-21T17:41:16.133Z"
   },
   {
    "duration": 0,
    "start_time": "2023-05-21T17:41:16.135Z"
   },
   {
    "duration": 0,
    "start_time": "2023-05-21T17:41:16.136Z"
   },
   {
    "duration": 0,
    "start_time": "2023-05-21T17:41:16.138Z"
   },
   {
    "duration": 0,
    "start_time": "2023-05-21T17:41:16.139Z"
   },
   {
    "duration": 0,
    "start_time": "2023-05-21T17:41:16.176Z"
   },
   {
    "duration": 0,
    "start_time": "2023-05-21T17:41:16.177Z"
   },
   {
    "duration": 0,
    "start_time": "2023-05-21T17:41:16.180Z"
   },
   {
    "duration": 0,
    "start_time": "2023-05-21T17:41:16.181Z"
   },
   {
    "duration": 0,
    "start_time": "2023-05-21T17:41:16.182Z"
   },
   {
    "duration": 0,
    "start_time": "2023-05-21T17:41:16.183Z"
   },
   {
    "duration": 0,
    "start_time": "2023-05-21T17:41:16.188Z"
   },
   {
    "duration": 0,
    "start_time": "2023-05-21T17:41:16.189Z"
   },
   {
    "duration": 0,
    "start_time": "2023-05-21T17:41:16.194Z"
   },
   {
    "duration": 0,
    "start_time": "2023-05-21T17:41:16.196Z"
   },
   {
    "duration": 0,
    "start_time": "2023-05-21T17:41:16.197Z"
   },
   {
    "duration": 0,
    "start_time": "2023-05-21T17:41:16.198Z"
   },
   {
    "duration": 0,
    "start_time": "2023-05-21T17:41:16.203Z"
   },
   {
    "duration": 0,
    "start_time": "2023-05-21T17:41:16.204Z"
   },
   {
    "duration": 0,
    "start_time": "2023-05-21T17:41:16.205Z"
   },
   {
    "duration": 0,
    "start_time": "2023-05-21T17:41:16.213Z"
   },
   {
    "duration": 0,
    "start_time": "2023-05-21T17:41:16.215Z"
   },
   {
    "duration": 0,
    "start_time": "2023-05-21T17:41:16.220Z"
   },
   {
    "duration": 0,
    "start_time": "2023-05-21T17:41:16.222Z"
   },
   {
    "duration": 0,
    "start_time": "2023-05-21T17:41:16.223Z"
   },
   {
    "duration": 0,
    "start_time": "2023-05-21T17:41:16.224Z"
   },
   {
    "duration": 0,
    "start_time": "2023-05-21T17:41:16.226Z"
   },
   {
    "duration": 7,
    "start_time": "2023-05-21T17:45:02.730Z"
   },
   {
    "duration": 48,
    "start_time": "2023-05-21T17:45:08.802Z"
   },
   {
    "duration": 20,
    "start_time": "2023-05-21T17:45:56.227Z"
   },
   {
    "duration": 10,
    "start_time": "2023-05-21T17:46:06.714Z"
   },
   {
    "duration": 41,
    "start_time": "2023-05-21T17:46:35.861Z"
   },
   {
    "duration": 6,
    "start_time": "2023-05-21T17:46:57.533Z"
   },
   {
    "duration": 7,
    "start_time": "2023-05-21T17:47:07.473Z"
   },
   {
    "duration": 18,
    "start_time": "2023-05-21T17:47:09.875Z"
   },
   {
    "duration": 19,
    "start_time": "2023-05-21T17:47:46.368Z"
   },
   {
    "duration": 5,
    "start_time": "2023-05-21T17:48:05.017Z"
   },
   {
    "duration": 8,
    "start_time": "2023-05-21T17:48:24.263Z"
   },
   {
    "duration": 8,
    "start_time": "2023-05-21T17:48:32.746Z"
   },
   {
    "duration": 40,
    "start_time": "2023-05-21T17:49:11.463Z"
   },
   {
    "duration": 1543,
    "start_time": "2023-05-21T20:12:34.248Z"
   },
   {
    "duration": 21,
    "start_time": "2023-05-21T20:12:35.794Z"
   },
   {
    "duration": 35,
    "start_time": "2023-05-21T20:12:35.818Z"
   },
   {
    "duration": 8,
    "start_time": "2023-05-21T20:12:35.855Z"
   },
   {
    "duration": 32,
    "start_time": "2023-05-21T20:12:35.865Z"
   },
   {
    "duration": 12,
    "start_time": "2023-05-21T20:12:35.899Z"
   },
   {
    "duration": 15,
    "start_time": "2023-05-21T20:12:35.913Z"
   },
   {
    "duration": 42,
    "start_time": "2023-05-21T20:12:35.934Z"
   },
   {
    "duration": 21,
    "start_time": "2023-05-21T20:12:35.978Z"
   },
   {
    "duration": 24,
    "start_time": "2023-05-21T20:12:36.003Z"
   },
   {
    "duration": 16,
    "start_time": "2023-05-21T20:12:36.030Z"
   },
   {
    "duration": 31,
    "start_time": "2023-05-21T20:12:36.051Z"
   },
   {
    "duration": 286,
    "start_time": "2023-05-21T20:12:36.085Z"
   },
   {
    "duration": 15,
    "start_time": "2023-05-21T20:12:36.373Z"
   },
   {
    "duration": 13,
    "start_time": "2023-05-21T20:12:36.390Z"
   },
   {
    "duration": 27,
    "start_time": "2023-05-21T20:12:36.405Z"
   },
   {
    "duration": 14,
    "start_time": "2023-05-21T20:12:36.434Z"
   },
   {
    "duration": 33,
    "start_time": "2023-05-21T20:12:36.449Z"
   },
   {
    "duration": 15,
    "start_time": "2023-05-21T20:12:36.484Z"
   },
   {
    "duration": 17,
    "start_time": "2023-05-21T20:12:36.502Z"
   },
   {
    "duration": 56,
    "start_time": "2023-05-21T20:12:36.521Z"
   },
   {
    "duration": 26,
    "start_time": "2023-05-21T20:12:36.579Z"
   },
   {
    "duration": 31,
    "start_time": "2023-05-21T20:12:36.608Z"
   },
   {
    "duration": 31,
    "start_time": "2023-05-21T20:12:36.641Z"
   },
   {
    "duration": 196,
    "start_time": "2023-05-21T20:12:36.675Z"
   },
   {
    "duration": 0,
    "start_time": "2023-05-21T20:12:36.874Z"
   },
   {
    "duration": 0,
    "start_time": "2023-05-21T20:12:36.875Z"
   },
   {
    "duration": 0,
    "start_time": "2023-05-21T20:12:36.877Z"
   },
   {
    "duration": 0,
    "start_time": "2023-05-21T20:12:36.878Z"
   },
   {
    "duration": 0,
    "start_time": "2023-05-21T20:12:36.879Z"
   },
   {
    "duration": 0,
    "start_time": "2023-05-21T20:12:36.880Z"
   },
   {
    "duration": 0,
    "start_time": "2023-05-21T20:12:36.881Z"
   },
   {
    "duration": 0,
    "start_time": "2023-05-21T20:12:36.882Z"
   },
   {
    "duration": 0,
    "start_time": "2023-05-21T20:12:36.883Z"
   },
   {
    "duration": 0,
    "start_time": "2023-05-21T20:12:36.884Z"
   },
   {
    "duration": 0,
    "start_time": "2023-05-21T20:12:36.886Z"
   },
   {
    "duration": 0,
    "start_time": "2023-05-21T20:12:36.887Z"
   },
   {
    "duration": 0,
    "start_time": "2023-05-21T20:12:36.888Z"
   },
   {
    "duration": 0,
    "start_time": "2023-05-21T20:12:36.888Z"
   },
   {
    "duration": 0,
    "start_time": "2023-05-21T20:12:36.890Z"
   },
   {
    "duration": 0,
    "start_time": "2023-05-21T20:12:36.891Z"
   },
   {
    "duration": 0,
    "start_time": "2023-05-21T20:12:36.892Z"
   },
   {
    "duration": 0,
    "start_time": "2023-05-21T20:12:36.893Z"
   },
   {
    "duration": 0,
    "start_time": "2023-05-21T20:12:36.894Z"
   },
   {
    "duration": 0,
    "start_time": "2023-05-21T20:12:36.895Z"
   },
   {
    "duration": 0,
    "start_time": "2023-05-21T20:12:36.896Z"
   },
   {
    "duration": 0,
    "start_time": "2023-05-21T20:12:36.897Z"
   },
   {
    "duration": 0,
    "start_time": "2023-05-21T20:12:36.898Z"
   },
   {
    "duration": 0,
    "start_time": "2023-05-21T20:12:36.899Z"
   },
   {
    "duration": 0,
    "start_time": "2023-05-21T20:12:36.900Z"
   },
   {
    "duration": 0,
    "start_time": "2023-05-21T20:12:36.901Z"
   },
   {
    "duration": 0,
    "start_time": "2023-05-21T20:12:36.902Z"
   },
   {
    "duration": 0,
    "start_time": "2023-05-21T20:12:36.903Z"
   },
   {
    "duration": 0,
    "start_time": "2023-05-21T20:12:36.904Z"
   },
   {
    "duration": 0,
    "start_time": "2023-05-21T20:12:36.905Z"
   },
   {
    "duration": 0,
    "start_time": "2023-05-21T20:12:36.906Z"
   },
   {
    "duration": 0,
    "start_time": "2023-05-21T20:12:36.907Z"
   },
   {
    "duration": 0,
    "start_time": "2023-05-21T20:12:36.908Z"
   },
   {
    "duration": 0,
    "start_time": "2023-05-21T20:12:36.909Z"
   },
   {
    "duration": 5,
    "start_time": "2023-05-21T20:17:06.440Z"
   },
   {
    "duration": 35,
    "start_time": "2023-05-21T20:17:10.096Z"
   },
   {
    "duration": 20,
    "start_time": "2023-05-21T20:19:18.366Z"
   },
   {
    "duration": 32,
    "start_time": "2023-05-21T20:19:31.998Z"
   },
   {
    "duration": 22,
    "start_time": "2023-05-21T20:19:35.102Z"
   },
   {
    "duration": 5,
    "start_time": "2023-05-21T20:19:37.182Z"
   },
   {
    "duration": 14,
    "start_time": "2023-05-21T20:19:40.150Z"
   },
   {
    "duration": 5,
    "start_time": "2023-05-21T20:19:42.590Z"
   },
   {
    "duration": 15,
    "start_time": "2023-05-21T20:19:43.254Z"
   },
   {
    "duration": 6,
    "start_time": "2023-05-21T20:19:46.211Z"
   },
   {
    "duration": 10,
    "start_time": "2023-05-21T20:19:46.958Z"
   },
   {
    "duration": 34,
    "start_time": "2023-05-21T20:19:47.685Z"
   },
   {
    "duration": 30,
    "start_time": "2023-05-21T20:19:50.429Z"
   },
   {
    "duration": 21,
    "start_time": "2023-05-21T20:19:51.245Z"
   },
   {
    "duration": 7,
    "start_time": "2023-05-21T20:19:53.032Z"
   },
   {
    "duration": 37,
    "start_time": "2023-05-21T20:19:56.093Z"
   },
   {
    "duration": 7,
    "start_time": "2023-05-21T20:21:43.625Z"
   },
   {
    "duration": 2131,
    "start_time": "2023-05-22T17:31:30.111Z"
   },
   {
    "duration": 24,
    "start_time": "2023-05-22T17:31:32.255Z"
   },
   {
    "duration": 72,
    "start_time": "2023-05-22T17:31:32.281Z"
   },
   {
    "duration": 98,
    "start_time": "2023-05-22T17:31:32.360Z"
   },
   {
    "duration": 87,
    "start_time": "2023-05-22T17:31:32.463Z"
   },
   {
    "duration": 4,
    "start_time": "2023-05-22T17:31:32.559Z"
   },
   {
    "duration": 6,
    "start_time": "2023-05-22T17:31:32.565Z"
   },
   {
    "duration": 8,
    "start_time": "2023-05-22T17:31:32.572Z"
   },
   {
    "duration": 80,
    "start_time": "2023-05-22T17:31:32.581Z"
   },
   {
    "duration": 12,
    "start_time": "2023-05-22T17:31:32.665Z"
   },
   {
    "duration": 61,
    "start_time": "2023-05-22T17:31:32.678Z"
   },
   {
    "duration": 97,
    "start_time": "2023-05-22T17:31:32.741Z"
   },
   {
    "duration": 43,
    "start_time": "2023-05-22T17:31:32.839Z"
   },
   {
    "duration": 87,
    "start_time": "2023-05-22T17:31:32.884Z"
   },
   {
    "duration": 10,
    "start_time": "2023-05-22T17:31:32.972Z"
   },
   {
    "duration": 84,
    "start_time": "2023-05-22T17:31:32.983Z"
   },
   {
    "duration": 74,
    "start_time": "2023-05-22T17:31:33.068Z"
   },
   {
    "duration": 31,
    "start_time": "2023-05-22T17:31:33.143Z"
   },
   {
    "duration": 75,
    "start_time": "2023-05-22T17:31:33.175Z"
   },
   {
    "duration": 12,
    "start_time": "2023-05-22T17:31:33.255Z"
   },
   {
    "duration": 78,
    "start_time": "2023-05-22T17:31:33.268Z"
   },
   {
    "duration": 61,
    "start_time": "2023-05-22T17:31:33.347Z"
   },
   {
    "duration": 75,
    "start_time": "2023-05-22T17:31:33.409Z"
   },
   {
    "duration": 64,
    "start_time": "2023-05-22T17:31:33.503Z"
   },
   {
    "duration": 254,
    "start_time": "2023-05-22T17:31:33.568Z"
   },
   {
    "duration": 0,
    "start_time": "2023-05-22T17:31:33.839Z"
   },
   {
    "duration": 0,
    "start_time": "2023-05-22T17:31:33.840Z"
   },
   {
    "duration": 0,
    "start_time": "2023-05-22T17:31:33.841Z"
   },
   {
    "duration": 0,
    "start_time": "2023-05-22T17:31:33.843Z"
   },
   {
    "duration": 0,
    "start_time": "2023-05-22T17:31:33.844Z"
   },
   {
    "duration": 0,
    "start_time": "2023-05-22T17:31:33.850Z"
   },
   {
    "duration": 0,
    "start_time": "2023-05-22T17:31:33.851Z"
   },
   {
    "duration": 0,
    "start_time": "2023-05-22T17:31:33.852Z"
   },
   {
    "duration": 0,
    "start_time": "2023-05-22T17:31:33.854Z"
   },
   {
    "duration": 0,
    "start_time": "2023-05-22T17:31:33.855Z"
   },
   {
    "duration": 0,
    "start_time": "2023-05-22T17:31:33.856Z"
   },
   {
    "duration": 0,
    "start_time": "2023-05-22T17:31:33.857Z"
   },
   {
    "duration": 0,
    "start_time": "2023-05-22T17:31:33.859Z"
   },
   {
    "duration": 0,
    "start_time": "2023-05-22T17:31:33.860Z"
   },
   {
    "duration": 0,
    "start_time": "2023-05-22T17:31:33.861Z"
   },
   {
    "duration": 0,
    "start_time": "2023-05-22T17:31:33.862Z"
   },
   {
    "duration": 0,
    "start_time": "2023-05-22T17:31:33.863Z"
   },
   {
    "duration": 0,
    "start_time": "2023-05-22T17:31:33.864Z"
   },
   {
    "duration": 0,
    "start_time": "2023-05-22T17:31:33.866Z"
   },
   {
    "duration": 0,
    "start_time": "2023-05-22T17:31:33.867Z"
   },
   {
    "duration": 0,
    "start_time": "2023-05-22T17:31:33.868Z"
   },
   {
    "duration": 0,
    "start_time": "2023-05-22T17:31:33.869Z"
   },
   {
    "duration": 0,
    "start_time": "2023-05-22T17:31:33.870Z"
   },
   {
    "duration": 0,
    "start_time": "2023-05-22T17:31:33.871Z"
   },
   {
    "duration": 0,
    "start_time": "2023-05-22T17:31:33.872Z"
   },
   {
    "duration": 0,
    "start_time": "2023-05-22T17:31:33.872Z"
   },
   {
    "duration": 0,
    "start_time": "2023-05-22T17:31:33.873Z"
   },
   {
    "duration": 0,
    "start_time": "2023-05-22T17:31:33.874Z"
   },
   {
    "duration": 0,
    "start_time": "2023-05-22T17:31:33.875Z"
   },
   {
    "duration": 0,
    "start_time": "2023-05-22T17:31:33.876Z"
   },
   {
    "duration": 0,
    "start_time": "2023-05-22T17:31:33.877Z"
   },
   {
    "duration": 0,
    "start_time": "2023-05-22T17:31:33.878Z"
   },
   {
    "duration": 0,
    "start_time": "2023-05-22T17:31:33.879Z"
   },
   {
    "duration": 0,
    "start_time": "2023-05-22T17:31:33.880Z"
   },
   {
    "duration": 24,
    "start_time": "2023-05-22T17:56:49.827Z"
   },
   {
    "duration": 3,
    "start_time": "2023-05-22T18:15:27.151Z"
   },
   {
    "duration": 23,
    "start_time": "2023-05-22T18:16:45.947Z"
   },
   {
    "duration": 13,
    "start_time": "2023-05-22T18:16:47.215Z"
   },
   {
    "duration": 11,
    "start_time": "2023-05-22T18:24:07.432Z"
   },
   {
    "duration": 7,
    "start_time": "2023-05-22T18:24:10.023Z"
   },
   {
    "duration": 10,
    "start_time": "2023-05-22T18:24:12.244Z"
   },
   {
    "duration": 10,
    "start_time": "2023-05-22T18:24:14.112Z"
   },
   {
    "duration": 25,
    "start_time": "2023-05-22T18:24:17.389Z"
   },
   {
    "duration": 4,
    "start_time": "2023-05-22T18:24:21.147Z"
   },
   {
    "duration": 21,
    "start_time": "2023-05-22T18:24:24.783Z"
   },
   {
    "duration": 25,
    "start_time": "2023-05-22T18:24:27.523Z"
   },
   {
    "duration": 19,
    "start_time": "2023-05-22T18:24:29.749Z"
   },
   {
    "duration": 30,
    "start_time": "2023-05-22T18:24:32.030Z"
   },
   {
    "duration": 4,
    "start_time": "2023-05-22T18:24:34.059Z"
   },
   {
    "duration": 21,
    "start_time": "2023-05-22T18:25:40.909Z"
   },
   {
    "duration": 22,
    "start_time": "2023-05-22T18:25:43.871Z"
   },
   {
    "duration": 8,
    "start_time": "2023-05-22T18:25:50.031Z"
   },
   {
    "duration": 24,
    "start_time": "2023-05-22T18:26:24.406Z"
   },
   {
    "duration": 14,
    "start_time": "2023-05-22T18:49:48.158Z"
   },
   {
    "duration": 21,
    "start_time": "2023-05-22T18:50:04.515Z"
   },
   {
    "duration": 2,
    "start_time": "2023-05-22T19:08:41.555Z"
   },
   {
    "duration": 15,
    "start_time": "2023-05-22T19:09:04.456Z"
   },
   {
    "duration": 129,
    "start_time": "2023-05-22T19:13:24.675Z"
   },
   {
    "duration": 25,
    "start_time": "2023-05-22T19:13:54.513Z"
   },
   {
    "duration": 16,
    "start_time": "2023-05-22T19:16:43.704Z"
   },
   {
    "duration": 9,
    "start_time": "2023-05-22T19:16:46.748Z"
   },
   {
    "duration": 9,
    "start_time": "2023-05-22T19:16:49.971Z"
   },
   {
    "duration": 33,
    "start_time": "2023-05-22T19:17:54.319Z"
   },
   {
    "duration": 1550,
    "start_time": "2023-05-23T15:55:06.554Z"
   },
   {
    "duration": 16,
    "start_time": "2023-05-23T15:55:10.709Z"
   },
   {
    "duration": 13,
    "start_time": "2023-05-23T15:55:13.196Z"
   },
   {
    "duration": 4,
    "start_time": "2023-05-23T15:55:17.154Z"
   },
   {
    "duration": 11,
    "start_time": "2023-05-23T15:55:17.731Z"
   },
   {
    "duration": 4,
    "start_time": "2023-05-23T15:55:18.990Z"
   },
   {
    "duration": 5,
    "start_time": "2023-05-23T15:55:19.516Z"
   },
   {
    "duration": 6,
    "start_time": "2023-05-23T15:55:20.069Z"
   },
   {
    "duration": 213,
    "start_time": "2023-05-23T15:55:26.174Z"
   },
   {
    "duration": 110,
    "start_time": "2023-05-23T15:57:32.866Z"
   },
   {
    "duration": 13,
    "start_time": "2023-05-23T15:58:07.760Z"
   },
   {
    "duration": 1533,
    "start_time": "2023-05-23T15:58:23.938Z"
   },
   {
    "duration": 1380,
    "start_time": "2023-05-23T15:58:30.884Z"
   },
   {
    "duration": 15,
    "start_time": "2023-05-23T15:58:32.266Z"
   },
   {
    "duration": 24,
    "start_time": "2023-05-23T15:58:32.283Z"
   },
   {
    "duration": 11,
    "start_time": "2023-05-23T15:58:32.309Z"
   },
   {
    "duration": 13,
    "start_time": "2023-05-23T15:58:32.321Z"
   },
   {
    "duration": 16,
    "start_time": "2023-05-23T15:58:32.336Z"
   },
   {
    "duration": 24,
    "start_time": "2023-05-23T15:58:32.354Z"
   },
   {
    "duration": 18,
    "start_time": "2023-05-23T15:58:32.379Z"
   },
   {
    "duration": 23,
    "start_time": "2023-05-23T15:58:32.398Z"
   },
   {
    "duration": 236,
    "start_time": "2023-05-23T15:58:32.424Z"
   },
   {
    "duration": 72,
    "start_time": "2023-05-23T15:58:32.661Z"
   },
   {
    "duration": 65,
    "start_time": "2023-05-23T15:58:32.734Z"
   },
   {
    "duration": 25,
    "start_time": "2023-05-23T15:58:32.801Z"
   },
   {
    "duration": 2,
    "start_time": "2023-05-23T15:58:32.828Z"
   },
   {
    "duration": 33,
    "start_time": "2023-05-23T15:58:32.831Z"
   },
   {
    "duration": 18,
    "start_time": "2023-05-23T15:58:32.865Z"
   },
   {
    "duration": 28,
    "start_time": "2023-05-23T15:58:32.884Z"
   },
   {
    "duration": 3,
    "start_time": "2023-05-23T15:58:32.914Z"
   },
   {
    "duration": 26,
    "start_time": "2023-05-23T15:58:32.919Z"
   },
   {
    "duration": 4,
    "start_time": "2023-05-23T15:58:32.946Z"
   },
   {
    "duration": 445,
    "start_time": "2023-05-23T15:58:32.951Z"
   },
   {
    "duration": 0,
    "start_time": "2023-05-23T15:58:33.399Z"
   },
   {
    "duration": 0,
    "start_time": "2023-05-23T15:58:33.400Z"
   },
   {
    "duration": 0,
    "start_time": "2023-05-23T15:58:33.401Z"
   },
   {
    "duration": 0,
    "start_time": "2023-05-23T15:58:33.402Z"
   },
   {
    "duration": 0,
    "start_time": "2023-05-23T15:58:33.404Z"
   },
   {
    "duration": 0,
    "start_time": "2023-05-23T15:58:33.405Z"
   },
   {
    "duration": 0,
    "start_time": "2023-05-23T15:58:33.406Z"
   },
   {
    "duration": 0,
    "start_time": "2023-05-23T15:58:33.407Z"
   },
   {
    "duration": 0,
    "start_time": "2023-05-23T15:58:33.408Z"
   },
   {
    "duration": 0,
    "start_time": "2023-05-23T15:58:33.409Z"
   },
   {
    "duration": 0,
    "start_time": "2023-05-23T15:58:33.410Z"
   },
   {
    "duration": 0,
    "start_time": "2023-05-23T15:58:33.411Z"
   },
   {
    "duration": 0,
    "start_time": "2023-05-23T15:58:33.412Z"
   },
   {
    "duration": 0,
    "start_time": "2023-05-23T15:58:33.413Z"
   },
   {
    "duration": 0,
    "start_time": "2023-05-23T15:58:33.415Z"
   },
   {
    "duration": 0,
    "start_time": "2023-05-23T15:58:33.416Z"
   },
   {
    "duration": 0,
    "start_time": "2023-05-23T15:58:33.417Z"
   },
   {
    "duration": 0,
    "start_time": "2023-05-23T15:58:33.418Z"
   },
   {
    "duration": 0,
    "start_time": "2023-05-23T15:58:33.419Z"
   },
   {
    "duration": 0,
    "start_time": "2023-05-23T15:58:33.420Z"
   },
   {
    "duration": 0,
    "start_time": "2023-05-23T15:58:33.422Z"
   },
   {
    "duration": 0,
    "start_time": "2023-05-23T15:58:33.423Z"
   },
   {
    "duration": 0,
    "start_time": "2023-05-23T15:58:33.423Z"
   },
   {
    "duration": 0,
    "start_time": "2023-05-23T15:58:33.424Z"
   },
   {
    "duration": 0,
    "start_time": "2023-05-23T15:58:33.425Z"
   },
   {
    "duration": 0,
    "start_time": "2023-05-23T15:58:33.426Z"
   },
   {
    "duration": 0,
    "start_time": "2023-05-23T15:58:33.427Z"
   },
   {
    "duration": 0,
    "start_time": "2023-05-23T15:58:33.428Z"
   },
   {
    "duration": 0,
    "start_time": "2023-05-23T15:58:33.429Z"
   },
   {
    "duration": 0,
    "start_time": "2023-05-23T15:58:33.429Z"
   },
   {
    "duration": 0,
    "start_time": "2023-05-23T15:58:33.431Z"
   },
   {
    "duration": 0,
    "start_time": "2023-05-23T15:58:33.432Z"
   },
   {
    "duration": 0,
    "start_time": "2023-05-23T15:58:33.432Z"
   },
   {
    "duration": 0,
    "start_time": "2023-05-23T15:58:33.433Z"
   },
   {
    "duration": 0,
    "start_time": "2023-05-23T15:58:33.434Z"
   },
   {
    "duration": 0,
    "start_time": "2023-05-23T15:58:33.495Z"
   },
   {
    "duration": 0,
    "start_time": "2023-05-23T15:58:33.496Z"
   },
   {
    "duration": 0,
    "start_time": "2023-05-23T15:58:33.497Z"
   },
   {
    "duration": 0,
    "start_time": "2023-05-23T15:58:33.498Z"
   },
   {
    "duration": 0,
    "start_time": "2023-05-23T15:58:33.499Z"
   },
   {
    "duration": 66,
    "start_time": "2023-05-23T16:02:06.547Z"
   },
   {
    "duration": 39,
    "start_time": "2023-05-23T16:02:27.208Z"
   },
   {
    "duration": 66,
    "start_time": "2023-05-23T16:02:29.648Z"
   },
   {
    "duration": 24,
    "start_time": "2023-05-23T16:02:31.055Z"
   },
   {
    "duration": 20,
    "start_time": "2023-05-23T16:03:34.840Z"
   },
   {
    "duration": 7,
    "start_time": "2023-05-23T16:03:36.878Z"
   },
   {
    "duration": 15,
    "start_time": "2023-05-23T16:03:39.315Z"
   },
   {
    "duration": 4,
    "start_time": "2023-05-23T16:03:41.766Z"
   },
   {
    "duration": 21,
    "start_time": "2023-05-23T16:03:44.982Z"
   },
   {
    "duration": 5,
    "start_time": "2023-05-23T16:03:47.365Z"
   },
   {
    "duration": 395,
    "start_time": "2023-05-23T16:03:49.094Z"
   },
   {
    "duration": 8,
    "start_time": "2023-05-23T16:04:08.596Z"
   },
   {
    "duration": 27,
    "start_time": "2023-05-23T16:04:09.557Z"
   },
   {
    "duration": 21,
    "start_time": "2023-05-23T16:04:10.454Z"
   },
   {
    "duration": 21,
    "start_time": "2023-05-23T16:04:13.146Z"
   },
   {
    "duration": 4,
    "start_time": "2023-05-23T16:04:16.414Z"
   },
   {
    "duration": 1682,
    "start_time": "2023-05-23T16:04:18.614Z"
   },
   {
    "duration": 7,
    "start_time": "2023-05-23T16:04:21.913Z"
   },
   {
    "duration": 4,
    "start_time": "2023-05-23T16:04:25.650Z"
   },
   {
    "duration": 6503,
    "start_time": "2023-05-23T16:04:32.871Z"
   },
   {
    "duration": 7,
    "start_time": "2023-05-23T16:06:22.708Z"
   },
   {
    "duration": 165,
    "start_time": "2023-05-23T16:06:25.579Z"
   },
   {
    "duration": 731,
    "start_time": "2023-05-23T16:06:27.059Z"
   },
   {
    "duration": 8,
    "start_time": "2023-05-23T16:06:30.552Z"
   },
   {
    "duration": 46,
    "start_time": "2023-05-23T16:06:31.855Z"
   },
   {
    "duration": 404,
    "start_time": "2023-05-23T16:06:32.692Z"
   },
   {
    "duration": 8,
    "start_time": "2023-05-23T16:06:35.355Z"
   },
   {
    "duration": 50,
    "start_time": "2023-05-23T16:06:40.847Z"
   },
   {
    "duration": 4,
    "start_time": "2023-05-23T16:06:48.327Z"
   },
   {
    "duration": 121,
    "start_time": "2023-05-23T16:06:49.092Z"
   },
   {
    "duration": 5,
    "start_time": "2023-05-23T16:06:49.588Z"
   },
   {
    "duration": 118,
    "start_time": "2023-05-23T16:48:43.267Z"
   },
   {
    "duration": 4,
    "start_time": "2023-05-23T16:48:59.171Z"
   },
   {
    "duration": 5,
    "start_time": "2023-05-23T16:49:03.468Z"
   },
   {
    "duration": 45,
    "start_time": "2023-05-23T16:51:13.290Z"
   },
   {
    "duration": 115,
    "start_time": "2023-05-23T16:51:18.802Z"
   },
   {
    "duration": 6,
    "start_time": "2023-05-23T16:51:32.601Z"
   },
   {
    "duration": 10,
    "start_time": "2023-05-23T16:54:16.783Z"
   },
   {
    "duration": 128,
    "start_time": "2023-05-23T16:54:55.206Z"
   },
   {
    "duration": 9,
    "start_time": "2023-05-23T16:55:03.284Z"
   },
   {
    "duration": 12,
    "start_time": "2023-05-23T16:55:07.614Z"
   },
   {
    "duration": 1268,
    "start_time": "2023-05-23T16:55:13.353Z"
   },
   {
    "duration": 15,
    "start_time": "2023-05-23T16:55:14.622Z"
   },
   {
    "duration": 14,
    "start_time": "2023-05-23T16:55:14.640Z"
   },
   {
    "duration": 12,
    "start_time": "2023-05-23T16:55:14.656Z"
   },
   {
    "duration": 22,
    "start_time": "2023-05-23T16:55:14.669Z"
   },
   {
    "duration": 5,
    "start_time": "2023-05-23T16:55:14.694Z"
   },
   {
    "duration": 22,
    "start_time": "2023-05-23T16:55:14.700Z"
   },
   {
    "duration": 12,
    "start_time": "2023-05-23T16:55:14.724Z"
   },
   {
    "duration": 22,
    "start_time": "2023-05-23T16:55:14.738Z"
   },
   {
    "duration": 213,
    "start_time": "2023-05-23T16:55:14.763Z"
   },
   {
    "duration": 72,
    "start_time": "2023-05-23T16:55:14.978Z"
   },
   {
    "duration": 61,
    "start_time": "2023-05-23T16:55:15.052Z"
   },
   {
    "duration": 25,
    "start_time": "2023-05-23T16:55:15.115Z"
   },
   {
    "duration": 21,
    "start_time": "2023-05-23T16:55:15.142Z"
   },
   {
    "duration": 54,
    "start_time": "2023-05-23T16:55:15.165Z"
   },
   {
    "duration": 37,
    "start_time": "2023-05-23T16:55:15.220Z"
   },
   {
    "duration": 4,
    "start_time": "2023-05-23T16:55:15.258Z"
   },
   {
    "duration": 37,
    "start_time": "2023-05-23T16:55:15.263Z"
   },
   {
    "duration": 4,
    "start_time": "2023-05-23T16:55:15.301Z"
   },
   {
    "duration": 14,
    "start_time": "2023-05-23T16:55:15.307Z"
   },
   {
    "duration": 54,
    "start_time": "2023-05-23T16:55:15.322Z"
   },
   {
    "duration": 23,
    "start_time": "2023-05-23T16:55:15.378Z"
   },
   {
    "duration": 28,
    "start_time": "2023-05-23T16:55:15.402Z"
   },
   {
    "duration": 4,
    "start_time": "2023-05-23T16:55:15.432Z"
   },
   {
    "duration": 1660,
    "start_time": "2023-05-23T16:55:15.438Z"
   },
   {
    "duration": 96,
    "start_time": "2023-05-23T16:55:17.100Z"
   },
   {
    "duration": 5,
    "start_time": "2023-05-23T16:55:17.197Z"
   },
   {
    "duration": 6521,
    "start_time": "2023-05-23T16:55:17.206Z"
   },
   {
    "duration": 7,
    "start_time": "2023-05-23T16:55:23.728Z"
   },
   {
    "duration": 162,
    "start_time": "2023-05-23T16:55:23.736Z"
   },
   {
    "duration": 727,
    "start_time": "2023-05-23T16:55:23.899Z"
   },
   {
    "duration": 8,
    "start_time": "2023-05-23T16:55:24.627Z"
   },
   {
    "duration": 45,
    "start_time": "2023-05-23T16:55:24.636Z"
   },
   {
    "duration": 501,
    "start_time": "2023-05-23T16:55:24.694Z"
   },
   {
    "duration": 98,
    "start_time": "2023-05-23T16:55:25.197Z"
   },
   {
    "duration": 100,
    "start_time": "2023-05-23T16:55:25.296Z"
   },
   {
    "duration": 6,
    "start_time": "2023-05-23T16:55:25.398Z"
   },
   {
    "duration": 130,
    "start_time": "2023-05-23T16:55:25.495Z"
   },
   {
    "duration": 4,
    "start_time": "2023-05-23T16:55:25.627Z"
   },
   {
    "duration": 128,
    "start_time": "2023-05-23T16:55:25.632Z"
   },
   {
    "duration": 5,
    "start_time": "2023-05-23T16:55:25.761Z"
   },
   {
    "duration": 124,
    "start_time": "2023-05-23T16:55:25.767Z"
   },
   {
    "duration": 5,
    "start_time": "2023-05-23T16:55:25.895Z"
   },
   {
    "duration": 11,
    "start_time": "2023-05-23T16:55:25.901Z"
   },
   {
    "duration": 25,
    "start_time": "2023-05-23T16:55:25.913Z"
   },
   {
    "duration": 67,
    "start_time": "2023-05-23T16:55:25.940Z"
   },
   {
    "duration": 182,
    "start_time": "2023-05-23T16:55:26.009Z"
   },
   {
    "duration": 30,
    "start_time": "2023-05-23T16:55:26.192Z"
   },
   {
    "duration": 118,
    "start_time": "2023-05-23T16:55:26.224Z"
   },
   {
    "duration": 87,
    "start_time": "2023-05-23T16:55:26.343Z"
   },
   {
    "duration": 1964,
    "start_time": "2023-05-23T16:55:26.431Z"
   },
   {
    "duration": 1594,
    "start_time": "2023-05-23T16:55:28.402Z"
   },
   {
    "duration": 899,
    "start_time": "2023-05-23T16:55:29.998Z"
   },
   {
    "duration": 46,
    "start_time": "2023-05-23T16:55:30.898Z"
   },
   {
    "duration": 656,
    "start_time": "2023-05-23T16:55:30.946Z"
   },
   {
    "duration": 55,
    "start_time": "2023-05-23T16:55:31.603Z"
   },
   {
    "duration": 736,
    "start_time": "2023-05-23T16:55:31.660Z"
   },
   {
    "duration": 200,
    "start_time": "2023-05-23T16:55:32.398Z"
   },
   {
    "duration": 668,
    "start_time": "2023-05-23T16:55:32.600Z"
   },
   {
    "duration": 63,
    "start_time": "2023-05-23T16:55:33.270Z"
   },
   {
    "duration": 63,
    "start_time": "2023-05-23T16:55:33.335Z"
   },
   {
    "duration": 5,
    "start_time": "2023-05-23T16:55:33.400Z"
   },
   {
    "duration": 15,
    "start_time": "2023-05-23T16:55:33.406Z"
   },
   {
    "duration": 581,
    "start_time": "2023-05-23T16:57:10.753Z"
   },
   {
    "duration": 406,
    "start_time": "2023-05-23T16:57:44.845Z"
   },
   {
    "duration": 622,
    "start_time": "2023-05-23T16:57:56.973Z"
   },
   {
    "duration": 51,
    "start_time": "2023-05-23T17:02:59.969Z"
   },
   {
    "duration": 36,
    "start_time": "2023-05-23T17:03:45.487Z"
   },
   {
    "duration": 102,
    "start_time": "2023-05-23T17:03:47.996Z"
   },
   {
    "duration": 102,
    "start_time": "2023-05-23T18:05:00.988Z"
   },
   {
    "duration": 179,
    "start_time": "2023-05-23T18:05:09.289Z"
   },
   {
    "duration": 9,
    "start_time": "2023-05-23T18:05:20.297Z"
   },
   {
    "duration": 56,
    "start_time": "2023-05-23T18:06:04.483Z"
   },
   {
    "duration": 178,
    "start_time": "2023-05-23T18:06:07.785Z"
   },
   {
    "duration": 35,
    "start_time": "2023-05-23T18:09:58.494Z"
   },
   {
    "duration": 34,
    "start_time": "2023-05-23T18:10:10.750Z"
   },
   {
    "duration": 181,
    "start_time": "2023-05-23T18:10:16.002Z"
   },
   {
    "duration": 5,
    "start_time": "2023-05-23T18:13:46.522Z"
   },
   {
    "duration": 116,
    "start_time": "2023-05-23T18:15:05.354Z"
   },
   {
    "duration": 5,
    "start_time": "2023-05-23T18:15:07.436Z"
   },
   {
    "duration": 1494,
    "start_time": "2023-05-23T20:29:05.754Z"
   },
   {
    "duration": 14,
    "start_time": "2023-05-23T20:29:07.249Z"
   },
   {
    "duration": 12,
    "start_time": "2023-05-23T20:29:07.265Z"
   },
   {
    "duration": 2,
    "start_time": "2023-05-23T20:29:07.279Z"
   },
   {
    "duration": 13,
    "start_time": "2023-05-23T20:29:07.283Z"
   },
   {
    "duration": 3,
    "start_time": "2023-05-23T20:29:07.297Z"
   },
   {
    "duration": 11,
    "start_time": "2023-05-23T20:29:07.302Z"
   },
   {
    "duration": 8,
    "start_time": "2023-05-23T20:29:07.314Z"
   },
   {
    "duration": 15,
    "start_time": "2023-05-23T20:29:07.323Z"
   },
   {
    "duration": 198,
    "start_time": "2023-05-23T20:29:07.341Z"
   },
   {
    "duration": 69,
    "start_time": "2023-05-23T20:29:07.540Z"
   },
   {
    "duration": 53,
    "start_time": "2023-05-23T20:29:07.611Z"
   },
   {
    "duration": 40,
    "start_time": "2023-05-23T20:29:07.666Z"
   },
   {
    "duration": 15,
    "start_time": "2023-05-23T20:29:07.708Z"
   },
   {
    "duration": 3,
    "start_time": "2023-05-23T20:29:07.725Z"
   },
   {
    "duration": 16,
    "start_time": "2023-05-23T20:29:07.730Z"
   },
   {
    "duration": 3,
    "start_time": "2023-05-23T20:29:07.748Z"
   },
   {
    "duration": 18,
    "start_time": "2023-05-23T20:29:07.752Z"
   },
   {
    "duration": 3,
    "start_time": "2023-05-23T20:29:07.772Z"
   },
   {
    "duration": 7,
    "start_time": "2023-05-23T20:29:07.806Z"
   },
   {
    "duration": 25,
    "start_time": "2023-05-23T20:29:07.814Z"
   },
   {
    "duration": 20,
    "start_time": "2023-05-23T20:29:07.840Z"
   },
   {
    "duration": 51,
    "start_time": "2023-05-23T20:29:07.861Z"
   },
   {
    "duration": 4,
    "start_time": "2023-05-23T20:29:07.913Z"
   },
   {
    "duration": 1501,
    "start_time": "2023-05-23T20:29:07.918Z"
   },
   {
    "duration": 9,
    "start_time": "2023-05-23T20:29:09.507Z"
   },
   {
    "duration": 90,
    "start_time": "2023-05-23T20:29:09.517Z"
   },
   {
    "duration": 393,
    "start_time": "2023-05-23T20:29:09.610Z"
   },
   {
    "duration": 8,
    "start_time": "2023-05-23T20:29:10.006Z"
   },
   {
    "duration": 58,
    "start_time": "2023-05-23T20:29:10.016Z"
   },
   {
    "duration": 765,
    "start_time": "2023-05-23T20:29:10.076Z"
   },
   {
    "duration": 8,
    "start_time": "2023-05-23T20:29:10.842Z"
   },
   {
    "duration": 61,
    "start_time": "2023-05-23T20:29:10.851Z"
   },
   {
    "duration": 494,
    "start_time": "2023-05-23T20:29:10.913Z"
   },
   {
    "duration": 99,
    "start_time": "2023-05-23T20:29:11.409Z"
   },
   {
    "duration": 97,
    "start_time": "2023-05-23T20:29:11.510Z"
   },
   {
    "duration": 5,
    "start_time": "2023-05-23T20:29:11.609Z"
   },
   {
    "duration": 228,
    "start_time": "2023-05-23T20:29:11.616Z"
   },
   {
    "duration": 5,
    "start_time": "2023-05-23T20:29:11.846Z"
   },
   {
    "duration": 135,
    "start_time": "2023-05-23T20:29:11.852Z"
   },
   {
    "duration": 6,
    "start_time": "2023-05-23T20:29:11.988Z"
   },
   {
    "duration": 124,
    "start_time": "2023-05-23T20:29:11.995Z"
   },
   {
    "duration": 4,
    "start_time": "2023-05-23T20:29:12.121Z"
   },
   {
    "duration": 7,
    "start_time": "2023-05-23T20:29:12.127Z"
   },
   {
    "duration": 8,
    "start_time": "2023-05-23T20:29:12.136Z"
   },
   {
    "duration": 72,
    "start_time": "2023-05-23T20:29:12.146Z"
   },
   {
    "duration": 192,
    "start_time": "2023-05-23T20:29:12.220Z"
   },
   {
    "duration": 42,
    "start_time": "2023-05-23T20:29:12.414Z"
   },
   {
    "duration": 136,
    "start_time": "2023-05-23T20:29:12.458Z"
   },
   {
    "duration": 132,
    "start_time": "2023-05-23T20:29:12.595Z"
   },
   {
    "duration": 1992,
    "start_time": "2023-05-23T20:29:12.729Z"
   },
   {
    "duration": 1697,
    "start_time": "2023-05-23T20:29:14.723Z"
   },
   {
    "duration": 849,
    "start_time": "2023-05-23T20:29:16.421Z"
   },
   {
    "duration": 66,
    "start_time": "2023-05-23T20:29:17.272Z"
   },
   {
    "duration": 603,
    "start_time": "2023-05-23T20:29:17.340Z"
   },
   {
    "duration": 51,
    "start_time": "2023-05-23T20:29:17.945Z"
   },
   {
    "duration": 710,
    "start_time": "2023-05-23T20:29:18.006Z"
   },
   {
    "duration": 193,
    "start_time": "2023-05-23T20:29:18.718Z"
   },
   {
    "duration": 146,
    "start_time": "2023-05-23T20:29:18.913Z"
   },
   {
    "duration": 122,
    "start_time": "2023-05-23T20:29:19.060Z"
   },
   {
    "duration": 4,
    "start_time": "2023-05-23T20:29:19.184Z"
   },
   {
    "duration": 573,
    "start_time": "2023-05-23T20:29:19.190Z"
   },
   {
    "duration": 63,
    "start_time": "2023-05-23T20:29:19.765Z"
   },
   {
    "duration": 51,
    "start_time": "2023-05-23T20:29:19.829Z"
   },
   {
    "duration": 5,
    "start_time": "2023-05-23T20:29:19.881Z"
   },
   {
    "duration": 22,
    "start_time": "2023-05-23T20:29:19.888Z"
   },
   {
    "duration": 1872,
    "start_time": "2023-05-24T16:52:05.075Z"
   },
   {
    "duration": 22,
    "start_time": "2023-05-24T16:52:06.950Z"
   },
   {
    "duration": 36,
    "start_time": "2023-05-24T16:52:06.974Z"
   },
   {
    "duration": 6,
    "start_time": "2023-05-24T16:52:07.015Z"
   },
   {
    "duration": 47,
    "start_time": "2023-05-24T16:52:07.024Z"
   },
   {
    "duration": 5,
    "start_time": "2023-05-24T16:52:07.074Z"
   },
   {
    "duration": 19,
    "start_time": "2023-05-24T16:52:07.081Z"
   },
   {
    "duration": 23,
    "start_time": "2023-05-24T16:52:07.102Z"
   },
   {
    "duration": 42,
    "start_time": "2023-05-24T16:52:07.127Z"
   },
   {
    "duration": 260,
    "start_time": "2023-05-24T16:52:07.173Z"
   },
   {
    "duration": 91,
    "start_time": "2023-05-24T16:52:07.435Z"
   },
   {
    "duration": 84,
    "start_time": "2023-05-24T16:52:07.528Z"
   },
   {
    "duration": 44,
    "start_time": "2023-05-24T16:52:07.614Z"
   },
   {
    "duration": 23,
    "start_time": "2023-05-24T16:52:07.671Z"
   },
   {
    "duration": 7,
    "start_time": "2023-05-24T16:52:07.697Z"
   },
   {
    "duration": 32,
    "start_time": "2023-05-24T16:52:07.707Z"
   },
   {
    "duration": 6,
    "start_time": "2023-05-24T16:52:07.772Z"
   },
   {
    "duration": 49,
    "start_time": "2023-05-24T16:52:07.782Z"
   },
   {
    "duration": 6,
    "start_time": "2023-05-24T16:52:07.835Z"
   },
   {
    "duration": 13,
    "start_time": "2023-05-24T16:52:07.871Z"
   },
   {
    "duration": 90,
    "start_time": "2023-05-24T16:52:07.886Z"
   },
   {
    "duration": 32,
    "start_time": "2023-05-24T16:52:07.980Z"
   },
   {
    "duration": 62,
    "start_time": "2023-05-24T16:52:08.016Z"
   },
   {
    "duration": 5,
    "start_time": "2023-05-24T16:52:08.080Z"
   },
   {
    "duration": 2290,
    "start_time": "2023-05-24T16:52:08.087Z"
   },
   {
    "duration": 95,
    "start_time": "2023-05-24T16:52:10.379Z"
   },
   {
    "duration": 27,
    "start_time": "2023-05-24T16:52:10.476Z"
   },
   {
    "duration": 564,
    "start_time": "2023-05-24T16:52:10.510Z"
   },
   {
    "duration": 11,
    "start_time": "2023-05-24T16:52:11.077Z"
   },
   {
    "duration": 87,
    "start_time": "2023-05-24T16:52:11.090Z"
   },
   {
    "duration": 1097,
    "start_time": "2023-05-24T16:52:11.179Z"
   },
   {
    "duration": 11,
    "start_time": "2023-05-24T16:52:12.278Z"
   },
   {
    "duration": 61,
    "start_time": "2023-05-24T16:52:12.290Z"
   },
   {
    "duration": 607,
    "start_time": "2023-05-24T16:52:12.372Z"
   },
   {
    "duration": 12,
    "start_time": "2023-05-24T16:52:12.981Z"
   },
   {
    "duration": 177,
    "start_time": "2023-05-24T16:52:12.995Z"
   },
   {
    "duration": 101,
    "start_time": "2023-05-24T16:52:13.174Z"
   },
   {
    "duration": 173,
    "start_time": "2023-05-24T16:52:13.277Z"
   },
   {
    "duration": 20,
    "start_time": "2023-05-24T16:52:13.452Z"
   },
   {
    "duration": 160,
    "start_time": "2023-05-24T16:52:13.474Z"
   },
   {
    "duration": 10,
    "start_time": "2023-05-24T16:52:13.637Z"
   },
   {
    "duration": 237,
    "start_time": "2023-05-24T16:52:13.651Z"
   },
   {
    "duration": 8,
    "start_time": "2023-05-24T16:52:13.890Z"
   },
   {
    "duration": 13,
    "start_time": "2023-05-24T16:52:13.900Z"
   },
   {
    "duration": 15,
    "start_time": "2023-05-24T16:52:13.915Z"
   },
   {
    "duration": 97,
    "start_time": "2023-05-24T16:52:13.932Z"
   },
   {
    "duration": 228,
    "start_time": "2023-05-24T16:52:14.031Z"
   },
   {
    "duration": 40,
    "start_time": "2023-05-24T16:52:14.261Z"
   },
   {
    "duration": 154,
    "start_time": "2023-05-24T16:52:14.303Z"
   },
   {
    "duration": 172,
    "start_time": "2023-05-24T16:52:14.460Z"
   },
   {
    "duration": 2465,
    "start_time": "2023-05-24T16:52:14.635Z"
   },
   {
    "duration": 2269,
    "start_time": "2023-05-24T16:52:17.102Z"
   },
   {
    "duration": 1035,
    "start_time": "2023-05-24T16:52:19.374Z"
   },
   {
    "duration": 67,
    "start_time": "2023-05-24T16:52:20.412Z"
   },
   {
    "duration": 790,
    "start_time": "2023-05-24T16:52:20.481Z"
   },
   {
    "duration": 65,
    "start_time": "2023-05-24T16:52:21.273Z"
   },
   {
    "duration": 832,
    "start_time": "2023-05-24T16:52:21.340Z"
   },
   {
    "duration": 298,
    "start_time": "2023-05-24T16:52:22.176Z"
   },
   {
    "duration": 11,
    "start_time": "2023-05-24T16:52:22.477Z"
   },
   {
    "duration": 221,
    "start_time": "2023-05-24T16:52:22.491Z"
   },
   {
    "duration": 8,
    "start_time": "2023-05-24T16:52:22.714Z"
   },
   {
    "duration": 751,
    "start_time": "2023-05-24T16:52:22.725Z"
   },
   {
    "duration": 65,
    "start_time": "2023-05-24T16:52:23.478Z"
   },
   {
    "duration": 85,
    "start_time": "2023-05-24T16:52:23.545Z"
   },
   {
    "duration": 7,
    "start_time": "2023-05-24T16:52:23.632Z"
   },
   {
    "duration": 32,
    "start_time": "2023-05-24T16:52:23.641Z"
   },
   {
    "duration": 66,
    "start_time": "2023-05-24T18:49:40.042Z"
   },
   {
    "duration": 1462,
    "start_time": "2023-05-24T18:49:47.024Z"
   },
   {
    "duration": 18,
    "start_time": "2023-05-24T18:49:48.488Z"
   },
   {
    "duration": 89,
    "start_time": "2023-05-24T18:49:48.508Z"
   },
   {
    "duration": 4,
    "start_time": "2023-05-24T18:49:48.600Z"
   },
   {
    "duration": 37,
    "start_time": "2023-05-24T18:49:48.606Z"
   },
   {
    "duration": 18,
    "start_time": "2023-05-24T18:49:48.646Z"
   },
   {
    "duration": 8,
    "start_time": "2023-05-24T18:49:48.666Z"
   },
   {
    "duration": 25,
    "start_time": "2023-05-24T18:49:48.676Z"
   },
   {
    "duration": 256,
    "start_time": "2023-05-24T18:49:48.703Z"
   },
   {
    "duration": 135,
    "start_time": "2023-05-24T18:49:48.963Z"
   },
   {
    "duration": 0,
    "start_time": "2023-05-24T18:49:49.104Z"
   },
   {
    "duration": 0,
    "start_time": "2023-05-24T18:49:49.105Z"
   },
   {
    "duration": 0,
    "start_time": "2023-05-24T18:49:49.107Z"
   },
   {
    "duration": 0,
    "start_time": "2023-05-24T18:49:49.108Z"
   },
   {
    "duration": 0,
    "start_time": "2023-05-24T18:49:49.109Z"
   },
   {
    "duration": 0,
    "start_time": "2023-05-24T18:49:49.110Z"
   },
   {
    "duration": 0,
    "start_time": "2023-05-24T18:49:49.112Z"
   },
   {
    "duration": 0,
    "start_time": "2023-05-24T18:49:49.113Z"
   },
   {
    "duration": 0,
    "start_time": "2023-05-24T18:49:49.115Z"
   },
   {
    "duration": 0,
    "start_time": "2023-05-24T18:49:49.116Z"
   },
   {
    "duration": 0,
    "start_time": "2023-05-24T18:49:49.117Z"
   },
   {
    "duration": 0,
    "start_time": "2023-05-24T18:49:49.118Z"
   },
   {
    "duration": 0,
    "start_time": "2023-05-24T18:49:49.120Z"
   },
   {
    "duration": 0,
    "start_time": "2023-05-24T18:49:49.121Z"
   },
   {
    "duration": 0,
    "start_time": "2023-05-24T18:49:49.122Z"
   },
   {
    "duration": 0,
    "start_time": "2023-05-24T18:49:49.123Z"
   },
   {
    "duration": 0,
    "start_time": "2023-05-24T18:49:49.125Z"
   },
   {
    "duration": 0,
    "start_time": "2023-05-24T18:49:49.126Z"
   },
   {
    "duration": 0,
    "start_time": "2023-05-24T18:49:49.127Z"
   },
   {
    "duration": 0,
    "start_time": "2023-05-24T18:49:49.128Z"
   },
   {
    "duration": 0,
    "start_time": "2023-05-24T18:49:49.171Z"
   },
   {
    "duration": 0,
    "start_time": "2023-05-24T18:49:49.173Z"
   },
   {
    "duration": 0,
    "start_time": "2023-05-24T18:49:49.174Z"
   },
   {
    "duration": 0,
    "start_time": "2023-05-24T18:49:49.176Z"
   },
   {
    "duration": 0,
    "start_time": "2023-05-24T18:49:49.178Z"
   },
   {
    "duration": 0,
    "start_time": "2023-05-24T18:49:49.179Z"
   },
   {
    "duration": 0,
    "start_time": "2023-05-24T18:49:49.181Z"
   },
   {
    "duration": 0,
    "start_time": "2023-05-24T18:49:49.184Z"
   },
   {
    "duration": 0,
    "start_time": "2023-05-24T18:49:49.186Z"
   },
   {
    "duration": 0,
    "start_time": "2023-05-24T18:49:49.187Z"
   },
   {
    "duration": 0,
    "start_time": "2023-05-24T18:49:49.189Z"
   },
   {
    "duration": 0,
    "start_time": "2023-05-24T18:49:49.191Z"
   },
   {
    "duration": 0,
    "start_time": "2023-05-24T18:49:49.193Z"
   },
   {
    "duration": 0,
    "start_time": "2023-05-24T18:49:49.195Z"
   },
   {
    "duration": 0,
    "start_time": "2023-05-24T18:49:49.196Z"
   },
   {
    "duration": 0,
    "start_time": "2023-05-24T18:49:49.198Z"
   },
   {
    "duration": 0,
    "start_time": "2023-05-24T18:49:49.200Z"
   },
   {
    "duration": 0,
    "start_time": "2023-05-24T18:49:49.201Z"
   },
   {
    "duration": 0,
    "start_time": "2023-05-24T18:49:49.204Z"
   },
   {
    "duration": 0,
    "start_time": "2023-05-24T18:49:49.205Z"
   },
   {
    "duration": 0,
    "start_time": "2023-05-24T18:49:49.206Z"
   },
   {
    "duration": 0,
    "start_time": "2023-05-24T18:49:49.208Z"
   },
   {
    "duration": 0,
    "start_time": "2023-05-24T18:49:49.208Z"
   },
   {
    "duration": 0,
    "start_time": "2023-05-24T18:49:49.210Z"
   },
   {
    "duration": 0,
    "start_time": "2023-05-24T18:49:49.272Z"
   },
   {
    "duration": 0,
    "start_time": "2023-05-24T18:49:49.274Z"
   },
   {
    "duration": 0,
    "start_time": "2023-05-24T18:49:49.275Z"
   },
   {
    "duration": 0,
    "start_time": "2023-05-24T18:49:49.276Z"
   },
   {
    "duration": 0,
    "start_time": "2023-05-24T18:49:49.278Z"
   },
   {
    "duration": 0,
    "start_time": "2023-05-24T18:49:49.279Z"
   },
   {
    "duration": 0,
    "start_time": "2023-05-24T18:49:49.281Z"
   },
   {
    "duration": 0,
    "start_time": "2023-05-24T18:49:49.282Z"
   },
   {
    "duration": 0,
    "start_time": "2023-05-24T18:49:49.284Z"
   },
   {
    "duration": 0,
    "start_time": "2023-05-24T18:49:49.286Z"
   },
   {
    "duration": 0,
    "start_time": "2023-05-24T18:49:49.287Z"
   },
   {
    "duration": 0,
    "start_time": "2023-05-24T18:49:49.289Z"
   },
   {
    "duration": 4,
    "start_time": "2023-05-24T18:51:21.712Z"
   },
   {
    "duration": 73,
    "start_time": "2023-05-24T18:51:23.977Z"
   },
   {
    "duration": 151,
    "start_time": "2023-05-24T18:51:47.291Z"
   },
   {
    "duration": 33,
    "start_time": "2023-05-24T18:52:02.968Z"
   },
   {
    "duration": 45,
    "start_time": "2023-05-24T18:56:50.564Z"
   },
   {
    "duration": 6081,
    "start_time": "2023-05-24T19:02:57.258Z"
   },
   {
    "duration": 20312,
    "start_time": "2023-05-24T19:07:11.353Z"
   },
   {
    "duration": 19370,
    "start_time": "2023-05-24T19:11:34.373Z"
   },
   {
    "duration": 3898,
    "start_time": "2023-05-24T19:13:59.475Z"
   },
   {
    "duration": 3347,
    "start_time": "2023-05-24T19:16:00.959Z"
   },
   {
    "duration": 19179,
    "start_time": "2023-05-24T19:19:45.310Z"
   },
   {
    "duration": 74,
    "start_time": "2023-05-24T19:24:47.848Z"
   },
   {
    "duration": 4,
    "start_time": "2023-05-24T19:25:01.962Z"
   },
   {
    "duration": 45,
    "start_time": "2023-05-24T19:25:11.454Z"
   },
   {
    "duration": 145,
    "start_time": "2023-05-24T19:25:35.016Z"
   },
   {
    "duration": 37,
    "start_time": "2023-05-24T19:25:41.849Z"
   },
   {
    "duration": 6734,
    "start_time": "2023-05-24T19:25:44.596Z"
   },
   {
    "duration": 20570,
    "start_time": "2023-05-24T19:26:03.611Z"
   },
   {
    "duration": 21810,
    "start_time": "2023-05-24T19:26:36.400Z"
   },
   {
    "duration": 3524,
    "start_time": "2023-05-24T19:27:01.352Z"
   },
   {
    "duration": 19826,
    "start_time": "2023-05-24T19:27:42.991Z"
   },
   {
    "duration": 4059,
    "start_time": "2023-05-24T19:28:05.918Z"
   },
   {
    "duration": 1905,
    "start_time": "2023-05-24T19:29:37.552Z"
   },
   {
    "duration": 31,
    "start_time": "2023-05-24T19:29:39.460Z"
   },
   {
    "duration": 20,
    "start_time": "2023-05-24T19:29:39.494Z"
   },
   {
    "duration": 10,
    "start_time": "2023-05-24T19:29:39.517Z"
   },
   {
    "duration": 20,
    "start_time": "2023-05-24T19:29:39.529Z"
   },
   {
    "duration": 6,
    "start_time": "2023-05-24T19:29:39.551Z"
   },
   {
    "duration": 38,
    "start_time": "2023-05-24T19:29:39.559Z"
   },
   {
    "duration": 14,
    "start_time": "2023-05-24T19:29:39.599Z"
   },
   {
    "duration": 254,
    "start_time": "2023-05-24T19:29:39.615Z"
   },
   {
    "duration": 8,
    "start_time": "2023-05-24T19:29:39.879Z"
   },
   {
    "duration": 110,
    "start_time": "2023-05-24T19:29:39.892Z"
   },
   {
    "duration": 177,
    "start_time": "2023-05-24T19:29:40.007Z"
   },
   {
    "duration": 48,
    "start_time": "2023-05-24T19:29:40.195Z"
   },
   {
    "duration": 6932,
    "start_time": "2023-05-24T19:29:40.245Z"
   },
   {
    "duration": 22846,
    "start_time": "2023-05-24T19:29:47.179Z"
   },
   {
    "duration": 19363,
    "start_time": "2023-05-24T19:30:10.027Z"
   },
   {
    "duration": 3921,
    "start_time": "2023-05-24T19:30:29.392Z"
   },
   {
    "duration": 270,
    "start_time": "2023-05-24T19:30:33.315Z"
   },
   {
    "duration": 0,
    "start_time": "2023-05-24T19:30:33.590Z"
   },
   {
    "duration": 0,
    "start_time": "2023-05-24T19:30:33.592Z"
   },
   {
    "duration": 0,
    "start_time": "2023-05-24T19:30:33.593Z"
   },
   {
    "duration": 0,
    "start_time": "2023-05-24T19:30:33.595Z"
   },
   {
    "duration": 0,
    "start_time": "2023-05-24T19:30:33.596Z"
   },
   {
    "duration": 0,
    "start_time": "2023-05-24T19:30:33.598Z"
   },
   {
    "duration": 0,
    "start_time": "2023-05-24T19:30:33.599Z"
   },
   {
    "duration": 0,
    "start_time": "2023-05-24T19:30:33.600Z"
   },
   {
    "duration": 0,
    "start_time": "2023-05-24T19:30:33.602Z"
   },
   {
    "duration": 0,
    "start_time": "2023-05-24T19:30:33.603Z"
   },
   {
    "duration": 0,
    "start_time": "2023-05-24T19:30:33.605Z"
   },
   {
    "duration": 0,
    "start_time": "2023-05-24T19:30:33.606Z"
   },
   {
    "duration": 0,
    "start_time": "2023-05-24T19:30:33.607Z"
   },
   {
    "duration": 0,
    "start_time": "2023-05-24T19:30:33.608Z"
   },
   {
    "duration": 0,
    "start_time": "2023-05-24T19:30:33.609Z"
   },
   {
    "duration": 0,
    "start_time": "2023-05-24T19:30:33.611Z"
   },
   {
    "duration": 0,
    "start_time": "2023-05-24T19:30:33.612Z"
   },
   {
    "duration": 0,
    "start_time": "2023-05-24T19:30:33.613Z"
   },
   {
    "duration": 0,
    "start_time": "2023-05-24T19:30:33.614Z"
   },
   {
    "duration": 0,
    "start_time": "2023-05-24T19:30:33.615Z"
   },
   {
    "duration": 0,
    "start_time": "2023-05-24T19:30:33.616Z"
   },
   {
    "duration": 0,
    "start_time": "2023-05-24T19:30:33.618Z"
   },
   {
    "duration": 0,
    "start_time": "2023-05-24T19:30:33.619Z"
   },
   {
    "duration": 0,
    "start_time": "2023-05-24T19:30:33.672Z"
   },
   {
    "duration": 0,
    "start_time": "2023-05-24T19:30:33.673Z"
   },
   {
    "duration": 0,
    "start_time": "2023-05-24T19:30:33.677Z"
   },
   {
    "duration": 0,
    "start_time": "2023-05-24T19:30:33.678Z"
   },
   {
    "duration": 0,
    "start_time": "2023-05-24T19:30:33.682Z"
   },
   {
    "duration": 0,
    "start_time": "2023-05-24T19:30:33.684Z"
   },
   {
    "duration": 0,
    "start_time": "2023-05-24T19:30:33.685Z"
   },
   {
    "duration": 0,
    "start_time": "2023-05-24T19:30:33.686Z"
   },
   {
    "duration": 0,
    "start_time": "2023-05-24T19:30:33.686Z"
   },
   {
    "duration": 0,
    "start_time": "2023-05-24T19:30:33.687Z"
   },
   {
    "duration": 0,
    "start_time": "2023-05-24T19:30:33.688Z"
   },
   {
    "duration": 0,
    "start_time": "2023-05-24T19:30:33.690Z"
   },
   {
    "duration": 0,
    "start_time": "2023-05-24T19:30:33.691Z"
   },
   {
    "duration": 0,
    "start_time": "2023-05-24T19:30:33.692Z"
   },
   {
    "duration": 0,
    "start_time": "2023-05-24T19:30:33.693Z"
   },
   {
    "duration": 0,
    "start_time": "2023-05-24T19:30:33.694Z"
   },
   {
    "duration": 0,
    "start_time": "2023-05-24T19:30:33.696Z"
   },
   {
    "duration": 0,
    "start_time": "2023-05-24T19:30:33.697Z"
   },
   {
    "duration": 3786,
    "start_time": "2023-05-24T19:33:06.086Z"
   },
   {
    "duration": 3592,
    "start_time": "2023-05-24T19:33:11.881Z"
   },
   {
    "duration": 52,
    "start_time": "2023-05-24T19:34:17.694Z"
   },
   {
    "duration": 6,
    "start_time": "2023-05-24T19:34:37.315Z"
   },
   {
    "duration": 7,
    "start_time": "2023-05-24T19:34:54.097Z"
   },
   {
    "duration": 73,
    "start_time": "2023-05-24T19:35:34.857Z"
   },
   {
    "duration": 7,
    "start_time": "2023-05-24T19:35:45.897Z"
   },
   {
    "duration": 5,
    "start_time": "2023-05-24T19:35:52.690Z"
   },
   {
    "duration": 13,
    "start_time": "2023-05-24T19:37:09.272Z"
   },
   {
    "duration": 6,
    "start_time": "2023-05-24T19:37:42.356Z"
   },
   {
    "duration": 8,
    "start_time": "2023-05-24T19:37:50.386Z"
   },
   {
    "duration": 50,
    "start_time": "2023-05-24T19:38:18.453Z"
   },
   {
    "duration": 6,
    "start_time": "2023-05-24T19:38:20.613Z"
   },
   {
    "duration": 7,
    "start_time": "2023-05-24T19:38:22.382Z"
   },
   {
    "duration": 208,
    "start_time": "2023-05-24T19:38:32.904Z"
   },
   {
    "duration": 11,
    "start_time": "2023-05-24T19:52:34.667Z"
   },
   {
    "duration": 9,
    "start_time": "2023-05-24T19:53:21.307Z"
   },
   {
    "duration": 8,
    "start_time": "2023-05-24T19:57:44.464Z"
   },
   {
    "duration": 85,
    "start_time": "2023-05-24T19:57:55.401Z"
   },
   {
    "duration": 5,
    "start_time": "2023-05-24T19:59:14.206Z"
   },
   {
    "duration": 13,
    "start_time": "2023-05-24T20:00:02.414Z"
   },
   {
    "duration": 11,
    "start_time": "2023-05-24T20:02:39.411Z"
   },
   {
    "duration": 10,
    "start_time": "2023-05-24T20:03:37.570Z"
   },
   {
    "duration": 5,
    "start_time": "2023-05-24T20:03:54.706Z"
   },
   {
    "duration": 125,
    "start_time": "2023-05-24T20:03:55.856Z"
   },
   {
    "duration": 5,
    "start_time": "2023-05-24T20:04:18.698Z"
   },
   {
    "duration": 820,
    "start_time": "2023-05-24T20:04:22.252Z"
   },
   {
    "duration": 67533,
    "start_time": "2023-05-24T20:04:36.950Z"
   },
   {
    "duration": 3,
    "start_time": "2023-05-24T20:05:44.485Z"
   },
   {
    "duration": 21816,
    "start_time": "2023-05-24T20:08:59.103Z"
   },
   {
    "duration": 36295,
    "start_time": "2023-05-24T20:09:30.615Z"
   },
   {
    "duration": 1154,
    "start_time": "2023-05-24T20:10:15.057Z"
   },
   {
    "duration": 751,
    "start_time": "2023-05-24T20:13:44.022Z"
   },
   {
    "duration": 50,
    "start_time": "2023-05-24T20:13:59.356Z"
   },
   {
    "duration": 6,
    "start_time": "2023-05-24T20:14:17.722Z"
   },
   {
    "duration": 4,
    "start_time": "2023-05-24T20:14:19.856Z"
   },
   {
    "duration": 63,
    "start_time": "2023-05-24T20:14:27.657Z"
   },
   {
    "duration": 64,
    "start_time": "2023-05-24T20:15:01.337Z"
   },
   {
    "duration": 6,
    "start_time": "2023-05-24T20:15:04.546Z"
   },
   {
    "duration": 4,
    "start_time": "2023-05-24T20:15:11.856Z"
   },
   {
    "duration": 283,
    "start_time": "2023-05-24T20:16:58.794Z"
   },
   {
    "duration": 182,
    "start_time": "2023-05-24T20:17:09.803Z"
   },
   {
    "duration": 191,
    "start_time": "2023-05-24T20:17:46.397Z"
   },
   {
    "duration": 197,
    "start_time": "2023-05-24T20:18:03.074Z"
   },
   {
    "duration": 64,
    "start_time": "2023-05-24T20:19:39.210Z"
   },
   {
    "duration": 65,
    "start_time": "2023-05-24T20:19:47.595Z"
   },
   {
    "duration": 5,
    "start_time": "2023-05-24T20:19:57.313Z"
   },
   {
    "duration": 10,
    "start_time": "2023-05-24T20:20:09.260Z"
   },
   {
    "duration": 1478,
    "start_time": "2023-05-24T20:22:26.255Z"
   },
   {
    "duration": 18,
    "start_time": "2023-05-24T20:22:27.735Z"
   },
   {
    "duration": 20,
    "start_time": "2023-05-24T20:22:27.755Z"
   },
   {
    "duration": 24,
    "start_time": "2023-05-24T20:22:27.778Z"
   },
   {
    "duration": 24,
    "start_time": "2023-05-24T20:22:27.804Z"
   },
   {
    "duration": 14,
    "start_time": "2023-05-24T20:22:27.830Z"
   },
   {
    "duration": 17,
    "start_time": "2023-05-24T20:22:27.847Z"
   },
   {
    "duration": 32,
    "start_time": "2023-05-24T20:22:27.866Z"
   },
   {
    "duration": 261,
    "start_time": "2023-05-24T20:22:27.900Z"
   },
   {
    "duration": 5,
    "start_time": "2023-05-24T20:22:28.170Z"
   },
   {
    "duration": 78,
    "start_time": "2023-05-24T20:22:28.177Z"
   },
   {
    "duration": 150,
    "start_time": "2023-05-24T20:22:28.257Z"
   },
   {
    "duration": 35,
    "start_time": "2023-05-24T20:22:28.409Z"
   },
   {
    "duration": 5896,
    "start_time": "2023-05-24T20:22:28.446Z"
   },
   {
    "duration": 20023,
    "start_time": "2023-05-24T20:22:34.343Z"
   },
   {
    "duration": 19187,
    "start_time": "2023-05-24T20:22:54.370Z"
   },
   {
    "duration": 3637,
    "start_time": "2023-05-24T20:23:13.559Z"
   },
   {
    "duration": 211,
    "start_time": "2023-05-24T20:23:17.198Z"
   },
   {
    "duration": 6,
    "start_time": "2023-05-24T20:23:17.411Z"
   },
   {
    "duration": 7,
    "start_time": "2023-05-24T20:23:17.419Z"
   },
   {
    "duration": 95,
    "start_time": "2023-05-24T20:23:17.428Z"
   },
   {
    "duration": 5,
    "start_time": "2023-05-24T20:23:17.525Z"
   },
   {
    "duration": 6,
    "start_time": "2023-05-24T20:23:17.532Z"
   },
   {
    "duration": 65,
    "start_time": "2023-05-24T20:23:17.540Z"
   },
   {
    "duration": 9,
    "start_time": "2023-05-24T20:23:17.672Z"
   },
   {
    "duration": 96,
    "start_time": "2023-05-24T20:23:17.683Z"
   },
   {
    "duration": 240,
    "start_time": "2023-05-24T20:23:17.781Z"
   },
   {
    "duration": 2,
    "start_time": "2023-05-24T20:23:18.025Z"
   },
   {
    "duration": 30,
    "start_time": "2023-05-24T20:23:18.029Z"
   },
   {
    "duration": 117,
    "start_time": "2023-05-24T20:23:18.060Z"
   },
   {
    "duration": 4,
    "start_time": "2023-05-24T20:23:18.179Z"
   },
   {
    "duration": 131,
    "start_time": "2023-05-24T20:23:18.185Z"
   },
   {
    "duration": 5,
    "start_time": "2023-05-24T20:23:18.318Z"
   },
   {
    "duration": 22,
    "start_time": "2023-05-24T20:23:18.326Z"
   },
   {
    "duration": 69741,
    "start_time": "2023-05-24T20:23:18.351Z"
   },
   {
    "duration": 783,
    "start_time": "2023-05-24T20:24:28.094Z"
   },
   {
    "duration": 1497,
    "start_time": "2023-05-24T20:24:49.067Z"
   },
   {
    "duration": 21,
    "start_time": "2023-05-24T20:24:50.567Z"
   },
   {
    "duration": 34,
    "start_time": "2023-05-24T20:24:50.591Z"
   },
   {
    "duration": 5,
    "start_time": "2023-05-24T20:24:50.628Z"
   },
   {
    "duration": 28,
    "start_time": "2023-05-24T20:24:50.635Z"
   },
   {
    "duration": 7,
    "start_time": "2023-05-24T20:24:50.673Z"
   },
   {
    "duration": 14,
    "start_time": "2023-05-24T20:24:50.683Z"
   },
   {
    "duration": 21,
    "start_time": "2023-05-24T20:24:50.700Z"
   },
   {
    "duration": 257,
    "start_time": "2023-05-24T20:24:50.723Z"
   },
   {
    "duration": 4,
    "start_time": "2023-05-24T20:24:50.982Z"
   },
   {
    "duration": 91,
    "start_time": "2023-05-24T20:24:50.988Z"
   },
   {
    "duration": 139,
    "start_time": "2023-05-24T20:24:51.081Z"
   },
   {
    "duration": 34,
    "start_time": "2023-05-24T20:24:51.222Z"
   },
   {
    "duration": 6068,
    "start_time": "2023-05-24T20:24:51.258Z"
   },
   {
    "duration": 19874,
    "start_time": "2023-05-24T20:24:57.328Z"
   },
   {
    "duration": 19436,
    "start_time": "2023-05-24T20:25:17.205Z"
   },
   {
    "duration": 3752,
    "start_time": "2023-05-24T20:25:36.643Z"
   },
   {
    "duration": 210,
    "start_time": "2023-05-24T20:25:40.397Z"
   },
   {
    "duration": 5,
    "start_time": "2023-05-24T20:25:40.609Z"
   },
   {
    "duration": 6,
    "start_time": "2023-05-24T20:25:40.616Z"
   },
   {
    "duration": 90,
    "start_time": "2023-05-24T20:25:40.624Z"
   },
   {
    "duration": 6,
    "start_time": "2023-05-24T20:25:40.716Z"
   },
   {
    "duration": 8,
    "start_time": "2023-05-24T20:25:40.724Z"
   },
   {
    "duration": 63,
    "start_time": "2023-05-24T20:25:40.734Z"
   },
   {
    "duration": 72,
    "start_time": "2023-05-24T20:25:40.799Z"
   },
   {
    "duration": 5,
    "start_time": "2023-05-24T20:25:40.873Z"
   },
   {
    "duration": 308,
    "start_time": "2023-05-24T20:25:40.879Z"
   },
   {
    "duration": 2,
    "start_time": "2023-05-24T20:25:41.191Z"
   },
   {
    "duration": 13,
    "start_time": "2023-05-24T20:25:41.195Z"
   },
   {
    "duration": 109,
    "start_time": "2023-05-24T20:25:41.210Z"
   },
   {
    "duration": 3,
    "start_time": "2023-05-24T20:25:41.321Z"
   },
   {
    "duration": 17,
    "start_time": "2023-05-24T20:25:41.326Z"
   },
   {
    "duration": 127,
    "start_time": "2023-05-24T20:25:41.345Z"
   },
   {
    "duration": 5,
    "start_time": "2023-05-24T20:25:41.474Z"
   },
   {
    "duration": 7,
    "start_time": "2023-05-24T20:25:41.480Z"
   },
   {
    "duration": 71801,
    "start_time": "2023-05-24T20:25:41.489Z"
   },
   {
    "duration": 783,
    "start_time": "2023-05-24T20:26:53.292Z"
   },
   {
    "duration": 22432,
    "start_time": "2023-05-24T20:26:54.077Z"
   },
   {
    "duration": 37543,
    "start_time": "2023-05-24T20:27:16.511Z"
   },
   {
    "duration": 1196,
    "start_time": "2023-05-24T20:27:54.055Z"
   },
   {
    "duration": 817,
    "start_time": "2023-05-24T20:27:55.254Z"
   },
   {
    "duration": 143,
    "start_time": "2023-05-24T20:27:56.073Z"
   },
   {
    "duration": 7,
    "start_time": "2023-05-24T20:27:56.218Z"
   },
   {
    "duration": 8,
    "start_time": "2023-05-24T20:27:56.227Z"
   },
   {
    "duration": 108,
    "start_time": "2023-05-24T20:27:56.237Z"
   },
   {
    "duration": 5,
    "start_time": "2023-05-24T20:27:56.347Z"
   },
   {
    "duration": 37,
    "start_time": "2023-05-24T20:27:56.354Z"
   },
   {
    "duration": 209,
    "start_time": "2023-05-24T20:27:56.393Z"
   },
   {
    "duration": 75,
    "start_time": "2023-05-24T20:27:56.604Z"
   },
   {
    "duration": 67,
    "start_time": "2023-05-24T20:27:56.681Z"
   },
   {
    "duration": 4,
    "start_time": "2023-05-24T20:27:56.750Z"
   },
   {
    "duration": 11,
    "start_time": "2023-05-24T20:27:56.771Z"
   },
   {
    "duration": 137,
    "start_time": "2023-05-24T20:27:56.784Z"
   },
   {
    "duration": 0,
    "start_time": "2023-05-24T20:27:56.923Z"
   },
   {
    "duration": 1518,
    "start_time": "2023-05-24T20:29:18.449Z"
   },
   {
    "duration": 18,
    "start_time": "2023-05-24T20:29:19.969Z"
   },
   {
    "duration": 33,
    "start_time": "2023-05-24T20:29:19.988Z"
   },
   {
    "duration": 28,
    "start_time": "2023-05-24T20:29:20.023Z"
   },
   {
    "duration": 44,
    "start_time": "2023-05-24T20:29:20.053Z"
   },
   {
    "duration": 42,
    "start_time": "2023-05-24T20:29:20.099Z"
   },
   {
    "duration": 14,
    "start_time": "2023-05-24T20:29:20.143Z"
   },
   {
    "duration": 8,
    "start_time": "2023-05-24T20:29:20.159Z"
   },
   {
    "duration": 227,
    "start_time": "2023-05-24T20:29:20.169Z"
   },
   {
    "duration": 3,
    "start_time": "2023-05-24T20:29:20.400Z"
   },
   {
    "duration": 81,
    "start_time": "2023-05-24T20:29:20.405Z"
   },
   {
    "duration": 150,
    "start_time": "2023-05-24T20:29:20.488Z"
   },
   {
    "duration": 41,
    "start_time": "2023-05-24T20:29:20.640Z"
   },
   {
    "duration": 5928,
    "start_time": "2023-05-24T20:29:20.683Z"
   },
   {
    "duration": 19747,
    "start_time": "2023-05-24T20:29:26.613Z"
   },
   {
    "duration": 18426,
    "start_time": "2023-05-24T20:29:46.363Z"
   },
   {
    "duration": 3882,
    "start_time": "2023-05-24T20:30:04.791Z"
   },
   {
    "duration": 138,
    "start_time": "2023-05-24T20:30:08.676Z"
   },
   {
    "duration": 6,
    "start_time": "2023-05-24T20:30:08.816Z"
   },
   {
    "duration": 5,
    "start_time": "2023-05-24T20:30:08.871Z"
   },
   {
    "duration": 93,
    "start_time": "2023-05-24T20:30:08.878Z"
   },
   {
    "duration": 7,
    "start_time": "2023-05-24T20:30:08.974Z"
   },
   {
    "duration": 47,
    "start_time": "2023-05-24T20:30:08.984Z"
   },
   {
    "duration": 138,
    "start_time": "2023-05-24T20:30:09.033Z"
   },
   {
    "duration": 6,
    "start_time": "2023-05-24T20:30:09.173Z"
   },
   {
    "duration": 99,
    "start_time": "2023-05-24T20:30:09.181Z"
   },
   {
    "duration": 202,
    "start_time": "2023-05-24T20:30:09.282Z"
   },
   {
    "duration": 2,
    "start_time": "2023-05-24T20:30:09.488Z"
   },
   {
    "duration": 21,
    "start_time": "2023-05-24T20:30:09.492Z"
   },
   {
    "duration": 103,
    "start_time": "2023-05-24T20:30:09.515Z"
   },
   {
    "duration": 4,
    "start_time": "2023-05-24T20:30:09.620Z"
   },
   {
    "duration": 132,
    "start_time": "2023-05-24T20:30:09.626Z"
   },
   {
    "duration": 10,
    "start_time": "2023-05-24T20:30:09.761Z"
   },
   {
    "duration": 17,
    "start_time": "2023-05-24T20:30:09.773Z"
   },
   {
    "duration": 70463,
    "start_time": "2023-05-24T20:30:09.792Z"
   },
   {
    "duration": 747,
    "start_time": "2023-05-24T20:31:20.257Z"
   },
   {
    "duration": 22600,
    "start_time": "2023-05-24T20:31:21.005Z"
   },
   {
    "duration": 37548,
    "start_time": "2023-05-24T20:31:43.607Z"
   },
   {
    "duration": 1157,
    "start_time": "2023-05-24T20:32:21.156Z"
   },
   {
    "duration": 759,
    "start_time": "2023-05-24T20:32:22.314Z"
   },
   {
    "duration": 146,
    "start_time": "2023-05-24T20:32:23.075Z"
   },
   {
    "duration": 5,
    "start_time": "2023-05-24T20:32:23.223Z"
   },
   {
    "duration": 7,
    "start_time": "2023-05-24T20:32:23.230Z"
   },
   {
    "duration": 87,
    "start_time": "2023-05-24T20:32:23.239Z"
   },
   {
    "duration": 6,
    "start_time": "2023-05-24T20:32:23.328Z"
   },
   {
    "duration": 18,
    "start_time": "2023-05-24T20:32:23.335Z"
   },
   {
    "duration": 180,
    "start_time": "2023-05-24T20:32:23.355Z"
   },
   {
    "duration": 73,
    "start_time": "2023-05-24T20:32:23.537Z"
   },
   {
    "duration": 80,
    "start_time": "2023-05-24T20:32:23.612Z"
   },
   {
    "duration": 4,
    "start_time": "2023-05-24T20:32:23.694Z"
   },
   {
    "duration": 18,
    "start_time": "2023-05-24T20:32:23.699Z"
   },
   {
    "duration": 119,
    "start_time": "2023-05-24T20:32:23.719Z"
   },
   {
    "duration": 13,
    "start_time": "2023-05-24T20:36:02.765Z"
   },
   {
    "duration": 1438,
    "start_time": "2023-05-24T20:37:51.912Z"
   },
   {
    "duration": 18,
    "start_time": "2023-05-24T20:37:53.352Z"
   },
   {
    "duration": 14,
    "start_time": "2023-05-24T20:37:53.371Z"
   },
   {
    "duration": 4,
    "start_time": "2023-05-24T20:37:53.387Z"
   },
   {
    "duration": 17,
    "start_time": "2023-05-24T20:37:53.393Z"
   },
   {
    "duration": 5,
    "start_time": "2023-05-24T20:37:53.412Z"
   },
   {
    "duration": 6,
    "start_time": "2023-05-24T20:37:53.420Z"
   },
   {
    "duration": 7,
    "start_time": "2023-05-24T20:37:53.428Z"
   },
   {
    "duration": 243,
    "start_time": "2023-05-24T20:37:53.472Z"
   },
   {
    "duration": 3,
    "start_time": "2023-05-24T20:37:53.718Z"
   },
   {
    "duration": 86,
    "start_time": "2023-05-24T20:37:53.723Z"
   },
   {
    "duration": 148,
    "start_time": "2023-05-24T20:37:53.811Z"
   },
   {
    "duration": 40,
    "start_time": "2023-05-24T20:37:53.961Z"
   },
   {
    "duration": 5924,
    "start_time": "2023-05-24T20:37:54.003Z"
   },
   {
    "duration": 19714,
    "start_time": "2023-05-24T20:37:59.929Z"
   },
   {
    "duration": 18171,
    "start_time": "2023-05-24T20:38:19.645Z"
   },
   {
    "duration": 3464,
    "start_time": "2023-05-24T20:38:37.818Z"
   },
   {
    "duration": 216,
    "start_time": "2023-05-24T20:38:41.284Z"
   },
   {
    "duration": 6,
    "start_time": "2023-05-24T20:38:41.501Z"
   },
   {
    "duration": 5,
    "start_time": "2023-05-24T20:38:41.509Z"
   },
   {
    "duration": 91,
    "start_time": "2023-05-24T20:38:41.516Z"
   },
   {
    "duration": 5,
    "start_time": "2023-05-24T20:38:41.609Z"
   },
   {
    "duration": 5,
    "start_time": "2023-05-24T20:38:41.615Z"
   },
   {
    "duration": 58,
    "start_time": "2023-05-24T20:38:41.622Z"
   },
   {
    "duration": 90,
    "start_time": "2023-05-24T20:38:41.682Z"
   },
   {
    "duration": 112,
    "start_time": "2023-05-24T20:38:41.774Z"
   },
   {
    "duration": 202,
    "start_time": "2023-05-24T20:38:41.888Z"
   },
   {
    "duration": 3,
    "start_time": "2023-05-24T20:38:42.094Z"
   },
   {
    "duration": 26,
    "start_time": "2023-05-24T20:38:42.098Z"
   },
   {
    "duration": 105,
    "start_time": "2023-05-24T20:38:42.126Z"
   },
   {
    "duration": 4,
    "start_time": "2023-05-24T20:38:42.233Z"
   },
   {
    "duration": 126,
    "start_time": "2023-05-24T20:38:42.238Z"
   },
   {
    "duration": 8,
    "start_time": "2023-05-24T20:38:42.366Z"
   },
   {
    "duration": 11,
    "start_time": "2023-05-24T20:38:42.376Z"
   },
   {
    "duration": 68195,
    "start_time": "2023-05-24T20:38:42.389Z"
   },
   {
    "duration": 786,
    "start_time": "2023-05-24T20:39:50.585Z"
   },
   {
    "duration": 23170,
    "start_time": "2023-05-24T20:39:51.374Z"
   },
   {
    "duration": 36483,
    "start_time": "2023-05-24T20:40:14.547Z"
   },
   {
    "duration": 1123,
    "start_time": "2023-05-24T20:40:51.032Z"
   },
   {
    "duration": 720,
    "start_time": "2023-05-24T20:40:52.157Z"
   },
   {
    "duration": 232,
    "start_time": "2023-05-24T20:40:52.878Z"
   },
   {
    "duration": 6,
    "start_time": "2023-05-24T20:40:53.111Z"
   },
   {
    "duration": 93,
    "start_time": "2023-05-24T20:40:53.119Z"
   },
   {
    "duration": 81,
    "start_time": "2023-05-24T20:40:53.215Z"
   },
   {
    "duration": 6,
    "start_time": "2023-05-24T20:40:53.298Z"
   },
   {
    "duration": 19,
    "start_time": "2023-05-24T20:40:53.306Z"
   },
   {
    "duration": 201,
    "start_time": "2023-05-24T20:40:53.327Z"
   },
   {
    "duration": 80,
    "start_time": "2023-05-24T20:40:53.530Z"
   },
   {
    "duration": 85,
    "start_time": "2023-05-24T20:40:53.612Z"
   },
   {
    "duration": 5,
    "start_time": "2023-05-24T20:40:53.700Z"
   },
   {
    "duration": 20,
    "start_time": "2023-05-24T20:40:53.707Z"
   },
   {
    "duration": 2109,
    "start_time": "2023-05-25T18:17:26.854Z"
   },
   {
    "duration": 42,
    "start_time": "2023-05-25T18:17:28.965Z"
   },
   {
    "duration": 12,
    "start_time": "2023-05-25T18:17:29.008Z"
   },
   {
    "duration": 4,
    "start_time": "2023-05-25T18:17:29.021Z"
   },
   {
    "duration": 11,
    "start_time": "2023-05-25T18:17:29.026Z"
   },
   {
    "duration": 4,
    "start_time": "2023-05-25T18:17:29.038Z"
   },
   {
    "duration": 15,
    "start_time": "2023-05-25T18:17:29.043Z"
   },
   {
    "duration": 50,
    "start_time": "2023-05-25T18:17:29.059Z"
   },
   {
    "duration": 257,
    "start_time": "2023-05-25T18:17:29.111Z"
   },
   {
    "duration": 3,
    "start_time": "2023-05-25T18:17:29.370Z"
   },
   {
    "duration": 128,
    "start_time": "2023-05-25T18:17:29.375Z"
   },
   {
    "duration": 125,
    "start_time": "2023-05-25T18:17:29.504Z"
   },
   {
    "duration": 27,
    "start_time": "2023-05-25T18:17:29.631Z"
   },
   {
    "duration": 4944,
    "start_time": "2023-05-25T18:17:29.660Z"
   },
   {
    "duration": 15562,
    "start_time": "2023-05-25T18:17:34.606Z"
   },
   {
    "duration": 14721,
    "start_time": "2023-05-25T18:17:50.169Z"
   },
   {
    "duration": 2625,
    "start_time": "2023-05-25T18:18:04.892Z"
   },
   {
    "duration": 201,
    "start_time": "2023-05-25T18:18:07.519Z"
   },
   {
    "duration": 5,
    "start_time": "2023-05-25T18:18:07.721Z"
   },
   {
    "duration": 7,
    "start_time": "2023-05-25T18:18:07.727Z"
   },
   {
    "duration": 74,
    "start_time": "2023-05-25T18:18:07.735Z"
   },
   {
    "duration": 5,
    "start_time": "2023-05-25T18:18:07.810Z"
   },
   {
    "duration": 4,
    "start_time": "2023-05-25T18:18:07.816Z"
   },
   {
    "duration": 85,
    "start_time": "2023-05-25T18:18:07.821Z"
   },
   {
    "duration": 6,
    "start_time": "2023-05-25T18:18:07.908Z"
   },
   {
    "duration": 96,
    "start_time": "2023-05-25T18:18:07.915Z"
   },
   {
    "duration": 182,
    "start_time": "2023-05-25T18:18:08.012Z"
   },
   {
    "duration": 3,
    "start_time": "2023-05-25T18:18:08.197Z"
   },
   {
    "duration": 14,
    "start_time": "2023-05-25T18:18:08.201Z"
   },
   {
    "duration": 94,
    "start_time": "2023-05-25T18:18:08.216Z"
   },
   {
    "duration": 3,
    "start_time": "2023-05-25T18:18:08.312Z"
   },
   {
    "duration": 110,
    "start_time": "2023-05-25T18:18:08.316Z"
   },
   {
    "duration": 4,
    "start_time": "2023-05-25T18:18:08.427Z"
   },
   {
    "duration": 12,
    "start_time": "2023-05-25T18:18:08.432Z"
   },
   {
    "duration": 54063,
    "start_time": "2023-05-25T18:18:08.445Z"
   },
   {
    "duration": 700,
    "start_time": "2023-05-25T18:19:02.511Z"
   },
   {
    "duration": 17537,
    "start_time": "2023-05-25T18:19:03.215Z"
   },
   {
    "duration": 29452,
    "start_time": "2023-05-25T18:19:20.754Z"
   },
   {
    "duration": 876,
    "start_time": "2023-05-25T18:19:50.207Z"
   },
   {
    "duration": 626,
    "start_time": "2023-05-25T18:19:51.085Z"
   },
   {
    "duration": 220,
    "start_time": "2023-05-25T18:19:51.713Z"
   },
   {
    "duration": 4,
    "start_time": "2023-05-25T18:19:51.935Z"
   },
   {
    "duration": 14,
    "start_time": "2023-05-25T18:19:51.940Z"
   },
   {
    "duration": 71,
    "start_time": "2023-05-25T18:19:51.956Z"
   },
   {
    "duration": 4,
    "start_time": "2023-05-25T18:19:52.029Z"
   },
   {
    "duration": 13,
    "start_time": "2023-05-25T18:19:52.034Z"
   },
   {
    "duration": 161,
    "start_time": "2023-05-25T18:19:52.048Z"
   },
   {
    "duration": 57,
    "start_time": "2023-05-25T18:19:52.211Z"
   },
   {
    "duration": 68,
    "start_time": "2023-05-25T18:19:52.269Z"
   },
   {
    "duration": 3,
    "start_time": "2023-05-25T18:19:52.339Z"
   },
   {
    "duration": 27,
    "start_time": "2023-05-25T18:19:52.344Z"
   },
   {
    "duration": 111,
    "start_time": "2023-05-25T18:32:17.256Z"
   },
   {
    "duration": 95,
    "start_time": "2023-05-25T18:35:48.971Z"
   },
   {
    "duration": 5,
    "start_time": "2023-05-25T18:35:54.223Z"
   },
   {
    "duration": 9,
    "start_time": "2023-05-25T18:35:59.604Z"
   },
   {
    "duration": 109,
    "start_time": "2023-05-25T18:39:07.261Z"
   },
   {
    "duration": 1807,
    "start_time": "2023-05-25T19:29:01.260Z"
   },
   {
    "duration": 16,
    "start_time": "2023-05-25T19:29:03.069Z"
   },
   {
    "duration": 12,
    "start_time": "2023-05-25T19:29:03.087Z"
   },
   {
    "duration": 4,
    "start_time": "2023-05-25T19:29:03.101Z"
   },
   {
    "duration": 12,
    "start_time": "2023-05-25T19:29:03.106Z"
   },
   {
    "duration": 4,
    "start_time": "2023-05-25T19:29:03.120Z"
   },
   {
    "duration": 5,
    "start_time": "2023-05-25T19:29:03.126Z"
   },
   {
    "duration": 5,
    "start_time": "2023-05-25T19:29:03.133Z"
   },
   {
    "duration": 223,
    "start_time": "2023-05-25T19:29:03.178Z"
   },
   {
    "duration": 3,
    "start_time": "2023-05-25T19:29:03.405Z"
   },
   {
    "duration": 78,
    "start_time": "2023-05-25T19:29:03.409Z"
   },
   {
    "duration": 151,
    "start_time": "2023-05-25T19:29:03.489Z"
   },
   {
    "duration": 37,
    "start_time": "2023-05-25T19:29:03.641Z"
   },
   {
    "duration": 5215,
    "start_time": "2023-05-25T19:29:03.680Z"
   },
   {
    "duration": 16818,
    "start_time": "2023-05-25T19:29:08.897Z"
   },
   {
    "duration": 16261,
    "start_time": "2023-05-25T19:29:25.717Z"
   },
   {
    "duration": 3725,
    "start_time": "2023-05-25T19:29:41.980Z"
   },
   {
    "duration": 209,
    "start_time": "2023-05-25T19:29:45.707Z"
   },
   {
    "duration": 7,
    "start_time": "2023-05-25T19:29:45.917Z"
   },
   {
    "duration": 24,
    "start_time": "2023-05-25T19:29:45.926Z"
   },
   {
    "duration": 90,
    "start_time": "2023-05-25T19:29:45.952Z"
   },
   {
    "duration": 6,
    "start_time": "2023-05-25T19:29:46.045Z"
   },
   {
    "duration": 9,
    "start_time": "2023-05-25T19:29:46.053Z"
   },
   {
    "duration": 113,
    "start_time": "2023-05-25T19:29:46.065Z"
   },
   {
    "duration": 8,
    "start_time": "2023-05-25T19:29:46.180Z"
   },
   {
    "duration": 100,
    "start_time": "2023-05-25T19:29:46.191Z"
   },
   {
    "duration": 215,
    "start_time": "2023-05-25T19:29:46.293Z"
   },
   {
    "duration": 3,
    "start_time": "2023-05-25T19:29:46.511Z"
   },
   {
    "duration": 17,
    "start_time": "2023-05-25T19:29:46.516Z"
   },
   {
    "duration": 100,
    "start_time": "2023-05-25T19:29:46.535Z"
   },
   {
    "duration": 5,
    "start_time": "2023-05-25T19:29:46.637Z"
   },
   {
    "duration": 134,
    "start_time": "2023-05-25T19:29:46.644Z"
   },
   {
    "duration": 5,
    "start_time": "2023-05-25T19:29:46.779Z"
   },
   {
    "duration": 15,
    "start_time": "2023-05-25T19:29:46.786Z"
   },
   {
    "duration": 60971,
    "start_time": "2023-05-25T19:29:46.803Z"
   },
   {
    "duration": 700,
    "start_time": "2023-05-25T19:30:47.778Z"
   },
   {
    "duration": 19053,
    "start_time": "2023-05-25T19:30:48.480Z"
   },
   {
    "duration": 32231,
    "start_time": "2023-05-25T19:31:07.535Z"
   },
   {
    "duration": 988,
    "start_time": "2023-05-25T19:31:39.767Z"
   },
   {
    "duration": 675,
    "start_time": "2023-05-25T19:31:40.756Z"
   },
   {
    "duration": 135,
    "start_time": "2023-05-25T19:31:41.481Z"
   },
   {
    "duration": 5,
    "start_time": "2023-05-25T19:31:41.618Z"
   },
   {
    "duration": 5,
    "start_time": "2023-05-25T19:31:41.625Z"
   },
   {
    "duration": 76,
    "start_time": "2023-05-25T19:31:41.631Z"
   },
   {
    "duration": 5,
    "start_time": "2023-05-25T19:31:41.709Z"
   },
   {
    "duration": 5,
    "start_time": "2023-05-25T19:31:41.715Z"
   },
   {
    "duration": 178,
    "start_time": "2023-05-25T19:31:41.721Z"
   },
   {
    "duration": 59,
    "start_time": "2023-05-25T19:31:41.901Z"
   },
   {
    "duration": 74,
    "start_time": "2023-05-25T19:31:41.962Z"
   },
   {
    "duration": 4,
    "start_time": "2023-05-25T19:31:42.038Z"
   },
   {
    "duration": 12,
    "start_time": "2023-05-25T19:31:42.043Z"
   },
   {
    "duration": 60456,
    "start_time": "2023-05-25T19:40:43.642Z"
   },
   {
    "duration": 1495,
    "start_time": "2023-05-25T19:42:03.464Z"
   },
   {
    "duration": 23,
    "start_time": "2023-05-25T19:42:04.962Z"
   },
   {
    "duration": 14,
    "start_time": "2023-05-25T19:42:04.987Z"
   },
   {
    "duration": 4,
    "start_time": "2023-05-25T19:42:05.004Z"
   },
   {
    "duration": 47,
    "start_time": "2023-05-25T19:42:05.010Z"
   },
   {
    "duration": 17,
    "start_time": "2023-05-25T19:42:05.059Z"
   },
   {
    "duration": 21,
    "start_time": "2023-05-25T19:42:05.078Z"
   },
   {
    "duration": 11,
    "start_time": "2023-05-25T19:42:05.101Z"
   },
   {
    "duration": 238,
    "start_time": "2023-05-25T19:42:05.114Z"
   },
   {
    "duration": 3,
    "start_time": "2023-05-25T19:42:05.355Z"
   },
   {
    "duration": 81,
    "start_time": "2023-05-25T19:42:05.360Z"
   },
   {
    "duration": 149,
    "start_time": "2023-05-25T19:42:05.443Z"
   },
   {
    "duration": 41,
    "start_time": "2023-05-25T19:42:05.595Z"
   },
   {
    "duration": 5291,
    "start_time": "2023-05-25T19:42:05.639Z"
   },
   {
    "duration": 17197,
    "start_time": "2023-05-25T19:42:10.933Z"
   },
   {
    "duration": 16617,
    "start_time": "2023-05-25T19:42:28.132Z"
   },
   {
    "duration": 2649,
    "start_time": "2023-05-25T19:42:44.751Z"
   },
   {
    "duration": 220,
    "start_time": "2023-05-25T19:42:47.402Z"
   },
   {
    "duration": 5,
    "start_time": "2023-05-25T19:42:47.625Z"
   },
   {
    "duration": 3,
    "start_time": "2023-05-25T19:42:47.632Z"
   },
   {
    "duration": 88,
    "start_time": "2023-05-25T19:42:47.637Z"
   },
   {
    "duration": 7,
    "start_time": "2023-05-25T19:42:47.727Z"
   },
   {
    "duration": 37,
    "start_time": "2023-05-25T19:42:47.735Z"
   },
   {
    "duration": 69,
    "start_time": "2023-05-25T19:42:47.774Z"
   },
   {
    "duration": 43,
    "start_time": "2023-05-25T19:42:47.844Z"
   },
   {
    "duration": 10,
    "start_time": "2023-05-25T19:42:47.891Z"
   },
   {
    "duration": 263,
    "start_time": "2023-05-25T19:42:47.903Z"
   },
   {
    "duration": 6,
    "start_time": "2023-05-25T19:42:48.184Z"
   },
   {
    "duration": 19,
    "start_time": "2023-05-25T19:42:48.192Z"
   },
   {
    "duration": 100,
    "start_time": "2023-05-25T19:42:48.213Z"
   },
   {
    "duration": 4,
    "start_time": "2023-05-25T19:42:48.314Z"
   },
   {
    "duration": 121,
    "start_time": "2023-05-25T19:42:48.320Z"
   },
   {
    "duration": 5,
    "start_time": "2023-05-25T19:42:48.442Z"
   },
   {
    "duration": 7,
    "start_time": "2023-05-25T19:42:48.449Z"
   },
   {
    "duration": 59416,
    "start_time": "2023-05-25T19:42:48.457Z"
   },
   {
    "duration": 698,
    "start_time": "2023-05-25T19:43:47.881Z"
   },
   {
    "duration": 19531,
    "start_time": "2023-05-25T19:43:48.582Z"
   },
   {
    "duration": 32269,
    "start_time": "2023-05-25T19:44:08.115Z"
   },
   {
    "duration": 1049,
    "start_time": "2023-05-25T19:44:40.386Z"
   },
   {
    "duration": 668,
    "start_time": "2023-05-25T19:44:41.436Z"
   },
   {
    "duration": 130,
    "start_time": "2023-05-25T19:44:42.179Z"
   },
   {
    "duration": 6,
    "start_time": "2023-05-25T19:44:42.311Z"
   },
   {
    "duration": 5,
    "start_time": "2023-05-25T19:44:42.321Z"
   },
   {
    "duration": 76,
    "start_time": "2023-05-25T19:44:42.337Z"
   },
   {
    "duration": 5,
    "start_time": "2023-05-25T19:44:42.415Z"
   },
   {
    "duration": 4,
    "start_time": "2023-05-25T19:44:42.422Z"
   },
   {
    "duration": 206,
    "start_time": "2023-05-25T19:44:42.429Z"
   },
   {
    "duration": 71,
    "start_time": "2023-05-25T19:44:42.636Z"
   },
   {
    "duration": 76,
    "start_time": "2023-05-25T19:44:42.708Z"
   },
   {
    "duration": 4,
    "start_time": "2023-05-25T19:44:42.786Z"
   },
   {
    "duration": 26,
    "start_time": "2023-05-25T19:44:42.792Z"
   },
   {
    "duration": 64,
    "start_time": "2023-05-25T20:09:54.369Z"
   },
   {
    "duration": 8,
    "start_time": "2023-05-25T20:10:08.598Z"
   },
   {
    "duration": 7,
    "start_time": "2023-05-25T20:10:24.898Z"
   },
   {
    "duration": 1483,
    "start_time": "2023-05-25T20:10:32.801Z"
   },
   {
    "duration": 24,
    "start_time": "2023-05-25T20:10:34.288Z"
   },
   {
    "duration": 13,
    "start_time": "2023-05-25T20:10:34.314Z"
   },
   {
    "duration": 4,
    "start_time": "2023-05-25T20:10:34.329Z"
   },
   {
    "duration": 15,
    "start_time": "2023-05-25T20:10:34.334Z"
   },
   {
    "duration": 5,
    "start_time": "2023-05-25T20:10:34.350Z"
   },
   {
    "duration": 22,
    "start_time": "2023-05-25T20:10:34.357Z"
   },
   {
    "duration": 29,
    "start_time": "2023-05-25T20:10:34.381Z"
   },
   {
    "duration": 218,
    "start_time": "2023-05-25T20:10:34.412Z"
   },
   {
    "duration": 3,
    "start_time": "2023-05-25T20:10:34.633Z"
   },
   {
    "duration": 79,
    "start_time": "2023-05-25T20:10:34.637Z"
   },
   {
    "duration": 153,
    "start_time": "2023-05-25T20:10:34.718Z"
   },
   {
    "duration": 47,
    "start_time": "2023-05-25T20:10:34.873Z"
   },
   {
    "duration": 5567,
    "start_time": "2023-05-25T20:10:34.922Z"
   },
   {
    "duration": 17950,
    "start_time": "2023-05-25T20:10:40.490Z"
   },
   {
    "duration": 17978,
    "start_time": "2023-05-25T20:10:58.442Z"
   },
   {
    "duration": 3402,
    "start_time": "2023-05-25T20:11:16.422Z"
   },
   {
    "duration": 200,
    "start_time": "2023-05-25T20:11:19.827Z"
   },
   {
    "duration": 5,
    "start_time": "2023-05-25T20:11:20.029Z"
   },
   {
    "duration": 24,
    "start_time": "2023-05-25T20:11:20.035Z"
   },
   {
    "duration": 93,
    "start_time": "2023-05-25T20:11:20.060Z"
   },
   {
    "duration": 7,
    "start_time": "2023-05-25T20:11:20.154Z"
   },
   {
    "duration": 5,
    "start_time": "2023-05-25T20:11:20.163Z"
   },
   {
    "duration": 127,
    "start_time": "2023-05-25T20:11:20.178Z"
   },
   {
    "duration": 83,
    "start_time": "2023-05-25T20:11:20.309Z"
   },
   {
    "duration": 6,
    "start_time": "2023-05-25T20:11:20.399Z"
   },
   {
    "duration": 244,
    "start_time": "2023-05-25T20:11:20.408Z"
   },
   {
    "duration": 3,
    "start_time": "2023-05-25T20:11:20.655Z"
   },
   {
    "duration": 30,
    "start_time": "2023-05-25T20:11:20.659Z"
   },
   {
    "duration": 112,
    "start_time": "2023-05-25T20:11:20.691Z"
   },
   {
    "duration": 6,
    "start_time": "2023-05-25T20:11:20.806Z"
   },
   {
    "duration": 127,
    "start_time": "2023-05-25T20:11:20.814Z"
   },
   {
    "duration": 5,
    "start_time": "2023-05-25T20:11:20.943Z"
   },
   {
    "duration": 4,
    "start_time": "2023-05-25T20:11:20.950Z"
   },
   {
    "duration": 65427,
    "start_time": "2023-05-25T20:11:20.956Z"
   },
   {
    "duration": 729,
    "start_time": "2023-05-25T20:12:26.386Z"
   },
   {
    "duration": 20385,
    "start_time": "2023-05-25T20:12:27.186Z"
   },
   {
    "duration": 32478,
    "start_time": "2023-05-25T20:12:47.574Z"
   },
   {
    "duration": 992,
    "start_time": "2023-05-25T20:13:20.054Z"
   },
   {
    "duration": 663,
    "start_time": "2023-05-25T20:13:21.047Z"
   },
   {
    "duration": 189,
    "start_time": "2023-05-25T20:13:21.712Z"
   },
   {
    "duration": 78,
    "start_time": "2023-05-25T20:13:21.902Z"
   },
   {
    "duration": 8,
    "start_time": "2023-05-25T20:13:21.983Z"
   },
   {
    "duration": 124,
    "start_time": "2023-05-25T20:13:21.993Z"
   },
   {
    "duration": 5,
    "start_time": "2023-05-25T20:13:22.118Z"
   },
   {
    "duration": 4,
    "start_time": "2023-05-25T20:13:22.125Z"
   },
   {
    "duration": 98,
    "start_time": "2023-05-25T20:13:22.131Z"
   },
   {
    "duration": 6,
    "start_time": "2023-05-25T20:13:22.231Z"
   },
   {
    "duration": 4,
    "start_time": "2023-05-25T20:13:22.239Z"
   },
   {
    "duration": 188,
    "start_time": "2023-05-25T20:13:22.244Z"
   },
   {
    "duration": 70,
    "start_time": "2023-05-25T20:13:22.435Z"
   },
   {
    "duration": 59,
    "start_time": "2023-05-25T20:13:22.507Z"
   },
   {
    "duration": 7,
    "start_time": "2023-05-25T20:13:22.577Z"
   },
   {
    "duration": 17,
    "start_time": "2023-05-25T20:13:22.586Z"
   },
   {
    "duration": 1412,
    "start_time": "2023-05-25T20:18:30.230Z"
   },
   {
    "duration": 22,
    "start_time": "2023-05-25T20:18:31.645Z"
   },
   {
    "duration": 46,
    "start_time": "2023-05-25T20:18:31.671Z"
   },
   {
    "duration": 12,
    "start_time": "2023-05-25T20:18:31.719Z"
   },
   {
    "duration": 33,
    "start_time": "2023-05-25T20:18:31.733Z"
   },
   {
    "duration": 28,
    "start_time": "2023-05-25T20:18:31.768Z"
   },
   {
    "duration": 24,
    "start_time": "2023-05-25T20:18:31.798Z"
   },
   {
    "duration": 28,
    "start_time": "2023-05-25T20:18:31.823Z"
   },
   {
    "duration": 235,
    "start_time": "2023-05-25T20:18:31.853Z"
   },
   {
    "duration": 3,
    "start_time": "2023-05-25T20:18:32.091Z"
   },
   {
    "duration": 68,
    "start_time": "2023-05-25T20:18:32.095Z"
   },
   {
    "duration": 136,
    "start_time": "2023-05-25T20:18:32.165Z"
   },
   {
    "duration": 29,
    "start_time": "2023-05-25T20:18:32.304Z"
   },
   {
    "duration": 5172,
    "start_time": "2023-05-25T20:18:32.335Z"
   },
   {
    "duration": 16706,
    "start_time": "2023-05-25T20:18:37.511Z"
   },
   {
    "duration": 16880,
    "start_time": "2023-05-25T20:18:54.219Z"
   },
   {
    "duration": 2684,
    "start_time": "2023-05-25T20:19:11.101Z"
   },
   {
    "duration": 146,
    "start_time": "2023-05-25T20:19:13.786Z"
   },
   {
    "duration": 4,
    "start_time": "2023-05-25T20:19:13.934Z"
   },
   {
    "duration": 8,
    "start_time": "2023-05-25T20:19:13.940Z"
   },
   {
    "duration": 79,
    "start_time": "2023-05-25T20:19:13.949Z"
   },
   {
    "duration": 4,
    "start_time": "2023-05-25T20:19:14.030Z"
   },
   {
    "duration": 5,
    "start_time": "2023-05-25T20:19:14.036Z"
   },
   {
    "duration": 59,
    "start_time": "2023-05-25T20:19:14.042Z"
   },
   {
    "duration": 73,
    "start_time": "2023-05-25T20:19:14.107Z"
   },
   {
    "duration": 9,
    "start_time": "2023-05-25T20:19:14.186Z"
   },
   {
    "duration": 247,
    "start_time": "2023-05-25T20:19:14.199Z"
   },
   {
    "duration": 2,
    "start_time": "2023-05-25T20:19:14.449Z"
   },
   {
    "duration": 18,
    "start_time": "2023-05-25T20:19:14.452Z"
   },
   {
    "duration": 86,
    "start_time": "2023-05-25T20:19:14.472Z"
   },
   {
    "duration": 4,
    "start_time": "2023-05-25T20:19:14.559Z"
   },
   {
    "duration": 109,
    "start_time": "2023-05-25T20:19:14.565Z"
   },
   {
    "duration": 10,
    "start_time": "2023-05-25T20:19:14.675Z"
   },
   {
    "duration": 3,
    "start_time": "2023-05-25T20:19:14.690Z"
   },
   {
    "duration": 59014,
    "start_time": "2023-05-25T20:19:14.695Z"
   },
   {
    "duration": 682,
    "start_time": "2023-05-25T20:20:13.710Z"
   },
   {
    "duration": 19154,
    "start_time": "2023-05-25T20:20:14.394Z"
   },
   {
    "duration": 32104,
    "start_time": "2023-05-25T20:20:33.550Z"
   },
   {
    "duration": 1042,
    "start_time": "2023-05-25T20:21:05.655Z"
   },
   {
    "duration": 692,
    "start_time": "2023-05-25T20:21:06.698Z"
   },
   {
    "duration": 126,
    "start_time": "2023-05-25T20:21:07.392Z"
   },
   {
    "duration": 71,
    "start_time": "2023-05-25T20:21:07.521Z"
   },
   {
    "duration": 6,
    "start_time": "2023-05-25T20:21:07.599Z"
   },
   {
    "duration": 57,
    "start_time": "2023-05-25T20:21:07.678Z"
   },
   {
    "duration": 7,
    "start_time": "2023-05-25T20:21:07.736Z"
   },
   {
    "duration": 4,
    "start_time": "2023-05-25T20:21:07.746Z"
   },
   {
    "duration": 71,
    "start_time": "2023-05-25T20:21:07.752Z"
   },
   {
    "duration": 4,
    "start_time": "2023-05-25T20:21:07.824Z"
   },
   {
    "duration": 6,
    "start_time": "2023-05-25T20:21:07.830Z"
   },
   {
    "duration": 191,
    "start_time": "2023-05-25T20:21:07.837Z"
   },
   {
    "duration": 71,
    "start_time": "2023-05-25T20:21:08.030Z"
   },
   {
    "duration": 55,
    "start_time": "2023-05-25T20:21:08.103Z"
   },
   {
    "duration": 4,
    "start_time": "2023-05-25T20:21:08.160Z"
   },
   {
    "duration": 16,
    "start_time": "2023-05-25T20:21:08.178Z"
   },
   {
    "duration": 5944,
    "start_time": "2023-05-25T20:23:26.703Z"
   },
   {
    "duration": 5252,
    "start_time": "2023-05-25T20:24:12.405Z"
   },
   {
    "duration": 5004,
    "start_time": "2023-05-25T20:33:35.854Z"
   },
   {
    "duration": 5267,
    "start_time": "2023-05-25T20:37:37.706Z"
   },
   {
    "duration": 17823,
    "start_time": "2023-05-25T20:37:42.978Z"
   },
   {
    "duration": 78,
    "start_time": "2023-05-25T20:41:04.073Z"
   },
   {
    "duration": 5204,
    "start_time": "2023-05-25T20:41:32.891Z"
   },
   {
    "duration": 521,
    "start_time": "2023-05-25T20:44:42.317Z"
   },
   {
    "duration": 199,
    "start_time": "2023-05-25T20:45:36.058Z"
   },
   {
    "duration": 10,
    "start_time": "2023-05-25T20:47:20.159Z"
   },
   {
    "duration": 241,
    "start_time": "2023-05-25T20:50:32.306Z"
   },
   {
    "duration": 234,
    "start_time": "2023-05-25T20:51:01.596Z"
   },
   {
    "duration": 10,
    "start_time": "2023-05-25T20:51:39.099Z"
   },
   {
    "duration": 265,
    "start_time": "2023-05-25T20:52:07.180Z"
   },
   {
    "duration": 288,
    "start_time": "2023-05-25T20:52:33.815Z"
   },
   {
    "duration": 261,
    "start_time": "2023-05-25T20:54:29.208Z"
   },
   {
    "duration": 81,
    "start_time": "2023-05-25T20:57:02.358Z"
   },
   {
    "duration": 1628,
    "start_time": "2023-05-26T08:16:28.403Z"
   },
   {
    "duration": 16,
    "start_time": "2023-05-26T08:16:30.033Z"
   },
   {
    "duration": 41,
    "start_time": "2023-05-26T08:16:30.050Z"
   },
   {
    "duration": 26,
    "start_time": "2023-05-26T08:16:30.093Z"
   },
   {
    "duration": 41,
    "start_time": "2023-05-26T08:16:30.121Z"
   },
   {
    "duration": 9,
    "start_time": "2023-05-26T08:16:30.163Z"
   },
   {
    "duration": 46,
    "start_time": "2023-05-26T08:16:30.174Z"
   },
   {
    "duration": 40,
    "start_time": "2023-05-26T08:16:30.221Z"
   },
   {
    "duration": 258,
    "start_time": "2023-05-26T08:16:30.263Z"
   },
   {
    "duration": 3,
    "start_time": "2023-05-26T08:16:30.526Z"
   },
   {
    "duration": 96,
    "start_time": "2023-05-26T08:16:30.531Z"
   },
   {
    "duration": 130,
    "start_time": "2023-05-26T08:16:30.630Z"
   },
   {
    "duration": 26,
    "start_time": "2023-05-26T08:16:30.761Z"
   },
   {
    "duration": 81,
    "start_time": "2023-05-26T08:16:30.789Z"
   },
   {
    "duration": 0,
    "start_time": "2023-05-26T08:16:30.872Z"
   },
   {
    "duration": 0,
    "start_time": "2023-05-26T08:16:30.873Z"
   },
   {
    "duration": 0,
    "start_time": "2023-05-26T08:16:30.874Z"
   },
   {
    "duration": 0,
    "start_time": "2023-05-26T08:16:30.875Z"
   },
   {
    "duration": 0,
    "start_time": "2023-05-26T08:16:30.876Z"
   },
   {
    "duration": 0,
    "start_time": "2023-05-26T08:16:30.877Z"
   },
   {
    "duration": 0,
    "start_time": "2023-05-26T08:16:30.878Z"
   },
   {
    "duration": 0,
    "start_time": "2023-05-26T08:16:30.879Z"
   },
   {
    "duration": 0,
    "start_time": "2023-05-26T08:16:30.880Z"
   },
   {
    "duration": 0,
    "start_time": "2023-05-26T08:16:30.881Z"
   },
   {
    "duration": 0,
    "start_time": "2023-05-26T08:16:30.882Z"
   },
   {
    "duration": 0,
    "start_time": "2023-05-26T08:16:30.883Z"
   },
   {
    "duration": 0,
    "start_time": "2023-05-26T08:16:30.884Z"
   },
   {
    "duration": 0,
    "start_time": "2023-05-26T08:16:30.885Z"
   },
   {
    "duration": 0,
    "start_time": "2023-05-26T08:16:30.886Z"
   },
   {
    "duration": 0,
    "start_time": "2023-05-26T08:16:30.887Z"
   },
   {
    "duration": 0,
    "start_time": "2023-05-26T08:16:30.888Z"
   },
   {
    "duration": 0,
    "start_time": "2023-05-26T08:16:30.890Z"
   },
   {
    "duration": 0,
    "start_time": "2023-05-26T08:16:30.891Z"
   },
   {
    "duration": 0,
    "start_time": "2023-05-26T08:16:30.892Z"
   },
   {
    "duration": 0,
    "start_time": "2023-05-26T08:16:30.893Z"
   },
   {
    "duration": 0,
    "start_time": "2023-05-26T08:16:30.894Z"
   },
   {
    "duration": 0,
    "start_time": "2023-05-26T08:16:30.894Z"
   },
   {
    "duration": 0,
    "start_time": "2023-05-26T08:16:30.896Z"
   },
   {
    "duration": 0,
    "start_time": "2023-05-26T08:16:30.897Z"
   },
   {
    "duration": 0,
    "start_time": "2023-05-26T08:16:30.897Z"
   },
   {
    "duration": 0,
    "start_time": "2023-05-26T08:16:30.898Z"
   },
   {
    "duration": 0,
    "start_time": "2023-05-26T08:16:30.899Z"
   },
   {
    "duration": 0,
    "start_time": "2023-05-26T08:16:30.900Z"
   },
   {
    "duration": 0,
    "start_time": "2023-05-26T08:16:30.901Z"
   },
   {
    "duration": 0,
    "start_time": "2023-05-26T08:16:30.902Z"
   },
   {
    "duration": 0,
    "start_time": "2023-05-26T08:16:30.903Z"
   },
   {
    "duration": 0,
    "start_time": "2023-05-26T08:16:30.904Z"
   },
   {
    "duration": 0,
    "start_time": "2023-05-26T08:16:30.905Z"
   },
   {
    "duration": 0,
    "start_time": "2023-05-26T08:16:30.906Z"
   },
   {
    "duration": 0,
    "start_time": "2023-05-26T08:16:30.907Z"
   },
   {
    "duration": 0,
    "start_time": "2023-05-26T08:16:30.911Z"
   },
   {
    "duration": 0,
    "start_time": "2023-05-26T08:16:30.915Z"
   },
   {
    "duration": 0,
    "start_time": "2023-05-26T08:16:30.916Z"
   },
   {
    "duration": 0,
    "start_time": "2023-05-26T08:16:30.916Z"
   },
   {
    "duration": 0,
    "start_time": "2023-05-26T08:16:30.917Z"
   },
   {
    "duration": 374,
    "start_time": "2023-05-26T08:35:46.499Z"
   },
   {
    "duration": 40848,
    "start_time": "2023-05-26T08:37:52.100Z"
   },
   {
    "duration": 40305,
    "start_time": "2023-05-26T08:41:00.576Z"
   },
   {
    "duration": 39564,
    "start_time": "2023-05-26T08:50:29.724Z"
   },
   {
    "duration": 5247,
    "start_time": "2023-05-26T08:53:59.774Z"
   },
   {
    "duration": 235,
    "start_time": "2023-05-26T09:06:55.700Z"
   },
   {
    "duration": 245,
    "start_time": "2023-05-26T09:07:28.983Z"
   },
   {
    "duration": 361,
    "start_time": "2023-05-26T09:07:55.499Z"
   },
   {
    "duration": 697927,
    "start_time": "2023-05-26T09:08:24.929Z"
   },
   {
    "duration": 293985,
    "start_time": "2023-05-26T09:23:38.145Z"
   },
   {
    "duration": 15554,
    "start_time": "2023-05-26T09:33:14.021Z"
   },
   {
    "duration": 14803,
    "start_time": "2023-05-26T09:33:37.283Z"
   },
   {
    "duration": 16213,
    "start_time": "2023-05-26T09:34:39.243Z"
   },
   {
    "duration": 16534,
    "start_time": "2023-05-26T09:35:12.187Z"
   },
   {
    "duration": 3251,
    "start_time": "2023-05-26T09:37:11.173Z"
   },
   {
    "duration": 4942,
    "start_time": "2023-05-26T09:38:29.929Z"
   },
   {
    "duration": 88,
    "start_time": "2023-05-26T09:41:21.959Z"
   },
   {
    "duration": 88,
    "start_time": "2023-05-26T09:42:02.663Z"
   },
   {
    "duration": 2563,
    "start_time": "2023-05-26T09:42:11.782Z"
   },
   {
    "duration": 1285,
    "start_time": "2023-05-26T10:08:08.206Z"
   },
   {
    "duration": 14,
    "start_time": "2023-05-26T10:08:09.493Z"
   },
   {
    "duration": 18,
    "start_time": "2023-05-26T10:08:09.508Z"
   },
   {
    "duration": 3,
    "start_time": "2023-05-26T10:08:09.528Z"
   },
   {
    "duration": 11,
    "start_time": "2023-05-26T10:08:09.532Z"
   },
   {
    "duration": 4,
    "start_time": "2023-05-26T10:08:09.544Z"
   },
   {
    "duration": 8,
    "start_time": "2023-05-26T10:08:09.549Z"
   },
   {
    "duration": 6,
    "start_time": "2023-05-26T10:08:09.559Z"
   },
   {
    "duration": 212,
    "start_time": "2023-05-26T10:08:09.566Z"
   },
   {
    "duration": 2,
    "start_time": "2023-05-26T10:08:09.780Z"
   },
   {
    "duration": 73,
    "start_time": "2023-05-26T10:08:09.784Z"
   },
   {
    "duration": 141,
    "start_time": "2023-05-26T10:08:09.858Z"
   },
   {
    "duration": 29,
    "start_time": "2023-05-26T10:08:10.001Z"
   },
   {
    "duration": 4760,
    "start_time": "2023-05-26T10:08:10.032Z"
   },
   {
    "duration": 263499,
    "start_time": "2023-05-26T10:08:14.793Z"
   },
   {
    "duration": 2938,
    "start_time": "2023-05-26T10:12:38.293Z"
   },
   {
    "duration": 202,
    "start_time": "2023-05-26T10:12:41.232Z"
   },
   {
    "duration": 4,
    "start_time": "2023-05-26T10:12:41.436Z"
   },
   {
    "duration": 6,
    "start_time": "2023-05-26T10:12:41.442Z"
   },
   {
    "duration": 79,
    "start_time": "2023-05-26T10:12:41.449Z"
   },
   {
    "duration": 5,
    "start_time": "2023-05-26T10:12:41.529Z"
   },
   {
    "duration": 10,
    "start_time": "2023-05-26T10:12:41.535Z"
   },
   {
    "duration": 62,
    "start_time": "2023-05-26T10:12:41.547Z"
   },
   {
    "duration": 5,
    "start_time": "2023-05-26T10:12:41.611Z"
   },
   {
    "duration": 3,
    "start_time": "2023-05-26T10:12:41.707Z"
   },
   {
    "duration": 252,
    "start_time": "2023-05-26T10:12:41.712Z"
   },
   {
    "duration": 2,
    "start_time": "2023-05-26T10:12:41.965Z"
   },
   {
    "duration": 9,
    "start_time": "2023-05-26T10:12:41.970Z"
   },
   {
    "duration": 81,
    "start_time": "2023-05-26T10:12:41.981Z"
   },
   {
    "duration": 3,
    "start_time": "2023-05-26T10:12:42.064Z"
   },
   {
    "duration": 104,
    "start_time": "2023-05-26T10:12:42.069Z"
   },
   {
    "duration": 3,
    "start_time": "2023-05-26T10:12:42.175Z"
   },
   {
    "duration": 14,
    "start_time": "2023-05-26T10:12:42.180Z"
   },
   {
    "duration": 53411,
    "start_time": "2023-05-26T10:12:42.195Z"
   },
   {
    "duration": 622,
    "start_time": "2023-05-26T10:13:35.607Z"
   },
   {
    "duration": 17389,
    "start_time": "2023-05-26T10:13:36.307Z"
   },
   {
    "duration": 29368,
    "start_time": "2023-05-26T10:13:53.698Z"
   },
   {
    "duration": 1072,
    "start_time": "2023-05-26T10:14:23.068Z"
   },
   {
    "duration": 670,
    "start_time": "2023-05-26T10:14:24.141Z"
   },
   {
    "duration": 122,
    "start_time": "2023-05-26T10:14:24.812Z"
   },
   {
    "duration": 74,
    "start_time": "2023-05-26T10:14:24.936Z"
   },
   {
    "duration": 112,
    "start_time": "2023-05-26T10:14:25.012Z"
   },
   {
    "duration": 67,
    "start_time": "2023-05-26T10:14:25.125Z"
   },
   {
    "duration": 5,
    "start_time": "2023-05-26T10:14:25.194Z"
   },
   {
    "duration": 14,
    "start_time": "2023-05-26T10:14:25.200Z"
   },
   {
    "duration": 58,
    "start_time": "2023-05-26T10:14:25.215Z"
   },
   {
    "duration": 5,
    "start_time": "2023-05-26T10:14:25.274Z"
   },
   {
    "duration": 33,
    "start_time": "2023-05-26T10:14:25.280Z"
   },
   {
    "duration": 169,
    "start_time": "2023-05-26T10:14:25.315Z"
   },
   {
    "duration": 57,
    "start_time": "2023-05-26T10:14:25.485Z"
   },
   {
    "duration": 63,
    "start_time": "2023-05-26T10:14:25.543Z"
   },
   {
    "duration": 3,
    "start_time": "2023-05-26T10:14:25.608Z"
   },
   {
    "duration": 48,
    "start_time": "2023-05-26T10:14:25.613Z"
   },
   {
    "duration": 455683,
    "start_time": "2023-05-26T10:32:21.609Z"
   },
   {
    "duration": 7104,
    "start_time": "2023-05-26T11:04:23.139Z"
   },
   {
    "duration": 1855,
    "start_time": "2023-05-26T11:46:17.485Z"
   },
   {
    "duration": 114063,
    "start_time": "2023-05-26T11:48:44.551Z"
   },
   {
    "duration": 1614,
    "start_time": "2023-05-26T11:50:53.997Z"
   },
   {
    "duration": 164,
    "start_time": "2023-05-26T11:51:54.243Z"
   },
   {
    "duration": 1032,
    "start_time": "2023-05-26T11:52:54.200Z"
   },
   {
    "duration": 1745,
    "start_time": "2023-05-26T11:54:30.574Z"
   },
   {
    "duration": 4,
    "start_time": "2023-05-26T12:03:51.818Z"
   },
   {
    "duration": 7,
    "start_time": "2023-05-26T12:03:55.938Z"
   },
   {
    "duration": 1350,
    "start_time": "2023-05-26T12:04:59.589Z"
   },
   {
    "duration": 14,
    "start_time": "2023-05-26T12:05:00.941Z"
   },
   {
    "duration": 37,
    "start_time": "2023-05-26T12:05:00.957Z"
   },
   {
    "duration": 45,
    "start_time": "2023-05-26T12:05:00.997Z"
   },
   {
    "duration": 50,
    "start_time": "2023-05-26T12:05:01.044Z"
   },
   {
    "duration": 26,
    "start_time": "2023-05-26T12:05:01.095Z"
   },
   {
    "duration": 42,
    "start_time": "2023-05-26T12:05:01.122Z"
   },
   {
    "duration": 55,
    "start_time": "2023-05-26T12:05:01.165Z"
   },
   {
    "duration": 240,
    "start_time": "2023-05-26T12:05:01.222Z"
   },
   {
    "duration": 3,
    "start_time": "2023-05-26T12:05:01.464Z"
   },
   {
    "duration": 97,
    "start_time": "2023-05-26T12:05:01.469Z"
   },
   {
    "duration": 133,
    "start_time": "2023-05-26T12:05:01.567Z"
   },
   {
    "duration": 35,
    "start_time": "2023-05-26T12:05:01.702Z"
   },
   {
    "duration": 5286,
    "start_time": "2023-05-26T12:05:01.739Z"
   },
   {
    "duration": 280216,
    "start_time": "2023-05-26T12:05:07.026Z"
   },
   {
    "duration": 4168,
    "start_time": "2023-05-26T12:09:47.244Z"
   },
   {
    "duration": 1812,
    "start_time": "2023-05-26T12:09:51.414Z"
   },
   {
    "duration": 122532,
    "start_time": "2023-05-26T12:09:53.227Z"
   },
   {
    "duration": 1477,
    "start_time": "2023-05-26T12:11:55.760Z"
   },
   {
    "duration": 188,
    "start_time": "2023-05-26T12:11:57.239Z"
   },
   {
    "duration": 7,
    "start_time": "2023-05-26T12:11:57.429Z"
   },
   {
    "duration": 4,
    "start_time": "2023-05-26T12:11:57.438Z"
   },
   {
    "duration": 81,
    "start_time": "2023-05-26T12:11:57.444Z"
   },
   {
    "duration": 4,
    "start_time": "2023-05-26T12:11:57.527Z"
   },
   {
    "duration": 14,
    "start_time": "2023-05-26T12:11:57.532Z"
   },
   {
    "duration": 58,
    "start_time": "2023-05-26T12:11:57.548Z"
   },
   {
    "duration": 5,
    "start_time": "2023-05-26T12:11:57.608Z"
   },
   {
    "duration": 4,
    "start_time": "2023-05-26T12:11:57.617Z"
   },
   {
    "duration": 276,
    "start_time": "2023-05-26T12:11:57.626Z"
   },
   {
    "duration": 2,
    "start_time": "2023-05-26T12:11:57.905Z"
   },
   {
    "duration": 13,
    "start_time": "2023-05-26T12:11:57.909Z"
   },
   {
    "duration": 84,
    "start_time": "2023-05-26T12:11:57.924Z"
   },
   {
    "duration": 4,
    "start_time": "2023-05-26T12:11:58.009Z"
   },
   {
    "duration": 111,
    "start_time": "2023-05-26T12:11:58.014Z"
   },
   {
    "duration": 3,
    "start_time": "2023-05-26T12:11:58.127Z"
   },
   {
    "duration": 8,
    "start_time": "2023-05-26T12:11:58.132Z"
   },
   {
    "duration": 7379,
    "start_time": "2023-05-26T12:11:58.141Z"
   },
   {
    "duration": 683,
    "start_time": "2023-05-26T12:12:05.522Z"
   },
   {
    "duration": 478317,
    "start_time": "2023-05-26T12:12:06.209Z"
   },
   {
    "duration": 675,
    "start_time": "2023-05-26T12:20:04.538Z"
   },
   {
    "duration": 124,
    "start_time": "2023-05-26T12:20:05.214Z"
   },
   {
    "duration": 76,
    "start_time": "2023-05-26T12:20:05.341Z"
   },
   {
    "duration": 112,
    "start_time": "2023-05-26T12:20:05.418Z"
   },
   {
    "duration": 65,
    "start_time": "2023-05-26T12:20:05.532Z"
   },
   {
    "duration": 4,
    "start_time": "2023-05-26T12:20:05.598Z"
   },
   {
    "duration": 29,
    "start_time": "2023-05-26T12:20:05.604Z"
   },
   {
    "duration": 88,
    "start_time": "2023-05-26T12:20:05.635Z"
   },
   {
    "duration": 4,
    "start_time": "2023-05-26T12:20:05.725Z"
   },
   {
    "duration": 21,
    "start_time": "2023-05-26T12:20:05.731Z"
   },
   {
    "duration": 164,
    "start_time": "2023-05-26T12:20:05.754Z"
   },
   {
    "duration": 65,
    "start_time": "2023-05-26T12:20:05.922Z"
   },
   {
    "duration": 77,
    "start_time": "2023-05-26T12:20:05.989Z"
   },
   {
    "duration": 4,
    "start_time": "2023-05-26T12:20:06.068Z"
   },
   {
    "duration": 18,
    "start_time": "2023-05-26T12:20:06.073Z"
   },
   {
    "duration": 1889,
    "start_time": "2023-05-26T16:10:10.174Z"
   },
   {
    "duration": 26,
    "start_time": "2023-05-26T16:10:12.065Z"
   },
   {
    "duration": 17,
    "start_time": "2023-05-26T16:10:12.093Z"
   },
   {
    "duration": 19,
    "start_time": "2023-05-26T16:10:12.113Z"
   },
   {
    "duration": 45,
    "start_time": "2023-05-26T16:10:12.134Z"
   },
   {
    "duration": 11,
    "start_time": "2023-05-26T16:10:12.181Z"
   },
   {
    "duration": 27,
    "start_time": "2023-05-26T16:10:12.194Z"
   },
   {
    "duration": 20,
    "start_time": "2023-05-26T16:10:12.223Z"
   },
   {
    "duration": 241,
    "start_time": "2023-05-26T16:10:12.245Z"
   },
   {
    "duration": 4,
    "start_time": "2023-05-26T16:10:12.489Z"
   },
   {
    "duration": 87,
    "start_time": "2023-05-26T16:10:12.495Z"
   },
   {
    "duration": 165,
    "start_time": "2023-05-26T16:10:12.584Z"
   },
   {
    "duration": 43,
    "start_time": "2023-05-26T16:10:12.756Z"
   },
   {
    "duration": 7891,
    "start_time": "2023-05-26T16:10:12.802Z"
   },
   {
    "duration": 356065,
    "start_time": "2023-05-26T16:10:20.696Z"
   },
   {
    "duration": 4499,
    "start_time": "2023-05-26T16:16:16.764Z"
   },
   {
    "duration": 2163,
    "start_time": "2023-05-26T16:16:21.269Z"
   },
   {
    "duration": 166619,
    "start_time": "2023-05-26T16:16:23.433Z"
   },
   {
    "duration": 1806,
    "start_time": "2023-05-26T16:19:10.054Z"
   },
   {
    "duration": 63,
    "start_time": "2023-05-26T16:19:11.863Z"
   },
   {
    "duration": 28,
    "start_time": "2023-05-26T16:19:11.929Z"
   },
   {
    "duration": 5,
    "start_time": "2023-05-26T16:19:11.960Z"
   },
   {
    "duration": 98,
    "start_time": "2023-05-26T16:19:11.968Z"
   },
   {
    "duration": 9,
    "start_time": "2023-05-26T16:19:12.068Z"
   },
   {
    "duration": 14,
    "start_time": "2023-05-26T16:19:12.079Z"
   },
   {
    "duration": 76,
    "start_time": "2023-05-26T16:19:12.095Z"
   },
   {
    "duration": 80,
    "start_time": "2023-05-26T16:19:12.177Z"
   },
   {
    "duration": 12,
    "start_time": "2023-05-26T16:19:12.267Z"
   },
   {
    "duration": 225,
    "start_time": "2023-05-26T16:19:12.368Z"
   },
   {
    "duration": 4,
    "start_time": "2023-05-26T16:19:12.596Z"
   },
   {
    "duration": 24,
    "start_time": "2023-05-26T16:19:12.603Z"
   },
   {
    "duration": 117,
    "start_time": "2023-05-26T16:19:12.630Z"
   },
   {
    "duration": 10,
    "start_time": "2023-05-26T16:19:12.750Z"
   },
   {
    "duration": 136,
    "start_time": "2023-05-26T16:19:12.766Z"
   },
   {
    "duration": 5,
    "start_time": "2023-05-26T16:19:12.904Z"
   },
   {
    "duration": 23,
    "start_time": "2023-05-26T16:19:12.912Z"
   },
   {
    "duration": 9379,
    "start_time": "2023-05-26T16:19:12.937Z"
   },
   {
    "duration": 772,
    "start_time": "2023-05-26T16:19:22.318Z"
   },
   {
    "duration": 446862,
    "start_time": "2023-05-26T16:19:23.162Z"
   },
   {
    "duration": 0,
    "start_time": "2023-05-26T16:26:50.026Z"
   },
   {
    "duration": 0,
    "start_time": "2023-05-26T16:26:50.029Z"
   },
   {
    "duration": 0,
    "start_time": "2023-05-26T16:26:50.030Z"
   },
   {
    "duration": 0,
    "start_time": "2023-05-26T16:26:50.032Z"
   },
   {
    "duration": 0,
    "start_time": "2023-05-26T16:26:50.033Z"
   },
   {
    "duration": 0,
    "start_time": "2023-05-26T16:26:50.035Z"
   },
   {
    "duration": 0,
    "start_time": "2023-05-26T16:26:50.036Z"
   },
   {
    "duration": 0,
    "start_time": "2023-05-26T16:26:50.037Z"
   },
   {
    "duration": 0,
    "start_time": "2023-05-26T16:26:50.038Z"
   },
   {
    "duration": 0,
    "start_time": "2023-05-26T16:26:50.039Z"
   },
   {
    "duration": 0,
    "start_time": "2023-05-26T16:26:50.059Z"
   },
   {
    "duration": 0,
    "start_time": "2023-05-26T16:26:50.061Z"
   },
   {
    "duration": 0,
    "start_time": "2023-05-26T16:26:50.062Z"
   },
   {
    "duration": 0,
    "start_time": "2023-05-26T16:26:50.063Z"
   },
   {
    "duration": 0,
    "start_time": "2023-05-26T16:26:50.063Z"
   },
   {
    "duration": 2582,
    "start_time": "2023-05-26T16:28:28.209Z"
   },
   {
    "duration": 109,
    "start_time": "2023-05-26T16:30:44.631Z"
   },
   {
    "duration": 203,
    "start_time": "2023-05-26T16:30:50.132Z"
   },
   {
    "duration": 129,
    "start_time": "2023-05-26T16:30:54.722Z"
   },
   {
    "duration": 149,
    "start_time": "2023-05-26T16:31:00.143Z"
   },
   {
    "duration": 136,
    "start_time": "2023-05-26T16:31:06.204Z"
   },
   {
    "duration": 6,
    "start_time": "2023-05-26T16:31:40.143Z"
   },
   {
    "duration": 5,
    "start_time": "2023-05-26T16:31:43.802Z"
   },
   {
    "duration": 4,
    "start_time": "2023-05-26T16:31:50.033Z"
   },
   {
    "duration": 55,
    "start_time": "2023-05-26T17:17:18.163Z"
   },
   {
    "duration": 1478,
    "start_time": "2023-05-26T17:17:23.868Z"
   },
   {
    "duration": 14,
    "start_time": "2023-05-26T17:17:25.347Z"
   },
   {
    "duration": 23,
    "start_time": "2023-05-26T17:17:25.362Z"
   },
   {
    "duration": 5,
    "start_time": "2023-05-26T17:17:25.387Z"
   },
   {
    "duration": 55,
    "start_time": "2023-05-26T17:17:25.393Z"
   },
   {
    "duration": 19,
    "start_time": "2023-05-26T17:17:25.449Z"
   },
   {
    "duration": 20,
    "start_time": "2023-05-26T17:17:25.469Z"
   },
   {
    "duration": 23,
    "start_time": "2023-05-26T17:17:25.490Z"
   },
   {
    "duration": 246,
    "start_time": "2023-05-26T17:17:25.515Z"
   },
   {
    "duration": 3,
    "start_time": "2023-05-26T17:17:25.764Z"
   },
   {
    "duration": 61,
    "start_time": "2023-05-26T17:17:25.768Z"
   },
   {
    "duration": 105,
    "start_time": "2023-05-26T17:17:25.830Z"
   },
   {
    "duration": 31,
    "start_time": "2023-05-26T17:17:25.937Z"
   },
   {
    "duration": 4505,
    "start_time": "2023-05-26T17:17:25.970Z"
   },
   {
    "duration": 256192,
    "start_time": "2023-05-26T17:17:30.477Z"
   },
   {
    "duration": 3117,
    "start_time": "2023-05-26T17:21:46.671Z"
   },
   {
    "duration": 1671,
    "start_time": "2023-05-26T17:21:49.790Z"
   },
   {
    "duration": 115414,
    "start_time": "2023-05-26T17:21:51.463Z"
   },
   {
    "duration": 1636,
    "start_time": "2023-05-26T17:23:46.878Z"
   },
   {
    "duration": 262,
    "start_time": "2023-05-26T17:23:48.516Z"
   },
   {
    "duration": 0,
    "start_time": "2023-05-26T17:23:48.787Z"
   },
   {
    "duration": 0,
    "start_time": "2023-05-26T17:23:48.788Z"
   },
   {
    "duration": 0,
    "start_time": "2023-05-26T17:23:48.789Z"
   },
   {
    "duration": 0,
    "start_time": "2023-05-26T17:23:48.791Z"
   },
   {
    "duration": 0,
    "start_time": "2023-05-26T17:23:48.792Z"
   },
   {
    "duration": 0,
    "start_time": "2023-05-26T17:23:48.792Z"
   },
   {
    "duration": 0,
    "start_time": "2023-05-26T17:23:48.794Z"
   },
   {
    "duration": 0,
    "start_time": "2023-05-26T17:23:48.795Z"
   },
   {
    "duration": 0,
    "start_time": "2023-05-26T17:23:48.796Z"
   },
   {
    "duration": 0,
    "start_time": "2023-05-26T17:23:48.797Z"
   },
   {
    "duration": 0,
    "start_time": "2023-05-26T17:23:48.798Z"
   },
   {
    "duration": 0,
    "start_time": "2023-05-26T17:23:48.799Z"
   },
   {
    "duration": 0,
    "start_time": "2023-05-26T17:23:48.800Z"
   },
   {
    "duration": 0,
    "start_time": "2023-05-26T17:23:48.801Z"
   },
   {
    "duration": 0,
    "start_time": "2023-05-26T17:23:48.801Z"
   },
   {
    "duration": 0,
    "start_time": "2023-05-26T17:23:48.802Z"
   },
   {
    "duration": 0,
    "start_time": "2023-05-26T17:23:48.803Z"
   },
   {
    "duration": 0,
    "start_time": "2023-05-26T17:23:48.804Z"
   },
   {
    "duration": 0,
    "start_time": "2023-05-26T17:23:48.805Z"
   },
   {
    "duration": 0,
    "start_time": "2023-05-26T17:23:48.805Z"
   },
   {
    "duration": 0,
    "start_time": "2023-05-26T17:23:48.806Z"
   },
   {
    "duration": 0,
    "start_time": "2023-05-26T17:23:48.807Z"
   },
   {
    "duration": 0,
    "start_time": "2023-05-26T17:23:48.809Z"
   },
   {
    "duration": 0,
    "start_time": "2023-05-26T17:23:48.810Z"
   },
   {
    "duration": 0,
    "start_time": "2023-05-26T17:23:48.812Z"
   },
   {
    "duration": 0,
    "start_time": "2023-05-26T17:23:48.813Z"
   },
   {
    "duration": 0,
    "start_time": "2023-05-26T17:23:48.815Z"
   },
   {
    "duration": 0,
    "start_time": "2023-05-26T17:23:48.816Z"
   },
   {
    "duration": 0,
    "start_time": "2023-05-26T17:23:48.817Z"
   },
   {
    "duration": 0,
    "start_time": "2023-05-26T17:23:48.819Z"
   },
   {
    "duration": 0,
    "start_time": "2023-05-26T17:23:48.820Z"
   },
   {
    "duration": 0,
    "start_time": "2023-05-26T17:23:48.821Z"
   },
   {
    "duration": 0,
    "start_time": "2023-05-26T17:23:48.822Z"
   },
   {
    "duration": 0,
    "start_time": "2023-05-26T17:23:48.823Z"
   },
   {
    "duration": 0,
    "start_time": "2023-05-26T17:23:48.825Z"
   },
   {
    "duration": 5,
    "start_time": "2023-05-26T17:34:49.542Z"
   },
   {
    "duration": 36,
    "start_time": "2023-05-26T17:35:43.678Z"
   },
   {
    "duration": 1326,
    "start_time": "2023-05-26T17:37:26.351Z"
   },
   {
    "duration": 30,
    "start_time": "2023-05-26T17:37:27.680Z"
   },
   {
    "duration": 27,
    "start_time": "2023-05-26T17:37:27.712Z"
   },
   {
    "duration": 4,
    "start_time": "2023-05-26T17:37:27.741Z"
   },
   {
    "duration": 16,
    "start_time": "2023-05-26T17:37:27.746Z"
   },
   {
    "duration": 3,
    "start_time": "2023-05-26T17:37:27.764Z"
   },
   {
    "duration": 13,
    "start_time": "2023-05-26T17:37:27.768Z"
   },
   {
    "duration": 41,
    "start_time": "2023-05-26T17:37:27.782Z"
   },
   {
    "duration": 6,
    "start_time": "2023-05-26T17:37:27.825Z"
   },
   {
    "duration": 20,
    "start_time": "2023-05-26T17:37:27.833Z"
   },
   {
    "duration": 116,
    "start_time": "2023-05-26T17:37:27.855Z"
   },
   {
    "duration": 0,
    "start_time": "2023-05-26T17:37:27.974Z"
   },
   {
    "duration": 0,
    "start_time": "2023-05-26T17:37:27.975Z"
   },
   {
    "duration": 0,
    "start_time": "2023-05-26T17:37:27.976Z"
   },
   {
    "duration": 0,
    "start_time": "2023-05-26T17:37:27.977Z"
   },
   {
    "duration": 0,
    "start_time": "2023-05-26T17:37:27.978Z"
   },
   {
    "duration": 0,
    "start_time": "2023-05-26T17:37:27.978Z"
   },
   {
    "duration": 0,
    "start_time": "2023-05-26T17:37:27.979Z"
   },
   {
    "duration": 0,
    "start_time": "2023-05-26T17:37:27.980Z"
   },
   {
    "duration": 0,
    "start_time": "2023-05-26T17:37:27.980Z"
   },
   {
    "duration": 0,
    "start_time": "2023-05-26T17:37:27.981Z"
   },
   {
    "duration": 0,
    "start_time": "2023-05-26T17:37:27.981Z"
   },
   {
    "duration": 2,
    "start_time": "2023-05-26T17:37:27.982Z"
   },
   {
    "duration": 0,
    "start_time": "2023-05-26T17:37:27.985Z"
   },
   {
    "duration": 0,
    "start_time": "2023-05-26T17:37:27.985Z"
   },
   {
    "duration": 0,
    "start_time": "2023-05-26T17:37:27.986Z"
   },
   {
    "duration": 0,
    "start_time": "2023-05-26T17:37:27.986Z"
   },
   {
    "duration": 0,
    "start_time": "2023-05-26T17:37:27.987Z"
   },
   {
    "duration": 0,
    "start_time": "2023-05-26T17:37:27.987Z"
   },
   {
    "duration": 0,
    "start_time": "2023-05-26T17:37:27.991Z"
   },
   {
    "duration": 0,
    "start_time": "2023-05-26T17:37:27.992Z"
   },
   {
    "duration": 0,
    "start_time": "2023-05-26T17:37:27.993Z"
   },
   {
    "duration": 0,
    "start_time": "2023-05-26T17:37:27.994Z"
   },
   {
    "duration": 0,
    "start_time": "2023-05-26T17:37:27.994Z"
   },
   {
    "duration": 0,
    "start_time": "2023-05-26T17:37:27.995Z"
   },
   {
    "duration": 0,
    "start_time": "2023-05-26T17:37:27.996Z"
   },
   {
    "duration": 0,
    "start_time": "2023-05-26T17:37:27.997Z"
   },
   {
    "duration": 0,
    "start_time": "2023-05-26T17:37:27.998Z"
   },
   {
    "duration": 0,
    "start_time": "2023-05-26T17:37:27.998Z"
   },
   {
    "duration": 0,
    "start_time": "2023-05-26T17:37:27.999Z"
   },
   {
    "duration": 0,
    "start_time": "2023-05-26T17:37:28.000Z"
   },
   {
    "duration": 0,
    "start_time": "2023-05-26T17:37:28.001Z"
   },
   {
    "duration": 0,
    "start_time": "2023-05-26T17:37:28.001Z"
   },
   {
    "duration": 0,
    "start_time": "2023-05-26T17:37:28.002Z"
   },
   {
    "duration": 0,
    "start_time": "2023-05-26T17:37:28.003Z"
   },
   {
    "duration": 0,
    "start_time": "2023-05-26T17:37:28.004Z"
   },
   {
    "duration": 0,
    "start_time": "2023-05-26T17:37:28.005Z"
   },
   {
    "duration": 0,
    "start_time": "2023-05-26T17:37:28.006Z"
   },
   {
    "duration": 0,
    "start_time": "2023-05-26T17:37:28.011Z"
   },
   {
    "duration": 0,
    "start_time": "2023-05-26T17:37:28.012Z"
   },
   {
    "duration": 0,
    "start_time": "2023-05-26T17:37:28.013Z"
   },
   {
    "duration": 0,
    "start_time": "2023-05-26T17:37:28.014Z"
   },
   {
    "duration": 0,
    "start_time": "2023-05-26T17:37:28.015Z"
   },
   {
    "duration": 0,
    "start_time": "2023-05-26T17:37:28.016Z"
   },
   {
    "duration": 20,
    "start_time": "2023-05-26T17:39:14.172Z"
   },
   {
    "duration": 10,
    "start_time": "2023-05-26T17:40:22.710Z"
   },
   {
    "duration": 8,
    "start_time": "2023-05-26T17:41:19.363Z"
   },
   {
    "duration": 5,
    "start_time": "2023-05-26T17:41:39.570Z"
   },
   {
    "duration": 1787,
    "start_time": "2023-05-26T19:28:10.957Z"
   },
   {
    "duration": 16,
    "start_time": "2023-05-26T19:28:12.746Z"
   },
   {
    "duration": 29,
    "start_time": "2023-05-26T19:28:12.764Z"
   },
   {
    "duration": 4,
    "start_time": "2023-05-26T19:28:12.796Z"
   },
   {
    "duration": 11,
    "start_time": "2023-05-26T19:28:12.802Z"
   },
   {
    "duration": 4,
    "start_time": "2023-05-26T19:28:12.815Z"
   },
   {
    "duration": 6,
    "start_time": "2023-05-26T19:28:12.820Z"
   },
   {
    "duration": 7,
    "start_time": "2023-05-26T19:28:12.828Z"
   },
   {
    "duration": 13,
    "start_time": "2023-05-26T19:28:12.836Z"
   },
   {
    "duration": 40,
    "start_time": "2023-05-26T19:28:12.852Z"
   },
   {
    "duration": 8,
    "start_time": "2023-05-26T19:28:12.895Z"
   },
   {
    "duration": 7,
    "start_time": "2023-05-26T19:28:12.905Z"
   },
   {
    "duration": 30,
    "start_time": "2023-05-26T19:28:12.913Z"
   },
   {
    "duration": 280,
    "start_time": "2023-05-26T19:28:12.944Z"
   },
   {
    "duration": 84388,
    "start_time": "2023-05-26T19:28:13.226Z"
   },
   {
    "duration": 572,
    "start_time": "2023-05-26T19:29:37.617Z"
   },
   {
    "duration": 382,
    "start_time": "2023-05-26T19:29:38.201Z"
   },
   {
    "duration": 78805,
    "start_time": "2023-05-26T19:29:38.588Z"
   },
   {
    "duration": 1177,
    "start_time": "2023-05-26T19:30:57.397Z"
   },
   {
    "duration": 138,
    "start_time": "2023-05-26T19:30:58.576Z"
   },
   {
    "duration": 0,
    "start_time": "2023-05-26T19:30:58.718Z"
   },
   {
    "duration": 0,
    "start_time": "2023-05-26T19:30:58.719Z"
   },
   {
    "duration": 0,
    "start_time": "2023-05-26T19:30:58.720Z"
   },
   {
    "duration": 0,
    "start_time": "2023-05-26T19:30:58.721Z"
   },
   {
    "duration": 0,
    "start_time": "2023-05-26T19:30:58.722Z"
   },
   {
    "duration": 0,
    "start_time": "2023-05-26T19:30:58.723Z"
   },
   {
    "duration": 0,
    "start_time": "2023-05-26T19:30:58.724Z"
   },
   {
    "duration": 0,
    "start_time": "2023-05-26T19:30:58.725Z"
   },
   {
    "duration": 0,
    "start_time": "2023-05-26T19:30:58.727Z"
   },
   {
    "duration": 0,
    "start_time": "2023-05-26T19:30:58.728Z"
   },
   {
    "duration": 0,
    "start_time": "2023-05-26T19:30:58.729Z"
   },
   {
    "duration": 0,
    "start_time": "2023-05-26T19:30:58.729Z"
   },
   {
    "duration": 0,
    "start_time": "2023-05-26T19:30:58.730Z"
   },
   {
    "duration": 0,
    "start_time": "2023-05-26T19:30:58.731Z"
   },
   {
    "duration": 0,
    "start_time": "2023-05-26T19:30:58.732Z"
   },
   {
    "duration": 0,
    "start_time": "2023-05-26T19:30:58.733Z"
   },
   {
    "duration": 0,
    "start_time": "2023-05-26T19:30:58.734Z"
   },
   {
    "duration": 0,
    "start_time": "2023-05-26T19:30:58.735Z"
   },
   {
    "duration": 0,
    "start_time": "2023-05-26T19:30:58.735Z"
   },
   {
    "duration": 0,
    "start_time": "2023-05-26T19:30:58.736Z"
   },
   {
    "duration": 0,
    "start_time": "2023-05-26T19:30:58.737Z"
   },
   {
    "duration": 0,
    "start_time": "2023-05-26T19:30:58.778Z"
   },
   {
    "duration": 0,
    "start_time": "2023-05-26T19:30:58.780Z"
   },
   {
    "duration": 0,
    "start_time": "2023-05-26T19:30:58.781Z"
   },
   {
    "duration": 0,
    "start_time": "2023-05-26T19:30:58.782Z"
   },
   {
    "duration": 1,
    "start_time": "2023-05-26T19:30:58.782Z"
   },
   {
    "duration": 0,
    "start_time": "2023-05-26T19:30:58.783Z"
   },
   {
    "duration": 0,
    "start_time": "2023-05-26T19:30:58.784Z"
   },
   {
    "duration": 0,
    "start_time": "2023-05-26T19:30:58.784Z"
   },
   {
    "duration": 0,
    "start_time": "2023-05-26T19:30:58.785Z"
   },
   {
    "duration": 0,
    "start_time": "2023-05-26T19:30:58.786Z"
   },
   {
    "duration": 0,
    "start_time": "2023-05-26T19:30:58.786Z"
   },
   {
    "duration": 0,
    "start_time": "2023-05-26T19:30:58.787Z"
   },
   {
    "duration": 0,
    "start_time": "2023-05-26T19:30:58.787Z"
   },
   {
    "duration": 0,
    "start_time": "2023-05-26T19:30:58.795Z"
   },
   {
    "duration": 14,
    "start_time": "2023-05-26T19:31:43.001Z"
   },
   {
    "duration": 13,
    "start_time": "2023-05-26T20:21:46.080Z"
   },
   {
    "duration": 29,
    "start_time": "2023-05-26T20:22:03.324Z"
   },
   {
    "duration": 1486,
    "start_time": "2023-05-26T20:22:11.621Z"
   },
   {
    "duration": 21,
    "start_time": "2023-05-26T20:22:13.110Z"
   },
   {
    "duration": 14,
    "start_time": "2023-05-26T20:22:13.133Z"
   },
   {
    "duration": 3,
    "start_time": "2023-05-26T20:22:13.149Z"
   },
   {
    "duration": 26,
    "start_time": "2023-05-26T20:22:13.154Z"
   },
   {
    "duration": 6,
    "start_time": "2023-05-26T20:22:13.182Z"
   },
   {
    "duration": 10,
    "start_time": "2023-05-26T20:22:13.190Z"
   },
   {
    "duration": 12,
    "start_time": "2023-05-26T20:22:13.203Z"
   },
   {
    "duration": 15,
    "start_time": "2023-05-26T20:22:13.217Z"
   },
   {
    "duration": 42,
    "start_time": "2023-05-26T20:22:13.235Z"
   },
   {
    "duration": 6,
    "start_time": "2023-05-26T20:22:13.279Z"
   },
   {
    "duration": 11,
    "start_time": "2023-05-26T20:22:13.288Z"
   },
   {
    "duration": 52,
    "start_time": "2023-05-26T20:22:13.301Z"
   },
   {
    "duration": 264,
    "start_time": "2023-05-26T20:22:13.354Z"
   },
   {
    "duration": 88916,
    "start_time": "2023-05-26T20:22:13.620Z"
   },
   {
    "duration": 362,
    "start_time": "2023-05-26T20:23:42.537Z"
   },
   {
    "duration": 390,
    "start_time": "2023-05-26T20:23:42.901Z"
   },
   {
    "duration": 79452,
    "start_time": "2023-05-26T20:23:43.294Z"
   },
   {
    "duration": 1565,
    "start_time": "2023-05-26T20:25:02.747Z"
   },
   {
    "duration": 200,
    "start_time": "2023-05-26T20:25:04.323Z"
   },
   {
    "duration": 0,
    "start_time": "2023-05-26T20:25:04.526Z"
   },
   {
    "duration": 0,
    "start_time": "2023-05-26T20:25:04.527Z"
   },
   {
    "duration": 0,
    "start_time": "2023-05-26T20:25:04.528Z"
   },
   {
    "duration": 0,
    "start_time": "2023-05-26T20:25:04.529Z"
   },
   {
    "duration": 0,
    "start_time": "2023-05-26T20:25:04.530Z"
   },
   {
    "duration": 0,
    "start_time": "2023-05-26T20:25:04.531Z"
   },
   {
    "duration": 0,
    "start_time": "2023-05-26T20:25:04.532Z"
   },
   {
    "duration": 0,
    "start_time": "2023-05-26T20:25:04.533Z"
   },
   {
    "duration": 0,
    "start_time": "2023-05-26T20:25:04.534Z"
   },
   {
    "duration": 0,
    "start_time": "2023-05-26T20:25:04.535Z"
   },
   {
    "duration": 0,
    "start_time": "2023-05-26T20:25:04.536Z"
   },
   {
    "duration": 0,
    "start_time": "2023-05-26T20:25:04.537Z"
   },
   {
    "duration": 0,
    "start_time": "2023-05-26T20:25:04.538Z"
   },
   {
    "duration": 0,
    "start_time": "2023-05-26T20:25:04.539Z"
   },
   {
    "duration": 0,
    "start_time": "2023-05-26T20:25:04.540Z"
   },
   {
    "duration": 0,
    "start_time": "2023-05-26T20:25:04.541Z"
   },
   {
    "duration": 0,
    "start_time": "2023-05-26T20:25:04.542Z"
   },
   {
    "duration": 0,
    "start_time": "2023-05-26T20:25:04.543Z"
   },
   {
    "duration": 0,
    "start_time": "2023-05-26T20:25:04.544Z"
   },
   {
    "duration": 0,
    "start_time": "2023-05-26T20:25:04.545Z"
   },
   {
    "duration": 0,
    "start_time": "2023-05-26T20:25:04.576Z"
   },
   {
    "duration": 0,
    "start_time": "2023-05-26T20:25:04.576Z"
   },
   {
    "duration": 0,
    "start_time": "2023-05-26T20:25:04.577Z"
   },
   {
    "duration": 0,
    "start_time": "2023-05-26T20:25:04.580Z"
   },
   {
    "duration": 0,
    "start_time": "2023-05-26T20:25:04.581Z"
   },
   {
    "duration": 0,
    "start_time": "2023-05-26T20:25:04.583Z"
   },
   {
    "duration": 0,
    "start_time": "2023-05-26T20:25:04.584Z"
   },
   {
    "duration": 0,
    "start_time": "2023-05-26T20:25:04.585Z"
   },
   {
    "duration": 0,
    "start_time": "2023-05-26T20:25:04.586Z"
   },
   {
    "duration": 0,
    "start_time": "2023-05-26T20:25:04.588Z"
   },
   {
    "duration": 0,
    "start_time": "2023-05-26T20:25:04.590Z"
   },
   {
    "duration": 0,
    "start_time": "2023-05-26T20:25:04.593Z"
   },
   {
    "duration": 0,
    "start_time": "2023-05-26T20:25:04.594Z"
   },
   {
    "duration": 0,
    "start_time": "2023-05-26T20:25:04.595Z"
   },
   {
    "duration": 0,
    "start_time": "2023-05-26T20:25:04.596Z"
   },
   {
    "duration": 13,
    "start_time": "2023-05-26T20:25:16.391Z"
   },
   {
    "duration": 8,
    "start_time": "2023-05-26T20:25:29.399Z"
   },
   {
    "duration": 35,
    "start_time": "2023-05-26T20:25:31.751Z"
   },
   {
    "duration": 256,
    "start_time": "2023-05-26T20:25:35.630Z"
   },
   {
    "duration": 85983,
    "start_time": "2023-05-26T20:25:38.742Z"
   },
   {
    "duration": 73,
    "start_time": "2023-05-26T20:27:09.429Z"
   },
   {
    "duration": 200,
    "start_time": "2023-05-26T20:29:41.502Z"
   },
   {
    "duration": 10,
    "start_time": "2023-05-26T20:33:21.839Z"
   },
   {
    "duration": 19,
    "start_time": "2023-05-26T20:33:46.202Z"
   },
   {
    "duration": 22,
    "start_time": "2023-05-26T20:34:32.482Z"
   },
   {
    "duration": 1566,
    "start_time": "2023-05-26T20:35:20.895Z"
   },
   {
    "duration": 29,
    "start_time": "2023-05-26T20:35:22.463Z"
   },
   {
    "duration": 26,
    "start_time": "2023-05-26T20:35:22.494Z"
   },
   {
    "duration": 17,
    "start_time": "2023-05-26T20:35:22.522Z"
   },
   {
    "duration": 20,
    "start_time": "2023-05-26T20:35:22.540Z"
   },
   {
    "duration": 5,
    "start_time": "2023-05-26T20:35:22.561Z"
   },
   {
    "duration": 36,
    "start_time": "2023-05-26T20:35:22.568Z"
   },
   {
    "duration": 30,
    "start_time": "2023-05-26T20:35:22.605Z"
   },
   {
    "duration": 28,
    "start_time": "2023-05-26T20:35:22.636Z"
   },
   {
    "duration": 38,
    "start_time": "2023-05-26T20:35:22.667Z"
   },
   {
    "duration": 5,
    "start_time": "2023-05-26T20:35:22.707Z"
   },
   {
    "duration": 15,
    "start_time": "2023-05-26T20:35:22.714Z"
   },
   {
    "duration": 22,
    "start_time": "2023-05-26T20:35:22.730Z"
   },
   {
    "duration": 34,
    "start_time": "2023-05-26T20:35:22.754Z"
   },
   {
    "duration": 264,
    "start_time": "2023-05-26T20:35:22.790Z"
   },
   {
    "duration": 86131,
    "start_time": "2023-05-26T20:35:23.056Z"
   },
   {
    "duration": 699,
    "start_time": "2023-05-26T20:36:49.190Z"
   },
   {
    "duration": 322,
    "start_time": "2023-05-26T20:36:49.891Z"
   },
   {
    "duration": 77858,
    "start_time": "2023-05-26T20:36:50.215Z"
   },
   {
    "duration": 605,
    "start_time": "2023-05-26T20:38:08.077Z"
   },
   {
    "duration": 211,
    "start_time": "2023-05-26T20:38:08.684Z"
   },
   {
    "duration": 0,
    "start_time": "2023-05-26T20:38:08.899Z"
   },
   {
    "duration": 0,
    "start_time": "2023-05-26T20:38:08.900Z"
   },
   {
    "duration": 0,
    "start_time": "2023-05-26T20:38:08.901Z"
   },
   {
    "duration": 0,
    "start_time": "2023-05-26T20:38:08.910Z"
   },
   {
    "duration": 0,
    "start_time": "2023-05-26T20:38:08.911Z"
   },
   {
    "duration": 0,
    "start_time": "2023-05-26T20:38:08.912Z"
   },
   {
    "duration": 0,
    "start_time": "2023-05-26T20:38:08.913Z"
   },
   {
    "duration": 0,
    "start_time": "2023-05-26T20:38:08.914Z"
   },
   {
    "duration": 0,
    "start_time": "2023-05-26T20:38:08.915Z"
   },
   {
    "duration": 0,
    "start_time": "2023-05-26T20:38:08.916Z"
   },
   {
    "duration": 0,
    "start_time": "2023-05-26T20:38:08.918Z"
   },
   {
    "duration": 0,
    "start_time": "2023-05-26T20:38:08.919Z"
   },
   {
    "duration": 0,
    "start_time": "2023-05-26T20:38:08.920Z"
   },
   {
    "duration": 0,
    "start_time": "2023-05-26T20:38:08.920Z"
   },
   {
    "duration": 0,
    "start_time": "2023-05-26T20:38:08.921Z"
   },
   {
    "duration": 0,
    "start_time": "2023-05-26T20:38:08.923Z"
   },
   {
    "duration": 0,
    "start_time": "2023-05-26T20:38:08.924Z"
   },
   {
    "duration": 0,
    "start_time": "2023-05-26T20:38:08.926Z"
   },
   {
    "duration": 0,
    "start_time": "2023-05-26T20:38:08.927Z"
   },
   {
    "duration": 0,
    "start_time": "2023-05-26T20:38:08.929Z"
   },
   {
    "duration": 0,
    "start_time": "2023-05-26T20:38:08.930Z"
   },
   {
    "duration": 0,
    "start_time": "2023-05-26T20:38:08.932Z"
   },
   {
    "duration": 0,
    "start_time": "2023-05-26T20:38:08.933Z"
   },
   {
    "duration": 0,
    "start_time": "2023-05-26T20:38:08.935Z"
   },
   {
    "duration": 0,
    "start_time": "2023-05-26T20:38:08.936Z"
   },
   {
    "duration": 0,
    "start_time": "2023-05-26T20:38:08.938Z"
   },
   {
    "duration": 0,
    "start_time": "2023-05-26T20:38:08.979Z"
   },
   {
    "duration": 0,
    "start_time": "2023-05-26T20:38:08.979Z"
   },
   {
    "duration": 0,
    "start_time": "2023-05-26T20:38:08.980Z"
   },
   {
    "duration": 0,
    "start_time": "2023-05-26T20:38:08.981Z"
   },
   {
    "duration": 0,
    "start_time": "2023-05-26T20:38:08.981Z"
   },
   {
    "duration": 0,
    "start_time": "2023-05-26T20:38:08.982Z"
   },
   {
    "duration": 0,
    "start_time": "2023-05-26T20:38:08.990Z"
   },
   {
    "duration": 0,
    "start_time": "2023-05-26T20:38:08.990Z"
   },
   {
    "duration": 0,
    "start_time": "2023-05-26T20:38:08.991Z"
   },
   {
    "duration": 6,
    "start_time": "2023-05-26T20:38:54.235Z"
   },
   {
    "duration": 5,
    "start_time": "2023-05-26T20:38:56.187Z"
   },
   {
    "duration": 5,
    "start_time": "2023-05-26T20:38:56.728Z"
   },
   {
    "duration": 26,
    "start_time": "2023-05-26T20:38:57.132Z"
   },
   {
    "duration": 5,
    "start_time": "2023-05-26T20:38:57.723Z"
   },
   {
    "duration": 4,
    "start_time": "2023-05-26T20:38:58.110Z"
   },
   {
    "duration": 11,
    "start_time": "2023-05-26T20:39:00.806Z"
   },
   {
    "duration": 5,
    "start_time": "2023-05-26T20:39:01.282Z"
   },
   {
    "duration": 5,
    "start_time": "2023-05-26T20:39:01.687Z"
   },
   {
    "duration": 207,
    "start_time": "2023-05-26T20:39:02.202Z"
   },
   {
    "duration": 7,
    "start_time": "2023-05-26T20:39:14.830Z"
   },
   {
    "duration": 73,
    "start_time": "2023-05-26T20:39:15.295Z"
   },
   {
    "duration": 4,
    "start_time": "2023-05-26T20:39:19.642Z"
   },
   {
    "duration": 10,
    "start_time": "2023-05-26T20:39:32.989Z"
   },
   {
    "duration": 3,
    "start_time": "2023-05-26T20:39:33.707Z"
   },
   {
    "duration": 324,
    "start_time": "2023-05-26T20:39:57.688Z"
   },
   {
    "duration": 26,
    "start_time": "2023-05-26T20:40:18.747Z"
   },
   {
    "duration": 111197,
    "start_time": "2023-05-26T20:40:21.216Z"
   },
   {
    "duration": 9,
    "start_time": "2023-05-26T20:43:18.015Z"
   },
   {
    "duration": 160,
    "start_time": "2023-05-26T20:43:38.787Z"
   },
   {
    "duration": 14,
    "start_time": "2023-05-26T20:44:30.831Z"
   },
   {
    "duration": 11,
    "start_time": "2023-05-26T20:45:16.190Z"
   },
   {
    "duration": 160,
    "start_time": "2023-05-26T20:45:18.128Z"
   },
   {
    "duration": 15,
    "start_time": "2023-05-26T20:45:58.798Z"
   },
   {
    "duration": 63817,
    "start_time": "2023-05-26T20:46:54.637Z"
   },
   {
    "duration": 56,
    "start_time": "2023-05-26T20:48:35.036Z"
   },
   {
    "duration": 9,
    "start_time": "2023-05-26T20:48:35.699Z"
   },
   {
    "duration": 5,
    "start_time": "2023-05-26T20:48:36.117Z"
   },
   {
    "duration": 13,
    "start_time": "2023-05-26T20:48:36.491Z"
   },
   {
    "duration": 10,
    "start_time": "2023-05-26T20:48:36.892Z"
   },
   {
    "duration": 7,
    "start_time": "2023-05-26T20:48:38.106Z"
   },
   {
    "duration": 4,
    "start_time": "2023-05-26T20:48:38.443Z"
   },
   {
    "duration": 30,
    "start_time": "2023-05-26T20:48:38.749Z"
   },
   {
    "duration": 9,
    "start_time": "2023-05-26T20:48:39.235Z"
   },
   {
    "duration": 4,
    "start_time": "2023-05-26T20:48:43.111Z"
   },
   {
    "duration": 234,
    "start_time": "2023-05-26T20:48:44.003Z"
   },
   {
    "duration": 49,
    "start_time": "2023-05-26T20:49:53.916Z"
   },
   {
    "duration": 48,
    "start_time": "2023-05-26T20:49:54.529Z"
   },
   {
    "duration": 5,
    "start_time": "2023-05-26T20:49:55.207Z"
   },
   {
    "duration": 8,
    "start_time": "2023-05-26T20:50:19.965Z"
   },
   {
    "duration": 4,
    "start_time": "2023-05-26T20:51:18.903Z"
   },
   {
    "duration": 8,
    "start_time": "2023-05-26T20:51:26.029Z"
   },
   {
    "duration": 267,
    "start_time": "2023-05-26T20:52:27.902Z"
   },
   {
    "duration": 208,
    "start_time": "2023-05-26T20:53:26.199Z"
   },
   {
    "duration": 4,
    "start_time": "2023-05-26T20:53:40.705Z"
   },
   {
    "duration": 9,
    "start_time": "2023-05-26T20:53:44.034Z"
   },
   {
    "duration": 85101,
    "start_time": "2023-05-26T20:54:47.128Z"
   },
   {
    "duration": 59896,
    "start_time": "2023-05-26T20:57:13.301Z"
   },
   {
    "duration": 3,
    "start_time": "2023-05-26T20:58:13.205Z"
   },
   {
    "duration": 4,
    "start_time": "2023-05-26T20:58:22.102Z"
   },
   {
    "duration": 8,
    "start_time": "2023-05-26T20:58:25.002Z"
   },
   {
    "duration": 356,
    "start_time": "2023-05-26T20:59:23.830Z"
   },
   {
    "duration": 20,
    "start_time": "2023-05-26T21:00:20.795Z"
   },
   {
    "duration": 4,
    "start_time": "2023-05-26T21:00:33.826Z"
   },
   {
    "duration": 10,
    "start_time": "2023-05-26T21:00:37.294Z"
   },
   {
    "duration": 1428,
    "start_time": "2023-05-26T21:01:06.210Z"
   },
   {
    "duration": 17,
    "start_time": "2023-05-26T21:01:07.640Z"
   },
   {
    "duration": 32,
    "start_time": "2023-05-26T21:01:07.658Z"
   },
   {
    "duration": 3,
    "start_time": "2023-05-26T21:01:07.702Z"
   },
   {
    "duration": 15,
    "start_time": "2023-05-26T21:01:07.707Z"
   },
   {
    "duration": 4,
    "start_time": "2023-05-26T21:01:07.724Z"
   },
   {
    "duration": 12,
    "start_time": "2023-05-26T21:01:07.729Z"
   },
   {
    "duration": 6,
    "start_time": "2023-05-26T21:01:07.742Z"
   },
   {
    "duration": 7,
    "start_time": "2023-05-26T21:01:07.749Z"
   },
   {
    "duration": 40,
    "start_time": "2023-05-26T21:01:07.758Z"
   },
   {
    "duration": 6,
    "start_time": "2023-05-26T21:01:07.802Z"
   },
   {
    "duration": 9,
    "start_time": "2023-05-26T21:01:07.810Z"
   },
   {
    "duration": 9,
    "start_time": "2023-05-26T21:01:07.821Z"
   },
   {
    "duration": 49,
    "start_time": "2023-05-26T21:01:07.834Z"
   },
   {
    "duration": 264,
    "start_time": "2023-05-26T21:01:07.890Z"
   },
   {
    "duration": 85044,
    "start_time": "2023-05-26T21:01:08.156Z"
   },
   {
    "duration": 489,
    "start_time": "2023-05-26T21:02:33.204Z"
   },
   {
    "duration": 298,
    "start_time": "2023-05-26T21:02:33.708Z"
   },
   {
    "duration": 78198,
    "start_time": "2023-05-26T21:02:34.012Z"
   },
   {
    "duration": 473,
    "start_time": "2023-05-26T21:03:52.212Z"
   },
   {
    "duration": 87,
    "start_time": "2023-05-26T21:03:52.687Z"
   },
   {
    "duration": 16,
    "start_time": "2023-05-26T21:03:52.776Z"
   },
   {
    "duration": 6,
    "start_time": "2023-05-26T21:03:52.795Z"
   },
   {
    "duration": 26,
    "start_time": "2023-05-26T21:03:52.803Z"
   },
   {
    "duration": 5,
    "start_time": "2023-05-26T21:03:52.830Z"
   },
   {
    "duration": 4,
    "start_time": "2023-05-26T21:03:52.837Z"
   },
   {
    "duration": 39,
    "start_time": "2023-05-26T21:03:52.842Z"
   },
   {
    "duration": 9,
    "start_time": "2023-05-26T21:03:52.889Z"
   },
   {
    "duration": 6,
    "start_time": "2023-05-26T21:03:52.904Z"
   },
   {
    "duration": 197,
    "start_time": "2023-05-26T21:03:52.979Z"
   },
   {
    "duration": 3,
    "start_time": "2023-05-26T21:03:53.186Z"
   },
   {
    "duration": 13,
    "start_time": "2023-05-26T21:03:53.194Z"
   },
   {
    "duration": 86,
    "start_time": "2023-05-26T21:03:53.209Z"
   },
   {
    "duration": 4,
    "start_time": "2023-05-26T21:03:53.299Z"
   },
   {
    "duration": 10,
    "start_time": "2023-05-26T21:03:53.305Z"
   },
   {
    "duration": 4,
    "start_time": "2023-05-26T21:03:53.317Z"
   },
   {
    "duration": 11,
    "start_time": "2023-05-26T21:03:53.323Z"
   },
   {
    "duration": 310,
    "start_time": "2023-05-26T21:03:53.335Z"
   },
   {
    "duration": 32,
    "start_time": "2023-05-26T21:03:53.647Z"
   },
   {
    "duration": 112875,
    "start_time": "2023-05-26T21:03:53.684Z"
   },
   {
    "duration": 9,
    "start_time": "2023-05-26T21:05:46.563Z"
   },
   {
    "duration": 212,
    "start_time": "2023-05-26T21:05:46.574Z"
   },
   {
    "duration": 17,
    "start_time": "2023-05-26T21:05:46.792Z"
   },
   {
    "duration": 59478,
    "start_time": "2023-05-26T21:05:46.811Z"
   },
   {
    "duration": 88,
    "start_time": "2023-05-26T21:06:46.298Z"
   },
   {
    "duration": 22,
    "start_time": "2023-05-26T21:06:46.387Z"
   },
   {
    "duration": 13,
    "start_time": "2023-05-26T21:06:46.484Z"
   },
   {
    "duration": 74,
    "start_time": "2023-05-26T21:06:46.504Z"
   },
   {
    "duration": 20,
    "start_time": "2023-05-26T21:06:46.581Z"
   },
   {
    "duration": 5,
    "start_time": "2023-05-26T21:06:46.603Z"
   },
   {
    "duration": 4,
    "start_time": "2023-05-26T21:06:46.610Z"
   },
   {
    "duration": 29,
    "start_time": "2023-05-26T21:06:46.615Z"
   },
   {
    "duration": 5,
    "start_time": "2023-05-26T21:06:46.646Z"
   },
   {
    "duration": 11,
    "start_time": "2023-05-26T21:06:46.652Z"
   },
   {
    "duration": 173,
    "start_time": "2023-05-26T21:06:46.678Z"
   },
   {
    "duration": 55,
    "start_time": "2023-05-26T21:06:46.852Z"
   },
   {
    "duration": 46,
    "start_time": "2023-05-26T21:06:46.909Z"
   },
   {
    "duration": 4,
    "start_time": "2023-05-26T21:06:46.957Z"
   },
   {
    "duration": 22,
    "start_time": "2023-05-26T21:06:46.975Z"
   },
   {
    "duration": 1867,
    "start_time": "2023-05-27T17:01:48.293Z"
   },
   {
    "duration": 15,
    "start_time": "2023-05-27T17:01:50.161Z"
   },
   {
    "duration": 11,
    "start_time": "2023-05-27T17:01:50.177Z"
   },
   {
    "duration": 3,
    "start_time": "2023-05-27T17:01:50.189Z"
   },
   {
    "duration": 10,
    "start_time": "2023-05-27T17:01:50.194Z"
   },
   {
    "duration": 4,
    "start_time": "2023-05-27T17:01:50.205Z"
   },
   {
    "duration": 5,
    "start_time": "2023-05-27T17:01:50.210Z"
   },
   {
    "duration": 4,
    "start_time": "2023-05-27T17:01:50.216Z"
   },
   {
    "duration": 5,
    "start_time": "2023-05-27T17:01:50.221Z"
   },
   {
    "duration": 55,
    "start_time": "2023-05-27T17:01:50.227Z"
   },
   {
    "duration": 5,
    "start_time": "2023-05-27T17:01:50.283Z"
   },
   {
    "duration": 7,
    "start_time": "2023-05-27T17:01:50.289Z"
   },
   {
    "duration": 8,
    "start_time": "2023-05-27T17:01:50.298Z"
   },
   {
    "duration": 24,
    "start_time": "2023-05-27T17:01:50.310Z"
   },
   {
    "duration": 226,
    "start_time": "2023-05-27T17:01:50.335Z"
   },
   {
    "duration": 72319,
    "start_time": "2023-05-27T17:01:50.563Z"
   },
   {
    "duration": 195,
    "start_time": "2023-05-27T17:03:02.884Z"
   },
   {
    "duration": 281,
    "start_time": "2023-05-27T17:03:03.080Z"
   },
   {
    "duration": 66060,
    "start_time": "2023-05-27T17:03:03.362Z"
   },
   {
    "duration": 155,
    "start_time": "2023-05-27T17:04:09.424Z"
   },
   {
    "duration": 97,
    "start_time": "2023-05-27T17:04:09.581Z"
   },
   {
    "duration": 7,
    "start_time": "2023-05-27T17:04:09.680Z"
   },
   {
    "duration": 4,
    "start_time": "2023-05-27T17:04:09.688Z"
   },
   {
    "duration": 25,
    "start_time": "2023-05-27T17:04:09.694Z"
   },
   {
    "duration": 6,
    "start_time": "2023-05-27T17:04:09.721Z"
   },
   {
    "duration": 6,
    "start_time": "2023-05-27T17:04:09.728Z"
   },
   {
    "duration": 43,
    "start_time": "2023-05-27T17:04:09.736Z"
   },
   {
    "duration": 5,
    "start_time": "2023-05-27T17:04:09.781Z"
   },
   {
    "duration": 99,
    "start_time": "2023-05-27T17:04:09.788Z"
   },
   {
    "duration": 193,
    "start_time": "2023-05-27T17:04:09.888Z"
   },
   {
    "duration": 2,
    "start_time": "2023-05-27T17:04:10.083Z"
   },
   {
    "duration": 8,
    "start_time": "2023-05-27T17:04:10.087Z"
   },
   {
    "duration": 105,
    "start_time": "2023-05-27T17:04:10.096Z"
   },
   {
    "duration": 4,
    "start_time": "2023-05-27T17:04:10.204Z"
   },
   {
    "duration": 14,
    "start_time": "2023-05-27T17:04:10.210Z"
   },
   {
    "duration": 5,
    "start_time": "2023-05-27T17:04:10.225Z"
   },
   {
    "duration": 5,
    "start_time": "2023-05-27T17:04:10.232Z"
   },
   {
    "duration": 323,
    "start_time": "2023-05-27T17:04:10.239Z"
   },
   {
    "duration": 30,
    "start_time": "2023-05-27T17:04:10.564Z"
   },
   {
    "duration": 95415,
    "start_time": "2023-05-27T17:04:10.595Z"
   },
   {
    "duration": 8,
    "start_time": "2023-05-27T17:05:46.014Z"
   },
   {
    "duration": 171,
    "start_time": "2023-05-27T17:05:46.024Z"
   },
   {
    "duration": 14,
    "start_time": "2023-05-27T17:05:46.197Z"
   },
   {
    "duration": 50531,
    "start_time": "2023-05-27T17:05:46.277Z"
   },
   {
    "duration": 21,
    "start_time": "2023-05-27T17:06:36.810Z"
   },
   {
    "duration": 99,
    "start_time": "2023-05-27T17:06:36.882Z"
   },
   {
    "duration": 5,
    "start_time": "2023-05-27T17:06:36.982Z"
   },
   {
    "duration": 92,
    "start_time": "2023-05-27T17:06:36.989Z"
   },
   {
    "duration": 7,
    "start_time": "2023-05-27T17:06:37.082Z"
   },
   {
    "duration": 89,
    "start_time": "2023-05-27T17:06:37.091Z"
   },
   {
    "duration": 8,
    "start_time": "2023-05-27T17:06:37.182Z"
   },
   {
    "duration": 23,
    "start_time": "2023-05-27T17:06:37.191Z"
   },
   {
    "duration": 5,
    "start_time": "2023-05-27T17:06:37.215Z"
   },
   {
    "duration": 4,
    "start_time": "2023-05-27T17:06:37.221Z"
   },
   {
    "duration": 214,
    "start_time": "2023-05-27T17:06:37.226Z"
   },
   {
    "duration": 55,
    "start_time": "2023-05-27T17:06:37.442Z"
   },
   {
    "duration": 49,
    "start_time": "2023-05-27T17:06:37.499Z"
   },
   {
    "duration": 5,
    "start_time": "2023-05-27T17:06:37.549Z"
   },
   {
    "duration": 24,
    "start_time": "2023-05-27T17:06:37.555Z"
   },
   {
    "duration": 13,
    "start_time": "2023-05-27T17:19:43.489Z"
   },
   {
    "duration": 4,
    "start_time": "2023-05-27T17:19:55.781Z"
   },
   {
    "duration": 1649,
    "start_time": "2023-05-27T19:11:06.011Z"
   },
   {
    "duration": 16,
    "start_time": "2023-05-27T19:11:07.662Z"
   },
   {
    "duration": 12,
    "start_time": "2023-05-27T19:11:07.680Z"
   },
   {
    "duration": 3,
    "start_time": "2023-05-27T19:11:07.695Z"
   },
   {
    "duration": 21,
    "start_time": "2023-05-27T19:11:07.700Z"
   },
   {
    "duration": 4,
    "start_time": "2023-05-27T19:11:07.722Z"
   },
   {
    "duration": 14,
    "start_time": "2023-05-27T19:11:07.727Z"
   },
   {
    "duration": 17,
    "start_time": "2023-05-27T19:11:07.742Z"
   },
   {
    "duration": 10,
    "start_time": "2023-05-27T19:11:07.760Z"
   },
   {
    "duration": 24,
    "start_time": "2023-05-27T19:11:07.772Z"
   },
   {
    "duration": 5,
    "start_time": "2023-05-27T19:11:07.798Z"
   },
   {
    "duration": 11,
    "start_time": "2023-05-27T19:11:07.804Z"
   },
   {
    "duration": 9,
    "start_time": "2023-05-27T19:11:07.817Z"
   },
   {
    "duration": 52,
    "start_time": "2023-05-27T19:11:07.827Z"
   },
   {
    "duration": 225,
    "start_time": "2023-05-27T19:11:07.881Z"
   },
   {
    "duration": 76352,
    "start_time": "2023-05-27T19:11:08.108Z"
   },
   {
    "duration": 200,
    "start_time": "2023-05-27T19:12:24.462Z"
   },
   {
    "duration": 382,
    "start_time": "2023-05-27T19:12:24.665Z"
   },
   {
    "duration": 69761,
    "start_time": "2023-05-27T19:12:25.048Z"
   },
   {
    "duration": 146,
    "start_time": "2023-05-27T19:13:34.811Z"
   },
   {
    "duration": 8,
    "start_time": "2023-05-27T19:13:34.959Z"
   },
   {
    "duration": 5,
    "start_time": "2023-05-27T19:13:35.057Z"
   },
   {
    "duration": 7,
    "start_time": "2023-05-27T19:13:35.063Z"
   },
   {
    "duration": 28,
    "start_time": "2023-05-27T19:13:35.072Z"
   },
   {
    "duration": 4,
    "start_time": "2023-05-27T19:13:35.101Z"
   },
   {
    "duration": 4,
    "start_time": "2023-05-27T19:13:35.107Z"
   },
   {
    "duration": 54,
    "start_time": "2023-05-27T19:13:35.112Z"
   },
   {
    "duration": 5,
    "start_time": "2023-05-27T19:13:35.256Z"
   },
   {
    "duration": 22,
    "start_time": "2023-05-27T19:13:35.263Z"
   },
   {
    "duration": 194,
    "start_time": "2023-05-27T19:13:35.286Z"
   },
   {
    "duration": 3,
    "start_time": "2023-05-27T19:13:35.481Z"
   },
   {
    "duration": 18,
    "start_time": "2023-05-27T19:13:35.485Z"
   },
   {
    "duration": 88,
    "start_time": "2023-05-27T19:13:35.504Z"
   },
   {
    "duration": 4,
    "start_time": "2023-05-27T19:13:35.594Z"
   },
   {
    "duration": 19,
    "start_time": "2023-05-27T19:13:35.600Z"
   },
   {
    "duration": 5,
    "start_time": "2023-05-27T19:13:35.621Z"
   },
   {
    "duration": 11,
    "start_time": "2023-05-27T19:13:35.627Z"
   },
   {
    "duration": 285,
    "start_time": "2023-05-27T19:13:35.640Z"
   },
   {
    "duration": 290,
    "start_time": "2023-05-27T19:13:35.927Z"
   },
   {
    "duration": 41,
    "start_time": "2023-05-27T19:13:36.219Z"
   },
   {
    "duration": 102303,
    "start_time": "2023-05-27T19:13:36.264Z"
   },
   {
    "duration": 10,
    "start_time": "2023-05-27T19:15:18.568Z"
   },
   {
    "duration": 181,
    "start_time": "2023-05-27T19:15:18.580Z"
   },
   {
    "duration": 19,
    "start_time": "2023-05-27T19:15:18.762Z"
   },
   {
    "duration": 53577,
    "start_time": "2023-05-27T19:15:18.858Z"
   },
   {
    "duration": 31,
    "start_time": "2023-05-27T19:16:12.436Z"
   },
   {
    "duration": 93,
    "start_time": "2023-05-27T19:16:12.469Z"
   },
   {
    "duration": 95,
    "start_time": "2023-05-27T19:16:12.566Z"
   },
   {
    "duration": 93,
    "start_time": "2023-05-27T19:16:12.666Z"
   },
   {
    "duration": 20,
    "start_time": "2023-05-27T19:16:12.760Z"
   },
   {
    "duration": 5,
    "start_time": "2023-05-27T19:16:12.782Z"
   },
   {
    "duration": 5,
    "start_time": "2023-05-27T19:16:12.788Z"
   },
   {
    "duration": 28,
    "start_time": "2023-05-27T19:16:12.794Z"
   },
   {
    "duration": 5,
    "start_time": "2023-05-27T19:16:12.824Z"
   },
   {
    "duration": 27,
    "start_time": "2023-05-27T19:16:12.830Z"
   },
   {
    "duration": 180,
    "start_time": "2023-05-27T19:16:12.859Z"
   },
   {
    "duration": 56,
    "start_time": "2023-05-27T19:16:13.042Z"
   },
   {
    "duration": 58,
    "start_time": "2023-05-27T19:16:13.100Z"
   },
   {
    "duration": 4,
    "start_time": "2023-05-27T19:16:13.160Z"
   },
   {
    "duration": 17,
    "start_time": "2023-05-27T19:16:13.166Z"
   },
   {
    "duration": 96,
    "start_time": "2023-05-27T19:25:13.753Z"
   },
   {
    "duration": 309,
    "start_time": "2023-05-27T19:25:18.609Z"
   },
   {
    "duration": 146,
    "start_time": "2023-05-27T19:27:15.711Z"
   },
   {
    "duration": 101823,
    "start_time": "2023-05-27T19:27:34.871Z"
   },
   {
    "duration": 55,
    "start_time": "2023-05-27T19:29:30.102Z"
   },
   {
    "duration": 1407,
    "start_time": "2023-05-27T19:34:41.341Z"
   },
   {
    "duration": 22,
    "start_time": "2023-05-27T19:34:42.751Z"
   },
   {
    "duration": 14,
    "start_time": "2023-05-27T19:34:42.775Z"
   },
   {
    "duration": 3,
    "start_time": "2023-05-27T19:34:42.791Z"
   },
   {
    "duration": 19,
    "start_time": "2023-05-27T19:34:42.796Z"
   },
   {
    "duration": 18,
    "start_time": "2023-05-27T19:34:42.817Z"
   },
   {
    "duration": 8,
    "start_time": "2023-05-27T19:34:42.837Z"
   },
   {
    "duration": 21,
    "start_time": "2023-05-27T19:34:42.846Z"
   },
   {
    "duration": 7,
    "start_time": "2023-05-27T19:34:42.869Z"
   },
   {
    "duration": 27,
    "start_time": "2023-05-27T19:34:42.880Z"
   },
   {
    "duration": 6,
    "start_time": "2023-05-27T19:34:42.909Z"
   },
   {
    "duration": 10,
    "start_time": "2023-05-27T19:34:42.917Z"
   },
   {
    "duration": 17,
    "start_time": "2023-05-27T19:34:42.960Z"
   },
   {
    "duration": 29,
    "start_time": "2023-05-27T19:34:42.978Z"
   },
   {
    "duration": 233,
    "start_time": "2023-05-27T19:34:43.008Z"
   },
   {
    "duration": 79081,
    "start_time": "2023-05-27T19:34:43.243Z"
   },
   {
    "duration": 336,
    "start_time": "2023-05-27T19:36:02.326Z"
   },
   {
    "duration": 339,
    "start_time": "2023-05-27T19:36:02.664Z"
   },
   {
    "duration": 74694,
    "start_time": "2023-05-27T19:36:03.005Z"
   },
   {
    "duration": 161,
    "start_time": "2023-05-27T19:37:17.700Z"
   },
   {
    "duration": 11,
    "start_time": "2023-05-27T19:37:17.871Z"
   },
   {
    "duration": 6,
    "start_time": "2023-05-27T19:37:17.958Z"
   },
   {
    "duration": 5,
    "start_time": "2023-05-27T19:37:17.966Z"
   },
   {
    "duration": 32,
    "start_time": "2023-05-27T19:37:17.973Z"
   },
   {
    "duration": 5,
    "start_time": "2023-05-27T19:37:18.008Z"
   },
   {
    "duration": 7,
    "start_time": "2023-05-27T19:37:18.014Z"
   },
   {
    "duration": 45,
    "start_time": "2023-05-27T19:37:18.022Z"
   },
   {
    "duration": 6,
    "start_time": "2023-05-27T19:37:18.156Z"
   },
   {
    "duration": 11,
    "start_time": "2023-05-27T19:37:18.164Z"
   },
   {
    "duration": 303,
    "start_time": "2023-05-27T19:37:18.177Z"
   },
   {
    "duration": 3,
    "start_time": "2023-05-27T19:37:18.483Z"
   },
   {
    "duration": 18,
    "start_time": "2023-05-27T19:37:18.487Z"
   },
   {
    "duration": 96,
    "start_time": "2023-05-27T19:37:18.507Z"
   },
   {
    "duration": 4,
    "start_time": "2023-05-27T19:37:18.605Z"
   },
   {
    "duration": 31,
    "start_time": "2023-05-27T19:37:18.611Z"
   },
   {
    "duration": 13,
    "start_time": "2023-05-27T19:37:18.644Z"
   },
   {
    "duration": 20,
    "start_time": "2023-05-27T19:37:18.659Z"
   },
   {
    "duration": 339,
    "start_time": "2023-05-27T19:37:18.681Z"
   },
   {
    "duration": 238,
    "start_time": "2023-05-27T19:37:19.022Z"
   },
   {
    "duration": 100719,
    "start_time": "2023-05-27T19:37:19.264Z"
   },
   {
    "duration": 10,
    "start_time": "2023-05-27T19:38:59.984Z"
   },
   {
    "duration": 165,
    "start_time": "2023-05-27T19:38:59.996Z"
   },
   {
    "duration": 202,
    "start_time": "2023-05-27T19:39:00.163Z"
   },
   {
    "duration": 53956,
    "start_time": "2023-05-27T19:39:00.367Z"
   },
   {
    "duration": 37,
    "start_time": "2023-05-27T19:39:54.325Z"
   },
   {
    "duration": 6,
    "start_time": "2023-05-27T19:39:54.364Z"
   },
   {
    "duration": 18,
    "start_time": "2023-05-27T19:39:54.457Z"
   },
   {
    "duration": 12,
    "start_time": "2023-05-27T19:39:54.477Z"
   },
   {
    "duration": 9,
    "start_time": "2023-05-27T19:39:54.491Z"
   },
   {
    "duration": 16,
    "start_time": "2023-05-27T19:39:54.502Z"
   },
   {
    "duration": 29,
    "start_time": "2023-05-27T19:39:54.557Z"
   },
   {
    "duration": 5,
    "start_time": "2023-05-27T19:39:54.588Z"
   },
   {
    "duration": 11,
    "start_time": "2023-05-27T19:39:54.595Z"
   },
   {
    "duration": 199,
    "start_time": "2023-05-27T19:39:54.608Z"
   },
   {
    "duration": 4,
    "start_time": "2023-05-27T19:39:54.809Z"
   },
   {
    "duration": 22,
    "start_time": "2023-05-27T19:39:54.815Z"
   },
   {
    "duration": 2006,
    "start_time": "2023-05-28T14:57:21.412Z"
   },
   {
    "duration": 17,
    "start_time": "2023-05-28T14:57:23.420Z"
   },
   {
    "duration": 23,
    "start_time": "2023-05-28T14:57:23.438Z"
   },
   {
    "duration": 3,
    "start_time": "2023-05-28T14:57:23.463Z"
   },
   {
    "duration": 16,
    "start_time": "2023-05-28T14:57:23.517Z"
   },
   {
    "duration": 10,
    "start_time": "2023-05-28T14:57:23.535Z"
   },
   {
    "duration": 6,
    "start_time": "2023-05-28T14:57:23.547Z"
   },
   {
    "duration": 9,
    "start_time": "2023-05-28T14:57:23.554Z"
   },
   {
    "duration": 56,
    "start_time": "2023-05-28T14:57:23.564Z"
   },
   {
    "duration": 22,
    "start_time": "2023-05-28T14:57:23.622Z"
   },
   {
    "duration": 10,
    "start_time": "2023-05-28T14:57:23.645Z"
   },
   {
    "duration": 61,
    "start_time": "2023-05-28T14:57:23.657Z"
   },
   {
    "duration": 8,
    "start_time": "2023-05-28T14:57:23.720Z"
   },
   {
    "duration": 84,
    "start_time": "2023-05-28T14:57:23.733Z"
   },
   {
    "duration": 466,
    "start_time": "2023-05-28T14:57:23.819Z"
   },
   {
    "duration": 83618,
    "start_time": "2023-05-28T14:57:24.287Z"
   },
   {
    "duration": 213,
    "start_time": "2023-05-28T14:58:47.906Z"
   },
   {
    "duration": 318,
    "start_time": "2023-05-28T14:58:48.120Z"
   },
   {
    "duration": 77801,
    "start_time": "2023-05-28T14:58:48.440Z"
   },
   {
    "duration": 178,
    "start_time": "2023-05-28T15:00:06.243Z"
   },
   {
    "duration": 99,
    "start_time": "2023-05-28T15:00:06.423Z"
   },
   {
    "duration": 105,
    "start_time": "2023-05-28T15:00:06.524Z"
   },
   {
    "duration": 18,
    "start_time": "2023-05-28T15:00:06.630Z"
   },
   {
    "duration": 25,
    "start_time": "2023-05-28T15:00:06.650Z"
   },
   {
    "duration": 5,
    "start_time": "2023-05-28T15:00:06.677Z"
   },
   {
    "duration": 9,
    "start_time": "2023-05-28T15:00:06.683Z"
   },
   {
    "duration": 23,
    "start_time": "2023-05-28T15:00:06.694Z"
   },
   {
    "duration": 102,
    "start_time": "2023-05-28T15:00:06.719Z"
   },
   {
    "duration": 97,
    "start_time": "2023-05-28T15:00:06.822Z"
   },
   {
    "duration": 200,
    "start_time": "2023-05-28T15:00:06.921Z"
   },
   {
    "duration": 2,
    "start_time": "2023-05-28T15:00:07.123Z"
   },
   {
    "duration": 9,
    "start_time": "2023-05-28T15:00:07.127Z"
   },
   {
    "duration": 90,
    "start_time": "2023-05-28T15:00:07.138Z"
   },
   {
    "duration": 5,
    "start_time": "2023-05-28T15:00:07.229Z"
   },
   {
    "duration": 20,
    "start_time": "2023-05-28T15:00:07.236Z"
   },
   {
    "duration": 12,
    "start_time": "2023-05-28T15:00:07.258Z"
   },
   {
    "duration": 8,
    "start_time": "2023-05-28T15:00:07.272Z"
   },
   {
    "duration": 312,
    "start_time": "2023-05-28T15:00:07.281Z"
   },
   {
    "duration": 227,
    "start_time": "2023-05-28T15:00:07.594Z"
   },
   {
    "duration": 113453,
    "start_time": "2023-05-28T15:00:07.822Z"
   },
   {
    "duration": 8,
    "start_time": "2023-05-28T15:02:01.279Z"
   },
   {
    "duration": 182,
    "start_time": "2023-05-28T15:02:01.288Z"
   },
   {
    "duration": 53,
    "start_time": "2023-05-28T15:02:01.472Z"
   },
   {
    "duration": 57164,
    "start_time": "2023-05-28T15:02:01.526Z"
   },
   {
    "duration": 26,
    "start_time": "2023-05-28T15:02:58.692Z"
   },
   {
    "duration": 9,
    "start_time": "2023-05-28T15:02:58.720Z"
   },
   {
    "duration": 94,
    "start_time": "2023-05-28T15:02:58.731Z"
   },
   {
    "duration": 8,
    "start_time": "2023-05-28T15:02:58.827Z"
   },
   {
    "duration": 18,
    "start_time": "2023-05-28T15:02:58.837Z"
   },
   {
    "duration": 12,
    "start_time": "2023-05-28T15:02:58.856Z"
   },
   {
    "duration": 61,
    "start_time": "2023-05-28T15:02:58.869Z"
   },
   {
    "duration": 5,
    "start_time": "2023-05-28T15:02:58.932Z"
   },
   {
    "duration": 16,
    "start_time": "2023-05-28T15:02:58.938Z"
   },
   {
    "duration": 177,
    "start_time": "2023-05-28T15:02:58.956Z"
   },
   {
    "duration": 5,
    "start_time": "2023-05-28T15:02:59.134Z"
   },
   {
    "duration": 9,
    "start_time": "2023-05-28T15:02:59.140Z"
   },
   {
    "duration": 75,
    "start_time": "2023-05-28T15:06:25.197Z"
   },
   {
    "duration": 69,
    "start_time": "2023-05-28T19:19:02.941Z"
   },
   {
    "duration": 2170,
    "start_time": "2023-05-28T19:19:09.745Z"
   },
   {
    "duration": 18,
    "start_time": "2023-05-28T19:19:11.918Z"
   },
   {
    "duration": 14,
    "start_time": "2023-05-28T19:19:11.938Z"
   },
   {
    "duration": 13,
    "start_time": "2023-05-28T19:19:11.954Z"
   },
   {
    "duration": 18,
    "start_time": "2023-05-28T19:19:11.973Z"
   },
   {
    "duration": 20,
    "start_time": "2023-05-28T19:19:11.993Z"
   },
   {
    "duration": 28,
    "start_time": "2023-05-28T19:19:12.015Z"
   },
   {
    "duration": 5,
    "start_time": "2023-05-28T19:19:12.045Z"
   },
   {
    "duration": 29,
    "start_time": "2023-05-28T19:19:12.052Z"
   },
   {
    "duration": 31,
    "start_time": "2023-05-28T19:19:12.088Z"
   },
   {
    "duration": 7,
    "start_time": "2023-05-28T19:19:12.121Z"
   },
   {
    "duration": 20,
    "start_time": "2023-05-28T19:19:12.129Z"
   },
   {
    "duration": 25,
    "start_time": "2023-05-28T19:19:12.151Z"
   },
   {
    "duration": 33,
    "start_time": "2023-05-28T19:19:12.178Z"
   },
   {
    "duration": 234,
    "start_time": "2023-05-28T19:19:12.213Z"
   },
   {
    "duration": 85301,
    "start_time": "2023-05-28T19:19:12.449Z"
   },
   {
    "duration": 627,
    "start_time": "2023-05-28T19:20:37.757Z"
   },
   {
    "duration": 380,
    "start_time": "2023-05-28T19:20:38.386Z"
   },
   {
    "duration": 78155,
    "start_time": "2023-05-28T19:20:38.769Z"
   },
   {
    "duration": 739,
    "start_time": "2023-05-28T19:21:56.925Z"
   },
   {
    "duration": 18,
    "start_time": "2023-05-28T19:21:57.668Z"
   },
   {
    "duration": 5,
    "start_time": "2023-05-28T19:21:57.688Z"
   },
   {
    "duration": 13,
    "start_time": "2023-05-28T19:21:57.694Z"
   },
   {
    "duration": 48,
    "start_time": "2023-05-28T19:21:57.709Z"
   },
   {
    "duration": 13,
    "start_time": "2023-05-28T19:21:57.769Z"
   },
   {
    "duration": 4,
    "start_time": "2023-05-28T19:21:57.785Z"
   },
   {
    "duration": 15,
    "start_time": "2023-05-28T19:21:57.791Z"
   },
   {
    "duration": 8,
    "start_time": "2023-05-28T19:21:57.858Z"
   },
   {
    "duration": 9,
    "start_time": "2023-05-28T19:21:57.875Z"
   },
   {
    "duration": 240,
    "start_time": "2023-05-28T19:21:57.960Z"
   },
   {
    "duration": 2,
    "start_time": "2023-05-28T19:21:58.202Z"
   },
   {
    "duration": 11,
    "start_time": "2023-05-28T19:21:58.205Z"
   },
   {
    "duration": 103,
    "start_time": "2023-05-28T19:21:58.217Z"
   },
   {
    "duration": 5,
    "start_time": "2023-05-28T19:21:58.322Z"
   },
   {
    "duration": 28,
    "start_time": "2023-05-28T19:21:58.328Z"
   },
   {
    "duration": 7,
    "start_time": "2023-05-28T19:21:58.358Z"
   },
   {
    "duration": 6,
    "start_time": "2023-05-28T19:21:58.366Z"
   },
   {
    "duration": 344,
    "start_time": "2023-05-28T19:21:58.374Z"
   },
   {
    "duration": 549,
    "start_time": "2023-05-28T19:21:58.720Z"
   },
   {
    "duration": 109841,
    "start_time": "2023-05-28T19:21:59.279Z"
   },
   {
    "duration": 13,
    "start_time": "2023-05-28T19:23:49.122Z"
   },
   {
    "duration": 195,
    "start_time": "2023-05-28T19:23:49.137Z"
   },
   {
    "duration": 337,
    "start_time": "2023-05-28T19:23:49.334Z"
   },
   {
    "duration": 58719,
    "start_time": "2023-05-28T19:23:49.672Z"
   },
   {
    "duration": 71,
    "start_time": "2023-05-28T19:24:48.393Z"
   },
   {
    "duration": 78,
    "start_time": "2023-05-28T19:24:48.480Z"
   },
   {
    "duration": 14,
    "start_time": "2023-05-28T19:24:48.563Z"
   },
   {
    "duration": 9,
    "start_time": "2023-05-28T19:24:48.580Z"
   },
   {
    "duration": 8,
    "start_time": "2023-05-28T19:24:48.591Z"
   },
   {
    "duration": 6,
    "start_time": "2023-05-28T19:24:48.601Z"
   },
   {
    "duration": 28,
    "start_time": "2023-05-28T19:24:48.609Z"
   },
   {
    "duration": 26,
    "start_time": "2023-05-28T19:24:48.639Z"
   },
   {
    "duration": 8,
    "start_time": "2023-05-28T19:24:48.676Z"
   },
   {
    "duration": 195,
    "start_time": "2023-05-28T19:24:48.686Z"
   },
   {
    "duration": 113972,
    "start_time": "2023-05-28T19:24:48.893Z"
   },
   {
    "duration": 3,
    "start_time": "2023-05-28T19:26:42.893Z"
   },
   {
    "duration": 11,
    "start_time": "2023-05-28T19:26:42.898Z"
   },
   {
    "duration": 1531,
    "start_time": "2023-05-28T19:26:48.181Z"
   },
   {
    "duration": 16,
    "start_time": "2023-05-28T19:26:49.714Z"
   },
   {
    "duration": 12,
    "start_time": "2023-05-28T19:26:49.732Z"
   },
   {
    "duration": 3,
    "start_time": "2023-05-28T19:26:49.746Z"
   },
   {
    "duration": 20,
    "start_time": "2023-05-28T19:26:49.751Z"
   },
   {
    "duration": 11,
    "start_time": "2023-05-28T19:26:49.772Z"
   },
   {
    "duration": 6,
    "start_time": "2023-05-28T19:26:49.785Z"
   },
   {
    "duration": 8,
    "start_time": "2023-05-28T19:26:49.793Z"
   },
   {
    "duration": 6,
    "start_time": "2023-05-28T19:26:49.802Z"
   },
   {
    "duration": 23,
    "start_time": "2023-05-28T19:26:49.811Z"
   },
   {
    "duration": 31,
    "start_time": "2023-05-28T19:26:49.836Z"
   },
   {
    "duration": 10,
    "start_time": "2023-05-28T19:26:49.869Z"
   },
   {
    "duration": 10,
    "start_time": "2023-05-28T19:26:49.881Z"
   },
   {
    "duration": 39,
    "start_time": "2023-05-28T19:26:49.892Z"
   },
   {
    "duration": 256,
    "start_time": "2023-05-28T19:26:49.933Z"
   },
   {
    "duration": 79101,
    "start_time": "2023-05-28T19:26:50.191Z"
   },
   {
    "duration": 279,
    "start_time": "2023-05-28T19:28:09.294Z"
   },
   {
    "duration": 283,
    "start_time": "2023-05-28T19:28:09.665Z"
   },
   {
    "duration": 72176,
    "start_time": "2023-05-28T19:28:09.949Z"
   },
   {
    "duration": 652,
    "start_time": "2023-05-28T19:29:22.127Z"
   },
   {
    "duration": 86,
    "start_time": "2023-05-28T19:29:22.781Z"
   },
   {
    "duration": 12,
    "start_time": "2023-05-28T19:29:22.870Z"
   },
   {
    "duration": 7,
    "start_time": "2023-05-28T19:29:22.884Z"
   },
   {
    "duration": 103,
    "start_time": "2023-05-28T19:29:22.892Z"
   },
   {
    "duration": 5,
    "start_time": "2023-05-28T19:29:22.997Z"
   },
   {
    "duration": 15,
    "start_time": "2023-05-28T19:29:23.004Z"
   },
   {
    "duration": 14,
    "start_time": "2023-05-28T19:29:23.020Z"
   },
   {
    "duration": 43,
    "start_time": "2023-05-28T19:29:23.037Z"
   },
   {
    "duration": 86,
    "start_time": "2023-05-28T19:29:23.087Z"
   },
   {
    "duration": 213,
    "start_time": "2023-05-28T19:29:23.175Z"
   },
   {
    "duration": 2,
    "start_time": "2023-05-28T19:29:23.390Z"
   },
   {
    "duration": 16,
    "start_time": "2023-05-28T19:29:23.394Z"
   },
   {
    "duration": 94,
    "start_time": "2023-05-28T19:29:23.411Z"
   },
   {
    "duration": 4,
    "start_time": "2023-05-28T19:29:23.507Z"
   },
   {
    "duration": 24,
    "start_time": "2023-05-28T19:29:23.512Z"
   },
   {
    "duration": 9,
    "start_time": "2023-05-28T19:29:23.537Z"
   },
   {
    "duration": 18,
    "start_time": "2023-05-28T19:29:23.547Z"
   },
   {
    "duration": 278,
    "start_time": "2023-05-28T19:29:23.567Z"
   },
   {
    "duration": 517,
    "start_time": "2023-05-28T19:29:23.847Z"
   },
   {
    "duration": 105495,
    "start_time": "2023-05-28T19:29:24.367Z"
   },
   {
    "duration": 12,
    "start_time": "2023-05-28T19:31:09.866Z"
   },
   {
    "duration": 167,
    "start_time": "2023-05-28T19:31:09.880Z"
   },
   {
    "duration": 514,
    "start_time": "2023-05-28T19:31:10.048Z"
   },
   {
    "duration": 56663,
    "start_time": "2023-05-28T19:31:10.564Z"
   },
   {
    "duration": 33,
    "start_time": "2023-05-28T19:32:07.229Z"
   },
   {
    "duration": 5,
    "start_time": "2023-05-28T19:32:07.264Z"
   },
   {
    "duration": 4,
    "start_time": "2023-05-28T19:32:07.271Z"
   },
   {
    "duration": 89,
    "start_time": "2023-05-28T19:32:07.277Z"
   },
   {
    "duration": 17,
    "start_time": "2023-05-28T19:32:07.368Z"
   },
   {
    "duration": 4,
    "start_time": "2023-05-28T19:32:07.388Z"
   },
   {
    "duration": 30,
    "start_time": "2023-05-28T19:32:07.394Z"
   },
   {
    "duration": 40,
    "start_time": "2023-05-28T19:32:07.426Z"
   },
   {
    "duration": 6,
    "start_time": "2023-05-28T19:32:07.476Z"
   },
   {
    "duration": 197,
    "start_time": "2023-05-28T19:32:07.484Z"
   },
   {
    "duration": 4,
    "start_time": "2023-05-28T19:32:07.683Z"
   },
   {
    "duration": 12,
    "start_time": "2023-05-28T19:32:07.688Z"
   },
   {
    "duration": 115728,
    "start_time": "2023-05-28T19:32:07.702Z"
   },
   {
    "duration": 282,
    "start_time": "2023-05-28T19:42:22.429Z"
   },
   {
    "duration": 40,
    "start_time": "2023-05-28T19:43:58.773Z"
   },
   {
    "duration": 110,
    "start_time": "2023-05-28T19:44:06.479Z"
   },
   {
    "duration": 126,
    "start_time": "2023-05-28T19:44:20.191Z"
   },
   {
    "duration": 1846,
    "start_time": "2023-05-29T15:21:57.766Z"
   },
   {
    "duration": 18,
    "start_time": "2023-05-29T15:21:59.615Z"
   },
   {
    "duration": 15,
    "start_time": "2023-05-29T15:21:59.635Z"
   },
   {
    "duration": 4,
    "start_time": "2023-05-29T15:21:59.653Z"
   },
   {
    "duration": 17,
    "start_time": "2023-05-29T15:21:59.659Z"
   },
   {
    "duration": 4,
    "start_time": "2023-05-29T15:21:59.678Z"
   },
   {
    "duration": 8,
    "start_time": "2023-05-29T15:21:59.684Z"
   },
   {
    "duration": 24,
    "start_time": "2023-05-29T15:21:59.694Z"
   },
   {
    "duration": 22,
    "start_time": "2023-05-29T15:21:59.720Z"
   },
   {
    "duration": 25,
    "start_time": "2023-05-29T15:21:59.745Z"
   },
   {
    "duration": 6,
    "start_time": "2023-05-29T15:21:59.772Z"
   },
   {
    "duration": 8,
    "start_time": "2023-05-29T15:21:59.780Z"
   },
   {
    "duration": 10,
    "start_time": "2023-05-29T15:21:59.790Z"
   },
   {
    "duration": 33,
    "start_time": "2023-05-29T15:21:59.801Z"
   },
   {
    "duration": 235,
    "start_time": "2023-05-29T15:21:59.835Z"
   },
   {
    "duration": 81812,
    "start_time": "2023-05-29T15:22:00.071Z"
   },
   {
    "duration": 176,
    "start_time": "2023-05-29T15:23:21.884Z"
   },
   {
    "duration": 360,
    "start_time": "2023-05-29T15:23:22.062Z"
   },
   {
    "duration": 74086,
    "start_time": "2023-05-29T15:23:22.424Z"
   },
   {
    "duration": 155,
    "start_time": "2023-05-29T15:24:36.511Z"
   },
   {
    "duration": 90,
    "start_time": "2023-05-29T15:24:36.668Z"
   },
   {
    "duration": 94,
    "start_time": "2023-05-29T15:24:36.763Z"
   },
   {
    "duration": 5,
    "start_time": "2023-05-29T15:24:36.859Z"
   },
   {
    "duration": 29,
    "start_time": "2023-05-29T15:24:36.865Z"
   },
   {
    "duration": 5,
    "start_time": "2023-05-29T15:24:36.896Z"
   },
   {
    "duration": 4,
    "start_time": "2023-05-29T15:24:36.903Z"
   },
   {
    "duration": 48,
    "start_time": "2023-05-29T15:24:36.909Z"
   },
   {
    "duration": 9,
    "start_time": "2023-05-29T15:24:36.962Z"
   },
   {
    "duration": 86,
    "start_time": "2023-05-29T15:24:36.975Z"
   },
   {
    "duration": 200,
    "start_time": "2023-05-29T15:24:37.063Z"
   },
   {
    "duration": 3,
    "start_time": "2023-05-29T15:24:37.265Z"
   },
   {
    "duration": 14,
    "start_time": "2023-05-29T15:24:37.270Z"
   },
   {
    "duration": 91,
    "start_time": "2023-05-29T15:24:37.285Z"
   },
   {
    "duration": 4,
    "start_time": "2023-05-29T15:24:37.377Z"
   },
   {
    "duration": 11,
    "start_time": "2023-05-29T15:24:37.382Z"
   },
   {
    "duration": 3,
    "start_time": "2023-05-29T15:24:37.395Z"
   },
   {
    "duration": 9,
    "start_time": "2023-05-29T15:24:37.400Z"
   },
   {
    "duration": 308,
    "start_time": "2023-05-29T15:24:37.411Z"
   },
   {
    "duration": 155,
    "start_time": "2023-05-29T15:24:37.721Z"
   },
   {
    "duration": 107832,
    "start_time": "2023-05-29T15:24:37.957Z"
   },
   {
    "duration": 9,
    "start_time": "2023-05-29T15:26:25.791Z"
   },
   {
    "duration": 161,
    "start_time": "2023-05-29T15:26:25.801Z"
   },
   {
    "duration": 99,
    "start_time": "2023-05-29T15:26:25.964Z"
   },
   {
    "duration": 54773,
    "start_time": "2023-05-29T15:26:26.065Z"
   },
   {
    "duration": 18,
    "start_time": "2023-05-29T15:27:20.839Z"
   },
   {
    "duration": 6,
    "start_time": "2023-05-29T15:27:20.859Z"
   },
   {
    "duration": 99,
    "start_time": "2023-05-29T15:27:20.867Z"
   },
   {
    "duration": 106,
    "start_time": "2023-05-29T15:27:20.967Z"
   },
   {
    "duration": 15,
    "start_time": "2023-05-29T15:27:21.074Z"
   },
   {
    "duration": 29,
    "start_time": "2023-05-29T15:27:21.091Z"
   },
   {
    "duration": 36,
    "start_time": "2023-05-29T15:27:21.121Z"
   },
   {
    "duration": 13,
    "start_time": "2023-05-29T15:27:21.159Z"
   },
   {
    "duration": 32,
    "start_time": "2023-05-29T15:27:21.174Z"
   },
   {
    "duration": 211,
    "start_time": "2023-05-29T15:27:21.207Z"
   },
   {
    "duration": 4,
    "start_time": "2023-05-29T15:27:21.419Z"
   },
   {
    "duration": 23,
    "start_time": "2023-05-29T15:27:21.425Z"
   },
   {
    "duration": 313,
    "start_time": "2023-05-29T15:27:21.450Z"
   },
   {
    "duration": 36,
    "start_time": "2023-05-29T15:27:21.765Z"
   },
   {
    "duration": 145,
    "start_time": "2023-05-29T15:27:21.803Z"
   }
  ],
  "kernelspec": {
   "display_name": "Python 3 (ipykernel)",
   "language": "python",
   "name": "python3"
  },
  "language_info": {
   "codemirror_mode": {
    "name": "ipython",
    "version": 3
   },
   "file_extension": ".py",
   "mimetype": "text/x-python",
   "name": "python",
   "nbconvert_exporter": "python",
   "pygments_lexer": "ipython3",
   "version": "3.10.9"
  },
  "toc": {
   "base_numbering": 1,
   "nav_menu": {},
   "number_sections": true,
   "sideBar": true,
   "skip_h1_title": true,
   "title_cell": "Содержание",
   "title_sidebar": "Contents",
   "toc_cell": true,
   "toc_position": {
    "height": "calc(100% - 180px)",
    "left": "10px",
    "top": "150px",
    "width": "165px"
   },
   "toc_section_display": true,
   "toc_window_display": true
  }
 },
 "nbformat": 4,
 "nbformat_minor": 2
}
